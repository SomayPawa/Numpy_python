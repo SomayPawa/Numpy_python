{
 "cells": [
  {
   "cell_type": "markdown",
   "id": "548cc5f5-46db-45d6-9b1a-65e36b9369a7",
   "metadata": {},
   "source": [
    "welcome to jupyter"
   ]
  },
  {
   "cell_type": "markdown",
   "id": "2d8baf67",
   "metadata": {},
   "source": [
    "learn about numpy"
   ]
  },
  {
   "cell_type": "code",
   "execution_count": 4,
   "id": "ca967071-bb7b-4558-99fe-9f6270e1c298",
   "metadata": {},
   "outputs": [],
   "source": [
    "import numpy as np"
   ]
  },
  {
   "cell_type": "markdown",
   "id": "2336a326",
   "metadata": {},
   "source": [
    "creating array from list"
   ]
  },
  {
   "cell_type": "code",
   "execution_count": 8,
   "id": "9f88d484",
   "metadata": {},
   "outputs": [
    {
     "name": "stdout",
     "output_type": "stream",
     "text": [
      "1d array  [1 2 3 4 5]\n",
      "2d array  [[1 2 3]\n",
      " [4 5 6]]\n"
     ]
    }
   ],
   "source": [
    "arr_1d = np.array([1,2,3,4,5])\n",
    "print(\"1d array \",arr_1d);\n",
    "\n",
    "arr_2d = np.array([[1,2,3],[4,5,6]]);\n",
    "print(\"2d array \",arr_2d);"
   ]
  },
  {
   "cell_type": "markdown",
   "id": "befc3298",
   "metadata": {},
   "source": [
    "### list vs numpy array"
   ]
  },
  {
   "cell_type": "code",
   "execution_count": 11,
   "id": "37fa5e07",
   "metadata": {},
   "outputs": [
    {
     "name": "stdout",
     "output_type": "stream",
     "text": [
      "python list multiplication  [1, 2, 3, 1, 2, 3]\n",
      "python array multiplication  [2 4 6]\n",
      "list operation time:  0.14995527267456055\n",
      "numpy operation time  0.0070226192474365234\n"
     ]
    }
   ],
   "source": [
    "py_list = [1,2,3]\n",
    "print(\"python list multiplication \",py_list*2);\n",
    "\n",
    "np_array = np.array([1,2,3]);\n",
    "print(\"python array multiplication \",np_array*2);\n",
    "\n",
    "\n",
    "import time\n",
    "start = time.time()\n",
    "py_list = [i*2 for i in range(1000000)]\n",
    "print(\"list operation time: \",time.time()-start);\n",
    "\n",
    "start = time.time()\n",
    "np_array = np.arange(1000000)*2 # start,stop,end\n",
    "print(\"numpy operation time \",time.time()-start);"
   ]
  },
  {
   "cell_type": "markdown",
   "id": "d71a69e4",
   "metadata": {},
   "source": [
    "### creating array from scratch"
   ]
  },
  {
   "cell_type": "code",
   "execution_count": 17,
   "id": "97b37ecc",
   "metadata": {},
   "outputs": [
    {
     "name": "stdout",
     "output_type": "stream",
     "text": [
      "zeros array \n",
      " [[0. 0. 0. 0.]\n",
      " [0. 0. 0. 0.]\n",
      " [0. 0. 0. 0.]]\n",
      "ones array:  [[1. 1. 1.]\n",
      " [1. 1. 1.]]\n",
      "full array \n",
      " [[7 7]\n",
      " [7 7]]\n",
      "random array \n",
      " [[0.70491395 0.84266333 0.40611021]\n",
      " [0.31228293 0.16052917 0.9189828 ]]\n",
      "sequence array \n",
      " [0 2 4 6 8]\n"
     ]
    }
   ],
   "source": [
    "zeros = np.zeros((3,4));\n",
    "print(\"zeros array \\n\",zeros);\n",
    "\n",
    "ones = np.ones((2,3));\n",
    "print(\"ones array: \",ones);\n",
    "\n",
    "full = np.full((2,2),7);\n",
    "print(\"full array \\n\",full) # matrix row,column size and constant value is 7\n",
    "\n",
    "random = np.random.random((2,3)); # matrix with random value\n",
    "print(\"random array \\n\",random);\n",
    "\n",
    "sequence = np.arange(0,10,2);\n",
    "print(\"sequence array \\n\",sequence); # start,stop,steps"
   ]
  },
  {
   "cell_type": "markdown",
   "id": "0dc3b33f",
   "metadata": {},
   "source": [
    "### vector matrix and tensor\n"
   ]
  },
  {
   "cell_type": "code",
   "execution_count": 21,
   "id": "f84a89fb",
   "metadata": {},
   "outputs": [
    {
     "name": "stdout",
     "output_type": "stream",
     "text": [
      "vector  [1 2 3]\n",
      "matrix  [[1 2 3]\n",
      " [4 5 6]]\n",
      "tensor:  [[[1 2]\n",
      "  [3 4]]\n",
      "\n",
      " [[5 6]\n",
      "  [7 8]]]\n"
     ]
    }
   ],
   "source": [
    "vector = np.array([1,2,3])\n",
    "print(\"vector \",vector)\n",
    "\n",
    "matrix = np.array([[1,2,3],[4,5,6]])\n",
    "print(\"matrix \",matrix);\n",
    "\n",
    "tensor = np.array([\n",
    "                   [[1,2],[3,4]],\n",
    "                   [[5,6],[7,8]]\n",
    "                   ]);\n",
    "print(\"tensor: \",tensor);"
   ]
  },
  {
   "cell_type": "markdown",
   "id": "11b51882",
   "metadata": {},
   "source": [
    "### array properties\n"
   ]
  },
  {
   "cell_type": "code",
   "execution_count": 31,
   "id": "20113720",
   "metadata": {},
   "outputs": [
    {
     "name": "stdout",
     "output_type": "stream",
     "text": [
      "shape is  (2, 3)\n",
      "dimension  2\n",
      "size:  6\n",
      "data type:  int32\n"
     ]
    }
   ],
   "source": [
    "arr = np.array([[1,2,3],[4,5,6]]);\n",
    "print(\"shape is \",arr.shape);\n",
    "print(\"dimension \",arr.ndim);\n",
    "print(\"size: \",arr.size);\n",
    "print(\"data type: \",arr.dtype);\n",
    "\n"
   ]
  },
  {
   "cell_type": "markdown",
   "id": "039c0edb",
   "metadata": {},
   "source": [
    "### array shaping"
   ]
  },
  {
   "cell_type": "code",
   "execution_count": 37,
   "id": "cc75a888",
   "metadata": {},
   "outputs": [
    {
     "name": "stdout",
     "output_type": "stream",
     "text": [
      "original array [ 0  1  2  3  4  5  6  7  8  9 10 11]\n",
      "reshaped array  [[ 0  1  2  3]\n",
      " [ 4  5  6  7]\n",
      " [ 8  9 10 11]]\n",
      "flattened array  [ 0  1  2  3  4  5  6  7  8  9 10 11]\n",
      "raveled array  [ 0  1  2  3  4  5  6  7  8  9 10 11]\n",
      "transpose array  [[ 0  4  8]\n",
      " [ 1  5  9]\n",
      " [ 2  6 10]\n",
      " [ 3  7 11]]\n"
     ]
    }
   ],
   "source": [
    "arr = np.arange(12)\n",
    "print(\"original array\",arr)\n",
    "\n",
    "reshaped = arr.reshape((3,4))\n",
    "print(\"reshaped array \",reshaped);\n",
    "\n",
    "flattened = arr.flatten()\n",
    "print(\"flattened array \",flattened);\n",
    "\n",
    "# ravel (return original , instead of copy)\n",
    "raveled = reshaped.ravel();\n",
    "print(\"raveled array \",raveled);\n",
    "\n",
    "#transpose\n",
    "transpose = reshaped.T;\n",
    "print(\"transpose array \",transpose)"
   ]
  }
 ],
 "metadata": {
  "kernelspec": {
   "display_name": "Python 3",
   "language": "python",
   "name": "python3"
  },
  "language_info": {
   "codemirror_mode": {
    "name": "ipython",
    "version": 3
   },
   "file_extension": ".py",
   "mimetype": "text/x-python",
   "name": "python",
   "nbconvert_exporter": "python",
   "pygments_lexer": "ipython3",
   "version": "3.12.2"
  }
 },
 "nbformat": 4,
 "nbformat_minor": 5
}
