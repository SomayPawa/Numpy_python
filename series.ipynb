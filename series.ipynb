{
 "cells": [
  {
   "cell_type": "markdown",
   "id": "a7f6823b",
   "metadata": {},
   "source": [
    "## pandas series "
   ]
  },
  {
   "cell_type": "code",
   "execution_count": 3,
   "id": "b3dcf58a",
   "metadata": {},
   "outputs": [],
   "source": [
    "import numpy as np\n",
    "import pandas as pd"
   ]
  },
  {
   "cell_type": "code",
   "execution_count": 18,
   "id": "d4b9b6ba",
   "metadata": {},
   "outputs": [],
   "source": [
    "labels = ['a','b','c'];\n",
    "my_list = [10,20,30];\n",
    "arr = np.array([10,20,30]);\n",
    "d = {1:10,2:20,3:30};\n",
    "\n"
   ]
  },
  {
   "cell_type": "code",
   "execution_count": 19,
   "id": "c6e7fb70",
   "metadata": {},
   "outputs": [
    {
     "data": {
      "text/plain": [
       "0    10\n",
       "1    20\n",
       "2    30\n",
       "dtype: int64"
      ]
     },
     "execution_count": 19,
     "metadata": {},
     "output_type": "execute_result"
    }
   ],
   "source": [
    "pd.Series(my_list) # here i am getting label and data points"
   ]
  },
  {
   "cell_type": "code",
   "execution_count": 20,
   "id": "a0868b6c",
   "metadata": {},
   "outputs": [
    {
     "data": {
      "text/plain": [
       "a    10\n",
       "b    20\n",
       "c    30\n",
       "dtype: int64"
      ]
     },
     "execution_count": 20,
     "metadata": {},
     "output_type": "execute_result"
    }
   ],
   "source": [
    "pd.Series(my_list,index=labels)"
   ]
  },
  {
   "cell_type": "code",
   "execution_count": 21,
   "id": "ec71b233",
   "metadata": {},
   "outputs": [],
   "source": [
    "pd.Series(arr);\n"
   ]
  },
  {
   "cell_type": "code",
   "execution_count": 24,
   "id": "0f2e54d7",
   "metadata": {},
   "outputs": [
    {
     "data": {
      "text/plain": [
       "1    10\n",
       "2    20\n",
       "3    30\n",
       "dtype: int64"
      ]
     },
     "execution_count": 24,
     "metadata": {},
     "output_type": "execute_result"
    }
   ],
   "source": [
    "pd.Series(arr,index=labels);\n",
    "pd.Series(d)"
   ]
  },
  {
   "cell_type": "code",
   "execution_count": null,
   "id": "899bf7fb",
   "metadata": {},
   "outputs": [],
   "source": []
  }
 ],
 "metadata": {
  "kernelspec": {
   "display_name": "Python 3",
   "language": "python",
   "name": "python3"
  },
  "language_info": {
   "codemirror_mode": {
    "name": "ipython",
    "version": 3
   },
   "file_extension": ".py",
   "mimetype": "text/x-python",
   "name": "python",
   "nbconvert_exporter": "python",
   "pygments_lexer": "ipython3",
   "version": "3.12.2"
  }
 },
 "nbformat": 4,
 "nbformat_minor": 5
}
