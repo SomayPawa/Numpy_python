{
 "cells": [
  {
   "cell_type": "markdown",
   "id": "ad509818",
   "metadata": {},
   "source": [
    "## numpy array operations\n"
   ]
  },
  {
   "cell_type": "code",
   "execution_count": 1,
   "id": "9523df51",
   "metadata": {},
   "outputs": [],
   "source": [
    "import numpy as np"
   ]
  },
  {
   "cell_type": "code",
   "execution_count": 6,
   "id": "62a13daf",
   "metadata": {},
   "outputs": [
    {
     "name": "stdout",
     "output_type": "stream",
     "text": [
      "basic slicing  [2 3 4 5]\n",
      "basic slicing with step  [2 4]\n"
     ]
    }
   ],
   "source": [
    "arr = np.array([1,2,3,4,5,6,7,8,9]);\n",
    "print(\"basic slicing \",arr[1:5]);\n",
    "print(\"basic slicing with step \",arr[1:5:2]);"
   ]
  },
  {
   "cell_type": "code",
   "execution_count": 9,
   "id": "43df69c0",
   "metadata": {},
   "outputs": [
    {
     "name": "stdout",
     "output_type": "stream",
     "text": [
      "specific element  6\n",
      "entire row  [7 8 9]\n",
      "entire row  [3 6 9]\n"
     ]
    }
   ],
   "source": [
    "arr_2d = np.array([[1,2,3],\n",
    "                   [4,5,6],\n",
    "                   [7,8,9]]);\n",
    "\n",
    "print(\"specific element \",arr_2d[1,2]);\n",
    "print(\"entire row \",arr_2d[2]);\n",
    "print(\"entire row \",arr_2d[:,2]);"
   ]
  },
  {
   "cell_type": "markdown",
   "id": "00140c2f",
   "metadata": {},
   "source": [
    "## sorting concept"
   ]
  },
  {
   "cell_type": "code",
   "execution_count": 13,
   "id": "80d2901f",
   "metadata": {},
   "outputs": [
    {
     "name": "stdout",
     "output_type": "stream",
     "text": [
      "sorted array  [0 1 3 3 5 7 9]\n",
      "sorted 2d array  [[1 0 2]\n",
      " [1 9 3]\n",
      " [4 9 3]]\n",
      "sorted 2d array  [[1 3 9]\n",
      " [0 2 4]\n",
      " [1 3 9]]\n"
     ]
    }
   ],
   "source": [
    "unsorted = np.array([3,7,5,3,1,0,9]);\n",
    "print(\"sorted array \",np.sort(unsorted));\n",
    "\n",
    "unsorted_2d = np.array([[1,9,3],\n",
    "                        [4,0,2],\n",
    "                        [1,9,3]]);\n",
    "\n",
    "print(\"sorted 2d array \",np.sort(unsorted_2d,axis=0));\n",
    "print(\"sorted 2d array \",np.sort(unsorted_2d,axis=1));\n",
    "\n"
   ]
  },
  {
   "cell_type": "markdown",
   "id": "acdaa717",
   "metadata": {},
   "source": [
    "## filtering"
   ]
  },
  {
   "cell_type": "code",
   "execution_count": 17,
   "id": "ab00c785",
   "metadata": {},
   "outputs": [
    {
     "name": "stdout",
     "output_type": "stream",
     "text": [
      "even number  [2 4 4 6 8]\n"
     ]
    }
   ],
   "source": [
    "number = np.array([1,2,4,4,6,7,9,8,5]);\n",
    "\n",
    "even_number = number[number % 2 == 0];\n",
    "\n",
    "print(\"even number \",even_number);"
   ]
  },
  {
   "cell_type": "markdown",
   "id": "c5609d43",
   "metadata": {},
   "source": [
    "## filter with mask"
   ]
  },
  {
   "cell_type": "code",
   "execution_count": 19,
   "id": "7f27c7a0",
   "metadata": {},
   "outputs": [
    {
     "name": "stdout",
     "output_type": "stream",
     "text": [
      "number greater then 5  [6 7 9 8]\n"
     ]
    }
   ],
   "source": [
    "mask = number > 5\n",
    "print(\"number greater then 5 \",number[mask])"
   ]
  },
  {
   "cell_type": "markdown",
   "id": "5b96e94a",
   "metadata": {},
   "source": [
    "### fancy indexing vs np.where()"
   ]
  },
  {
   "cell_type": "code",
   "execution_count": 23,
   "id": "f73601e0",
   "metadata": {},
   "outputs": [
    {
     "name": "stdout",
     "output_type": "stream",
     "text": [
      "number  [2 4 4]\n",
      "np where  [6 7 9 8]\n"
     ]
    }
   ],
   "source": [
    "indices = [1,2,3];\n",
    "print(\"number \",number[indices]);\n",
    "\n",
    "where_result = np.where(number>5);\n",
    "print(\"np where \",number[where_result]);"
   ]
  },
  {
   "cell_type": "code",
   "execution_count": 27,
   "id": "7b711136",
   "metadata": {},
   "outputs": [
    {
     "name": "stdout",
     "output_type": "stream",
     "text": [
      "['false' 'false' 'false' 'false' 'true' 'true' 'true' 'true' 'false']\n",
      "[ 1  2  4  4 12 14 18 16  5]\n"
     ]
    }
   ],
   "source": [
    "condition_array = np.where(number>5 , number*2,number);  # number > 5 then to number * 2 other wise give me number \n",
    "cond_boolean = np.where(number > 5 , \"true\",\"false\");\n",
    "print(cond_boolean)\n",
    "print(condition_array);"
   ]
  },
  {
   "cell_type": "markdown",
   "id": "6df11154",
   "metadata": {},
   "source": [
    "## adding and removing data"
   ]
  },
  {
   "cell_type": "code",
   "execution_count": 29,
   "id": "071b429c",
   "metadata": {},
   "outputs": [
    {
     "name": "stdout",
     "output_type": "stream",
     "text": [
      "[1 2 3 4 5 6]\n"
     ]
    }
   ],
   "source": [
    "arr1 = np.array([1,2,3]);\n",
    "arr2 = np.array([4,5,6]);\n",
    "\n",
    "combined = np.concatenate((arr1,arr2))\n",
    "print(combined);"
   ]
  },
  {
   "cell_type": "markdown",
   "id": "bd098d00",
   "metadata": {},
   "source": [
    "### compatibility"
   ]
  },
  {
   "cell_type": "code",
   "execution_count": 33,
   "id": "1a428247",
   "metadata": {},
   "outputs": [
    {
     "name": "stdout",
     "output_type": "stream",
     "text": [
      "compatibility shapes  True\n"
     ]
    }
   ],
   "source": [
    "a = np.array([1,2,3]);\n",
    "b = np.array([4,5,6]);\n",
    "\n",
    "print(\"compatibility shapes \",a.shape == b.shape);"
   ]
  },
  {
   "cell_type": "code",
   "execution_count": 36,
   "id": "da23d74c",
   "metadata": {},
   "outputs": [
    {
     "name": "stdout",
     "output_type": "stream",
     "text": [
      "[[1 2]\n",
      " [3 4]]\n",
      "[[1 2]\n",
      " [3 4]\n",
      " [5 6]]\n",
      "[[1 2 7]\n",
      " [3 4 8]]\n"
     ]
    }
   ],
   "source": [
    "original = np.array([[1,2],[3,4]]);\n",
    "new_row = np.array([[5,6]]);\n",
    "\n",
    "Add_new_row = np.vstack((original,new_row));\n",
    "\n",
    "print(original);\n",
    "\n",
    "print(Add_new_row);\n",
    "\n",
    "new_col = np.array([[7],[8]]);\n",
    "\n",
    "Add_new_col = np.hstack((original,new_col));\n",
    "\n",
    "print(Add_new_col);"
   ]
  },
  {
   "cell_type": "code",
   "execution_count": 37,
   "id": "d3618a64",
   "metadata": {},
   "outputs": [
    {
     "name": "stdout",
     "output_type": "stream",
     "text": [
      "[1 2 4]\n"
     ]
    }
   ],
   "source": [
    "# delete operation\n",
    "\n",
    "arr = np.array([1,2,3,4]);\n",
    "\n",
    "deleted = np.delete(arr,2);\n",
    "\n",
    "print(deleted)"
   ]
  }
 ],
 "metadata": {
  "kernelspec": {
   "display_name": "Python 3",
   "language": "python",
   "name": "python3"
  },
  "language_info": {
   "codemirror_mode": {
    "name": "ipython",
    "version": 3
   },
   "file_extension": ".py",
   "mimetype": "text/x-python",
   "name": "python",
   "nbconvert_exporter": "python",
   "pygments_lexer": "ipython3",
   "version": "3.12.2"
  }
 },
 "nbformat": 4,
 "nbformat_minor": 5
}
