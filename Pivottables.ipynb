{
 "cells": [
  {
   "cell_type": "code",
   "execution_count": 2,
   "id": "c08be34f",
   "metadata": {},
   "outputs": [],
   "source": [
    "import numpy as np\n",
    "import pandas as pd;\n"
   ]
  },
  {
   "cell_type": "code",
   "execution_count": null,
   "id": "0b4b4fe3",
   "metadata": {},
   "outputs": [
    {
     "name": "stdout",
     "output_type": "stream",
     "text": [
      "Original DataFrame:\n",
      "      Category    Store  Sales  Quantity       Date\n",
      "0  Electronics  Store A   2000         5 2025-07-01\n",
      "1  Electronics  Store B   2500         6 2025-07-02\n",
      "2     Clothing  Store A   1500         8 2025-07-01\n",
      "3     Clothing  Store B   1800         7 2025-07-02\n",
      "4      Grocery  Store A    800        20 2025-07-01\n",
      "5      Grocery  Store B    900        18 2025-07-02\n"
     ]
    }
   ],
   "source": [
    "\n",
    "data = {\n",
    "    'Category': ['Electronics', 'Electronics', 'Clothing', 'Clothing', 'Grocery', 'Grocery'],\n",
    "    'Store': ['Store A', 'Store B', 'Store A', 'Store B', 'Store A', 'Store B'],\n",
    "    'Sales': [2000, 2500, 1500, 1800, 800, 900],\n",
    "    'Quantity': [5, 6, 8, 7, 20, 18],\n",
    "    'Date': pd.to_datetime([\n",
    "        '2025-07-01', '2025-07-02',\n",
    "        '2025-07-01', '2025-07-02',\n",
    "        '2025-07-01', '2025-07-02'\n",
    "    ])\n",
    "}\n",
    "\n",
    "df = pd.DataFrame(data)\n",
    "print(\"Original DataFrame:\")\n",
    "print(df)\n"
   ]
  },
  {
   "cell_type": "code",
   "execution_count": 6,
   "id": "cee78a50",
   "metadata": {},
   "outputs": [
    {
     "name": "stdout",
     "output_type": "stream",
     "text": [
      "\n",
      "Total Sales per Category & Store:\n",
      "Store        Store A  Store B\n",
      "Category                     \n",
      "Clothing        1500     1800\n",
      "Electronics     2000     2500\n",
      "Grocery          800      900\n"
     ]
    }
   ],
   "source": [
    "pivot_sales = pd.pivot_table(df, \n",
    "                              values='Sales', \n",
    "                              index='Category', \n",
    "                              columns='Store', \n",
    "                              aggfunc='sum')\n",
    "print(\"\\nTotal Sales per Category & Store:\")\n",
    "print(pivot_sales)\n"
   ]
  },
  {
   "cell_type": "code",
   "execution_count": 10,
   "id": "6bc9c1e1",
   "metadata": {},
   "outputs": [
    {
     "name": "stdout",
     "output_type": "stream",
     "text": [
      "Store        Store A  Store B\n",
      "Category                     \n",
      "Clothing           1        1\n",
      "Electronics        1        1\n",
      "Grocery            1        1\n"
     ]
    }
   ],
   "source": [
    "print(pd.crosstab(df['Category'],df['Store']));"
   ]
  },
  {
   "cell_type": "code",
   "execution_count": null,
   "id": "db46c6c5",
   "metadata": {},
   "outputs": [],
   "source": []
  }
 ],
 "metadata": {
  "kernelspec": {
   "display_name": "Python 3",
   "language": "python",
   "name": "python3"
  },
  "language_info": {
   "codemirror_mode": {
    "name": "ipython",
    "version": 3
   },
   "file_extension": ".py",
   "mimetype": "text/x-python",
   "name": "python",
   "nbconvert_exporter": "python",
   "pygments_lexer": "ipython3",
   "version": "3.12.2"
  }
 },
 "nbformat": 4,
 "nbformat_minor": 5
}
