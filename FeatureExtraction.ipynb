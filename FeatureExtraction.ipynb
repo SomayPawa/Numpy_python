{
 "cells": [
  {
   "cell_type": "markdown",
   "id": "ba477930",
   "metadata": {},
   "source": [
    "### Loading the data"
   ]
  },
  {
   "cell_type": "code",
   "execution_count": 1,
   "id": "a1facb07",
   "metadata": {},
   "outputs": [],
   "source": [
    "import pandas as pd;\n",
    "import numpy as np;"
   ]
  },
  {
   "cell_type": "markdown",
   "id": "18a90ffc",
   "metadata": {},
   "source": [
    "# Questions"
   ]
  },
  {
   "cell_type": "markdown",
   "id": "da149d0d",
   "metadata": {},
   "source": [
    "### make a new column for episode count"
   ]
  },
  {
   "cell_type": "markdown",
   "id": "6d9f79d1",
   "metadata": {},
   "source": [
    "### make a new column for time stamp\n",
    "### which anime has highest score\n",
    "### give me top 5 highest scoring anime\n",
    "### which anime has the highest episode count\n",
    "### anime with top 5 episode count\n",
    "### which is the longest running anime"
   ]
  },
  {
   "cell_type": "code",
   "execution_count": 14,
   "id": "b6e7f0f5",
   "metadata": {},
   "outputs": [],
   "source": [
    "df = pd.read_csv(r\"anime.csv\")"
   ]
  },
  {
   "cell_type": "code",
   "execution_count": 15,
   "id": "736e9275",
   "metadata": {},
   "outputs": [
    {
     "name": "stdout",
     "output_type": "stream",
     "text": [
      "                                                  Title  Score  Ranked\n",
      "0        Sousou no FrierenFrieren: Beyond Journey's End   9.14     1.0\n",
      "1                      Fullmetal Alchemist: Brotherhood   9.09     2.0\n",
      "2                                           Steins;Gate   9.07     3.0\n",
      "3                              Gintama°Gintama Season 4   9.06     4.0\n",
      "4     Shingeki no Kyojin Season 3 Part 2Attack on Ti...   9.05     5.0\n",
      "...                                                 ...    ...     ...\n",
      "9995       Sword Art Online: Alicization - Recollection   6.81  5000.0\n",
      "9996  Taimadou Gakuen 35 Shiken ShoutaiAnti-Magic Ac...   6.81  5001.0\n",
      "9997         Taiyou no Mokushiroku: A Spirit of the Sun   6.81  5002.0\n",
      "9998                   Weiß Kreuz OVAKnight Hunters OVA   6.81  5003.0\n",
      "9999          Wo Shi Da Shenxian 2nd SeasonDa Shen Xian   6.81  5004.0\n",
      "\n",
      "[10000 rows x 3 columns]\n"
     ]
    }
   ],
   "source": [
    "print(df)"
   ]
  },
  {
   "cell_type": "code",
   "execution_count": 16,
   "id": "69f75840",
   "metadata": {},
   "outputs": [
    {
     "data": {
      "text/html": [
       "<div>\n",
       "<style scoped>\n",
       "    .dataframe tbody tr th:only-of-type {\n",
       "        vertical-align: middle;\n",
       "    }\n",
       "\n",
       "    .dataframe tbody tr th {\n",
       "        vertical-align: top;\n",
       "    }\n",
       "\n",
       "    .dataframe thead th {\n",
       "        text-align: right;\n",
       "    }\n",
       "</style>\n",
       "<table border=\"1\" class=\"dataframe\">\n",
       "  <thead>\n",
       "    <tr style=\"text-align: right;\">\n",
       "      <th></th>\n",
       "      <th>Title</th>\n",
       "      <th>Score</th>\n",
       "      <th>Ranked</th>\n",
       "    </tr>\n",
       "  </thead>\n",
       "  <tbody>\n",
       "    <tr>\n",
       "      <th>0</th>\n",
       "      <td>Sousou no FrierenFrieren: Beyond Journey's End</td>\n",
       "      <td>9.14</td>\n",
       "      <td>1.0</td>\n",
       "    </tr>\n",
       "    <tr>\n",
       "      <th>1</th>\n",
       "      <td>Fullmetal Alchemist: Brotherhood</td>\n",
       "      <td>9.09</td>\n",
       "      <td>2.0</td>\n",
       "    </tr>\n",
       "    <tr>\n",
       "      <th>2</th>\n",
       "      <td>Steins;Gate</td>\n",
       "      <td>9.07</td>\n",
       "      <td>3.0</td>\n",
       "    </tr>\n",
       "    <tr>\n",
       "      <th>3</th>\n",
       "      <td>Gintama°Gintama Season 4</td>\n",
       "      <td>9.06</td>\n",
       "      <td>4.0</td>\n",
       "    </tr>\n",
       "    <tr>\n",
       "      <th>4</th>\n",
       "      <td>Shingeki no Kyojin Season 3 Part 2Attack on Ti...</td>\n",
       "      <td>9.05</td>\n",
       "      <td>5.0</td>\n",
       "    </tr>\n",
       "  </tbody>\n",
       "</table>\n",
       "</div>"
      ],
      "text/plain": [
       "                                               Title  Score  Ranked\n",
       "0     Sousou no FrierenFrieren: Beyond Journey's End   9.14     1.0\n",
       "1                   Fullmetal Alchemist: Brotherhood   9.09     2.0\n",
       "2                                        Steins;Gate   9.07     3.0\n",
       "3                           Gintama°Gintama Season 4   9.06     4.0\n",
       "4  Shingeki no Kyojin Season 3 Part 2Attack on Ti...   9.05     5.0"
      ]
     },
     "execution_count": 16,
     "metadata": {},
     "output_type": "execute_result"
    }
   ],
   "source": [
    "df.head()"
   ]
  },
  {
   "cell_type": "code",
   "execution_count": 18,
   "id": "23972ee6",
   "metadata": {},
   "outputs": [
    {
     "data": {
      "text/plain": [
       "Title     Fullmetal Alchemist: Brotherhood\n",
       "Score                                 9.09\n",
       "Ranked                                 2.0\n",
       "Name: 1, dtype: object"
      ]
     },
     "execution_count": 18,
     "metadata": {},
     "output_type": "execute_result"
    }
   ],
   "source": [
    "df.loc[1] # loc means location"
   ]
  },
  {
   "cell_type": "code",
   "execution_count": 21,
   "id": "2136eaf0",
   "metadata": {},
   "outputs": [
    {
     "name": "stdout",
     "output_type": "stream",
     "text": [
      "Fullmetal Alchemist: Brotherhood\n"
     ]
    }
   ],
   "source": [
    "print(df.loc[1]['Title']);"
   ]
  },
  {
   "cell_type": "code",
   "execution_count": 24,
   "id": "fbfe9398",
   "metadata": {},
   "outputs": [],
   "source": [
    "def extractepi(txt):\n",
    "    if not isinstance(txt, str):  # If not a string (NaN, float, etc.)\n",
    "        return \"\" \n",
    "    check = False\n",
    "    data = \"\"\n",
    "    for i in txt:\n",
    "        if i == '(':\n",
    "            check = True\n",
    "        if check == True:\n",
    "            data += i;\n",
    "        if i==')':\n",
    "            break;\n",
    "        \n",
    "    return data;\n"
   ]
  },
  {
   "cell_type": "code",
   "execution_count": 27,
   "id": "9b4b6585",
   "metadata": {},
   "outputs": [],
   "source": [
    "df[\"Ep\"] = df[\"Title\"].apply(extractepi);"
   ]
  },
  {
   "cell_type": "code",
   "execution_count": 33,
   "id": "c970ba2e",
   "metadata": {},
   "outputs": [],
   "source": [
    "#df[\"Ep\"].str.replace(\" eps\",\"\");\n",
    "\n",
    "#df[\"Ep\"] = df[\"Ep\"].astype(int);"
   ]
  },
  {
   "cell_type": "code",
   "execution_count": 34,
   "id": "e5c7931b",
   "metadata": {},
   "outputs": [
    {
     "data": {
      "text/plain": [
       "0       Sousou no FrierenFrieren: Beyond Journey's End\n",
       "5000    Sousou no FrierenFrieren: Beyond Journey's End\n",
       "Name: Title, dtype: object"
      ]
     },
     "execution_count": 34,
     "metadata": {},
     "output_type": "execute_result"
    }
   ],
   "source": [
    "df[df['Score'] == df['Score'].max()]['Title'] "
   ]
  }
 ],
 "metadata": {
  "kernelspec": {
   "display_name": "Python 3",
   "language": "python",
   "name": "python3"
  },
  "language_info": {
   "codemirror_mode": {
    "name": "ipython",
    "version": 3
   },
   "file_extension": ".py",
   "mimetype": "text/x-python",
   "name": "python",
   "nbconvert_exporter": "python",
   "pygments_lexer": "ipython3",
   "version": "3.12.2"
  }
 },
 "nbformat": 4,
 "nbformat_minor": 5
}
