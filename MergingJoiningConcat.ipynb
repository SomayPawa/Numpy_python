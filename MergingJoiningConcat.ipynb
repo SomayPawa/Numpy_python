{
 "cells": [
  {
   "cell_type": "code",
   "execution_count": 1,
   "id": "d357501c",
   "metadata": {},
   "outputs": [],
   "source": [
    "import numpy as np\n",
    "import pandas as pd"
   ]
  },
  {
   "cell_type": "markdown",
   "id": "def4fc83",
   "metadata": {},
   "source": [
    "### merging 2 dataframes "
   ]
  },
  {
   "cell_type": "code",
   "execution_count": 3,
   "id": "563e1b6b",
   "metadata": {},
   "outputs": [
    {
     "name": "stdout",
     "output_type": "stream",
     "text": [
      "DataFrame 1:\n",
      "   ID     Name   Age         City\n",
      "0   1    Alice  25.0     New York\n",
      "1   2      Bob  30.0  Los Angeles\n",
      "2   3  Charlie   NaN      Chicago\n",
      "3   4    David  40.0      Houston\n",
      "\n",
      "DataFrame 2:\n",
      "   ID Department   Salary     City\n",
      "0   3         HR  60000.0  Chicago\n",
      "1   4         IT  75000.0  Houston\n",
      "2   5    Finance  80000.0   Boston\n",
      "3   6  Marketing      NaN    Miami\n"
     ]
    }
   ],
   "source": [
    "data1 = {\n",
    "    'ID': [1, 2, 3, 4],\n",
    "    'Name': ['Alice', 'Bob', 'Charlie', 'David'],\n",
    "    'Age': [25, 30, np.nan, 40],\n",
    "    'City': ['New York', 'Los Angeles', 'Chicago', 'Houston']\n",
    "}\n",
    "df1 = pd.DataFrame(data1)\n",
    "\n",
    "# Second DataFrame\n",
    "data2 = {\n",
    "    'ID': [3, 4, 5, 6],\n",
    "    'Department': ['HR', 'IT', 'Finance', 'Marketing'],\n",
    "    'Salary': [60000, 75000, 80000, np.nan],\n",
    "    'City': ['Chicago', 'Houston', 'Boston', 'Miami']\n",
    "}\n",
    "df2 = pd.DataFrame(data2)\n",
    "\n",
    "print(\"DataFrame 1:\")\n",
    "print(df1)\n",
    "print(\"\\nDataFrame 2:\")\n",
    "print(df2)"
   ]
  },
  {
   "cell_type": "code",
   "execution_count": 28,
   "id": "e1182cc3",
   "metadata": {},
   "outputs": [],
   "source": [
    "lst = {'Salary':60000.0};\n",
    "\n",
    "df2.fillna(value=lst,inplace=True)\n",
    "\n",
    "lst2 = {'Age':26}\n",
    "\n",
    "df1.fillna(value=lst2,inplace=True);"
   ]
  },
  {
   "cell_type": "code",
   "execution_count": 33,
   "id": "fdd07894",
   "metadata": {},
   "outputs": [
    {
     "name": "stdout",
     "output_type": "stream",
     "text": [
      "   ID     Name   Age         City\n",
      "0   1    Alice  25.0     New York\n",
      "1   2      Bob  30.0  Los Angeles\n",
      "2   3  Charlie  26.0      Chicago\n",
      "3   4    David  40.0      Houston\n",
      "   ID Department   Salary     City\n",
      "0   3         HR  60000.0  Chicago\n",
      "1   4         IT  75000.0  Houston\n",
      "2   5    Finance  80000.0   Boston\n",
      "3   6  Marketing  60000.0    Miami\n"
     ]
    }
   ],
   "source": [
    "print(df1)\n",
    "print(df2)"
   ]
  },
  {
   "cell_type": "code",
   "execution_count": 38,
   "id": "4b23a42d",
   "metadata": {},
   "outputs": [
    {
     "name": "stdout",
     "output_type": "stream",
     "text": [
      "   ID     Name   Age   City_x Department   Salary   City_y\n",
      "0   3  Charlie  26.0  Chicago         HR  60000.0  Chicago\n",
      "1   4    David  40.0  Houston         IT  75000.0  Houston\n"
     ]
    }
   ],
   "source": [
    "print(pd.merge(df1,df2,on = 'ID',how = 'inner'));"
   ]
  },
  {
   "cell_type": "code",
   "execution_count": 40,
   "id": "e9f5c541",
   "metadata": {},
   "outputs": [
    {
     "name": "stdout",
     "output_type": "stream",
     "text": [
      "   ID     Name   Age       City_x Department   Salary   City_y\n",
      "0   1    Alice  25.0     New York        NaN      NaN      NaN\n",
      "1   2      Bob  30.0  Los Angeles        NaN      NaN      NaN\n",
      "2   3  Charlie  26.0      Chicago         HR  60000.0  Chicago\n",
      "3   4    David  40.0      Houston         IT  75000.0  Houston\n",
      "4   5      NaN   NaN          NaN    Finance  80000.0   Boston\n",
      "5   6      NaN   NaN          NaN  Marketing  60000.0    Miami\n"
     ]
    }
   ],
   "source": [
    "print(pd.merge(df1,df2,on = 'ID',how = 'outer'));"
   ]
  },
  {
   "cell_type": "code",
   "execution_count": 42,
   "id": "4216fc59",
   "metadata": {},
   "outputs": [
    {
     "name": "stdout",
     "output_type": "stream",
     "text": [
      "   ID     Name   Age       City_x Department   Salary   City_y\n",
      "0   1    Alice  25.0     New York        NaN      NaN      NaN\n",
      "1   2      Bob  30.0  Los Angeles        NaN      NaN      NaN\n",
      "2   3  Charlie  26.0      Chicago         HR  60000.0  Chicago\n",
      "3   4    David  40.0      Houston         IT  75000.0  Houston\n"
     ]
    }
   ],
   "source": [
    "print(pd.merge(df1,df2,on = 'ID',how = 'left'));"
   ]
  },
  {
   "cell_type": "code",
   "execution_count": 43,
   "id": "29153c45",
   "metadata": {},
   "outputs": [
    {
     "name": "stdout",
     "output_type": "stream",
     "text": [
      "   ID     Name   Age   City_x Department   Salary   City_y\n",
      "0   3  Charlie  26.0  Chicago         HR  60000.0  Chicago\n",
      "1   4    David  40.0  Houston         IT  75000.0  Houston\n",
      "2   5      NaN   NaN      NaN    Finance  80000.0   Boston\n",
      "3   6      NaN   NaN      NaN  Marketing  60000.0    Miami\n"
     ]
    }
   ],
   "source": [
    "print(pd.merge(df1,df2,on = 'ID',how = 'right'));"
   ]
  },
  {
   "cell_type": "code",
   "execution_count": 45,
   "id": "246fd0b0",
   "metadata": {},
   "outputs": [
    {
     "name": "stdout",
     "output_type": "stream",
     "text": [
      "   ID     Name   Age         City Department   Salary\n",
      "0   1    Alice  25.0     New York        NaN      NaN\n",
      "1   2      Bob  30.0  Los Angeles        NaN      NaN\n",
      "2   3  Charlie  26.0      Chicago        NaN      NaN\n",
      "3   4    David  40.0      Houston        NaN      NaN\n",
      "0   3      NaN   NaN      Chicago         HR  60000.0\n",
      "1   4      NaN   NaN      Houston         IT  75000.0\n",
      "2   5      NaN   NaN       Boston    Finance  80000.0\n",
      "3   6      NaN   NaN        Miami  Marketing  60000.0\n"
     ]
    }
   ],
   "source": [
    "print(pd.concat([df1,df2]));"
   ]
  },
  {
   "cell_type": "code",
   "execution_count": 47,
   "id": "88f212d2",
   "metadata": {},
   "outputs": [
    {
     "name": "stdout",
     "output_type": "stream",
     "text": [
      "   ID     Name   Age         City  ID Department   Salary     City\n",
      "0   1    Alice  25.0     New York   3         HR  60000.0  Chicago\n",
      "1   2      Bob  30.0  Los Angeles   4         IT  75000.0  Houston\n",
      "2   3  Charlie  26.0      Chicago   5    Finance  80000.0   Boston\n",
      "3   4    David  40.0      Houston   6  Marketing  60000.0    Miami\n"
     ]
    }
   ],
   "source": [
    "print(pd.concat([df1,df2],axis=1));"
   ]
  },
  {
   "cell_type": "markdown",
   "id": "c986d4c3",
   "metadata": {},
   "source": [
    "## joining 2 data frames"
   ]
  },
  {
   "cell_type": "code",
   "execution_count": 53,
   "id": "941bcbe3",
   "metadata": {},
   "outputs": [
    {
     "name": "stdout",
     "output_type": "stream",
     "text": [
      "      Name   Age   Salary\n",
      "1    Alice  25.0  50000.0\n",
      "2      Bob  30.0  60000.0\n",
      "3  Charlie  35.0      NaN\n",
      "4      NaN   NaN  70000.0\n"
     ]
    }
   ],
   "source": [
    "\n",
    "\n",
    "df3 = pd.DataFrame({\n",
    "    'Name': ['Alice', 'Bob', 'Charlie'],\n",
    "    'Age': [25, 30, 35]\n",
    "}, index=[1, 2, 3])\n",
    "\n",
    "df4 = pd.DataFrame({\n",
    "    'Salary': [50000, 60000, 70000]\n",
    "}, index=[1, 2, 4])  # Note: index 4 won't match\n",
    "\n",
    "print(df3.join(df4, how='outer'))\n"
   ]
  },
  {
   "cell_type": "code",
   "execution_count": null,
   "id": "32010b9a",
   "metadata": {},
   "outputs": [],
   "source": []
  }
 ],
 "metadata": {
  "kernelspec": {
   "display_name": "Python 3",
   "language": "python",
   "name": "python3"
  },
  "language_info": {
   "codemirror_mode": {
    "name": "ipython",
    "version": 3
   },
   "file_extension": ".py",
   "mimetype": "text/x-python",
   "name": "python",
   "nbconvert_exporter": "python",
   "pygments_lexer": "ipython3",
   "version": "3.12.2"
  }
 },
 "nbformat": 4,
 "nbformat_minor": 5
}
