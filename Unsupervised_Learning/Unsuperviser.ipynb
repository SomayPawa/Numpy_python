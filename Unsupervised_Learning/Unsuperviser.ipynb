{
 "cells": [
  {
   "cell_type": "markdown",
   "id": "965c6244",
   "metadata": {},
   "source": [
    "#### unsupervised learning "
   ]
  },
  {
   "cell_type": "markdown",
   "id": "17f1ee1b",
   "metadata": {},
   "source": [
    "1. here data does not have labels - no \"right answer\" is given \n",
    "2. the model must find the pattern, structure, and relationships in the data by itself\n",
    "\n",
    "#### Goal \n",
    "1. find the hidden structure in the data \n",
    "2. group similar data points\n",
    "3. reduce the dimension while keeping important information \n",
    "4. detect outliers \n",
    "5. find associations or similarities "
   ]
  },
  {
   "cell_type": "markdown",
   "id": "bb211f21",
   "metadata": {},
   "source": [
    "#### difference \n"
   ]
  },
  {
   "cell_type": "markdown",
   "id": "9a9b20b6",
   "metadata": {},
   "source": [
    "1. no label -> only input data \n",
    "2. learn patterns in data \n",
    "3. clustering , DR, Anomoly detection -> like virat kholi -> it will give all about virat\n",
    "\n"
   ]
  },
  {
   "cell_type": "markdown",
   "id": "c33fdf00",
   "metadata": {},
   "source": [
    "#### Technique"
   ]
  },
  {
   "cell_type": "markdown",
   "id": "a7d1b870",
   "metadata": {},
   "source": [
    "1. clustering -> grouping similar data points\n",
    "2. dimensionality reduction -> reduce number of feature (PCA) -> \n",
    "3. Anomaly Detection -> finding the outlier in data "
   ]
  },
  {
   "cell_type": "markdown",
   "id": "e93e7188",
   "metadata": {},
   "source": [
    "#### why used"
   ]
  },
  {
   "cell_type": "markdown",
   "id": "d6718cb3",
   "metadata": {},
   "source": [
    "1. to explore and under stand data structure\n",
    "2. to discover hidden patterns \n",
    "3. to reduce complexity of data\n",
    "4. to find anomalies or outlier\n",
    "5. to preprocess and improve super vised models(PCA+classifier)"
   ]
  },
  {
   "cell_type": "markdown",
   "id": "ccbea301",
   "metadata": {},
   "source": [
    "#### use cases\n"
   ]
  },
  {
   "cell_type": "markdown",
   "id": "a961cf3a",
   "metadata": {},
   "source": [
    "1. customer segmentation\n",
    "2. market segmentation\n",
    "3. anomaly detection\n",
    "4. recommendation system\n",
    "5. image compression\n",
    "6. medical data\n",
    "7. preprocessing "
   ]
  },
  {
   "cell_type": "markdown",
   "id": "0c678fba",
   "metadata": {},
   "source": [
    "### Clustering \n",
    "\n"
   ]
  },
  {
   "cell_type": "markdown",
   "id": "74f679aa",
   "metadata": {},
   "source": [
    "##### k - means clustering "
   ]
  },
  {
   "cell_type": "markdown",
   "id": "24127178",
   "metadata": {},
   "source": [
    "1. decide n cluster -> groups \n",
    "2. initialize centroids\n",
    "3. assign cluster -> euecledian distance \n",
    "4. re-assign the center points\n",
    "\n",
    "d1^2+d2^2+d3^2+ -----dn^2 -> wcss \n",
    "\n",
    "\n",
    "\n"
   ]
  },
  {
   "cell_type": "markdown",
   "id": "50c11955",
   "metadata": {},
   "source": []
  }
 ],
 "metadata": {
  "language_info": {
   "name": "python"
  }
 },
 "nbformat": 4,
 "nbformat_minor": 5
}
