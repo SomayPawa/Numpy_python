{
 "cells": [
  {
   "cell_type": "markdown",
   "id": "37974f4c",
   "metadata": {},
   "source": [
    "## matplot revision"
   ]
  },
  {
   "cell_type": "markdown",
   "id": "59c77cd2",
   "metadata": {},
   "source": [
    "1. x = np.linspace(0,5,11);\n",
    "2. y = x ** 2; \n",
    "\n",
    "these are x and y"
   ]
  },
  {
   "cell_type": "markdown",
   "id": "90a2c18c",
   "metadata": {},
   "source": [
    "### basic plot concept\n",
    "1. plt.plot(x,y);\n",
    "2. plt.title(\"x vs y\")\n",
    "3. plt.xlabel(\"x axis\");\n",
    "4. plt.ylabel(\"y axis\");"
   ]
  },
  {
   "cell_type": "markdown",
   "id": "5ef60621",
   "metadata": {},
   "source": [
    "### sub plot -> multiple plot -> don't modify by own\n",
    "\n",
    "\n",
    "1. plt.subplot(2,2,1) ## row and col ke hisab se divide ho jate hai (2*2) -> 2,2,3-> 2 * 2 main 3 i can select\n",
    "2. plt.plot(x**2,x);\n",
    "3. plt.subplot(2,2,4)\n",
    "4. plt.plot(x,y);\n",
    "5. plt.subplot(2,2,2)\n",
    "6. plt.plot(y,x);\n",
    "7. plt.subplot(2,2,3)\n",
    "8. plt.plot(x**2,x**2);\n",
    "\n"
   ]
  },
  {
   "cell_type": "markdown",
   "id": "ad195156",
   "metadata": {},
   "source": [
    "### object oriented way -> modify by own\n",
    "\n",
    "\n",
    "1. fig = plt.figure(figsize = (12,8) , dpi = 500) -> figsize is figure size , dpi(dots per inch) is quality of the figure\n",
    "\n",
    "2. axis1 = fig.add_axes([0.1,0.1,0.8,0.8]); ## left,bottom,width height\n",
    "\n",
    "3. axis1.plot(x,y);\n",
    "\n",
    "4. axis2 = fig.add_axes([0.15,0.45,0.4,0.4]); ## left,bottom,width height\n",
    "\n",
    "5. axis2.plot(x,y);\n",
    "\n"
   ]
  },
  {
   "cell_type": "markdown",
   "id": "2236dc8a",
   "metadata": {},
   "source": [
    "### different type of plot\n",
    "\n",
    "1. plt.plot(x,y)\n",
    "2. plt.scatter(x,y)\n",
    "3. plt.hist(x)\n",
    "4. plt.boxplot(x)"
   ]
  },
  {
   "cell_type": "markdown",
   "id": "c891c577",
   "metadata": {},
   "source": [
    "### how to save a plot\n",
    "\n",
    "1. fig = plt.figure()\n",
    "2. ax = fig.add_axes([0.1,0.1,0.8,0.8])\n",
    "3. ax.plot(x,y)\n",
    "4. plt.savefig(\"basicplot.png\");\n"
   ]
  },
  {
   "cell_type": "markdown",
   "id": "958fddda",
   "metadata": {},
   "source": []
  }
 ],
 "metadata": {
  "language_info": {
   "name": "python"
  }
 },
 "nbformat": 4,
 "nbformat_minor": 5
}
