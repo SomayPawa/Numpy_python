{
 "cells": [
  {
   "cell_type": "markdown",
   "id": "1a52ef87",
   "metadata": {},
   "source": [
    "##### Notes -> classification algorithm -> supervised learning "
   ]
  },
  {
   "cell_type": "markdown",
   "id": "d15f70f9",
   "metadata": {},
   "source": [
    "##### Classification algorithm \n",
    "- it is a type of machine learning algorithm used to predict a category or class label for given input \n",
    "- classification is the process of teaching a machine to answer question like : \"is this a cat or a dog?\" or \"will this customer survive or not\"\n",
    "\n",
    "\n",
    "Example -> data \n",
    "\n",
    "weight , obese => 26 No , 39 No , 48 No , 96 Yes => model will predict obese based on weight \n",
    "\n",
    "\n",
    "1. Logistic Regression : like in linear regression we will create a straight line but here we have to draw a sigmoid s curve \n",
    "\n",
    "it is similar to linear but the difference is curve should be \"S\" not a linear \n",
    "\n",
    "here we are predicting 0 or 1 like true or false or yes/no\n",
    "\n",
    "To Create a Best Fit Line -> h-theta(x) = theta-0 + theta-1 * x1; for linear regression \n",
    "\n",
    "1. 1st problem in linear regression -> outliers -> influence the straight line\n",
    "2. Result can be negative 0< and positive >1\n",
    "\n",
    "so to prevent all of these things we squash the line (s shape ) change it to logistic function -> here we can used \"SIGMOID ACTIVATION FUNCTION\"\n",
    "\n",
    "h-theta(x) = theta-0 + theta-1 * x1; => G = 1/(1+e^-z) => 1/(1+e^(-(theta-0 + theta-1 * x1))); \"IMPORTANT FORMULA\"\n",
    "\n",
    "now straight line into curve \n",
    "\n",
    "now e -> euler's number => mathematical constant => 2.71828\n",
    "\n",
    "e gives smooth curve \n",
    "\n",
    "\n",
    "\n",
    "\n",
    "here i have to used log loss function => it will provide loss sabse kaam loss we have to take \n",
    "\n",
    "log loss ( binary cross entropy ) = if the probability is more then 50% then the person is obese basically here we will use a probability \n",
    "\n",
    "\n",
    "\n",
    "if very high loss -> penalty -> is calculate with log loss function \n",
    "\n",
    "log loss = -1/m sum[y^i * log(y-dash ^ i) + (1-y^i)log(i-(y-dash)^i)] \"IMPORTANT FORMULA\"\n",
    "\n",
    "m = number of sample \n",
    "y^i = actual label (0-1)\n",
    "y-dash^i = predicted probability(0-1)\n",
    "\n",
    "yi = 1, y-dash i = 0.54 Log-loss = 0.616\n",
    "\n",
    "\n",
    "now here we can find the global minima => AFTER THAT WE WILL GET THE THETA1, THETA2 -> PERFECT values  -> classification algorithm \n",
    "\n",
    "\n",
    "\n",
    "\n",
    "\n",
    "\n",
    "\n",
    "\n"
   ]
  }
 ],
 "metadata": {
  "language_info": {
   "name": "python"
  }
 },
 "nbformat": 4,
 "nbformat_minor": 5
}
