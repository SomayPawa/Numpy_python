{
 "cells": [
  {
   "cell_type": "markdown",
   "id": "0fc18a4a",
   "metadata": {},
   "source": [
    "#### Bayes algorithm -> \n",
    "\n",
    "1. independent event : coin , dice  -> p(A and B) = p(A) * p(B); \n",
    "\n",
    "2. dependent event : deck of cards -> p(A and B) = p(A) * p(B/A);\n",
    "\n",
    "-> p(B/A) => conditional probability \n",
    "\n",
    "-> p(A and B) = p(B and A) ;\n",
    "-> p(A) * p(B/A) = p(B) * p(A/B);\n",
    "-> P(A/B) = (p(A) * p(B/A))/P(B); => this is called as bayes theorem \n",
    "-> x1,x2,x3,x4 => independent and y1 => dependent (output)\n",
    "\n",
    "p(A/B) = (P(A) * p(B/A))/p(B)\n",
    "\n",
    "p(y/x1,x2,x3,x4) = (p(y) * p(x1,x2,x3,x4))/p(x1,x2,x3,x4);\n",
    "\n",
    "p(yes/x1,x2,x3,x4) = p(y) * p(x1/y) * p(x2/y) * p(xn/y) / p(x1)*p(x2)*p(x3)----p(xn)\n",
    "\n",
    "p(No/x1,x2,x3,x4) = p(N)*p(x1/N)+p(x2/N)+p(x3/N)+p(x4/N) --- p(xn/N) / p(x1)*p(x2)*p(x3)----p(xn);"
   ]
  }
 ],
 "metadata": {
  "language_info": {
   "name": "python"
  }
 },
 "nbformat": 4,
 "nbformat_minor": 5
}
