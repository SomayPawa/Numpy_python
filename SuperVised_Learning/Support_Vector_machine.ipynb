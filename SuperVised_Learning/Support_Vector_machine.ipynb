{
 "cells": [
  {
   "cell_type": "markdown",
   "id": "408de11c",
   "metadata": {},
   "source": [
    "#### support vector machine algorithm"
   ]
  },
  {
   "cell_type": "markdown",
   "id": "945a5481",
   "metadata": {},
   "source": [
    "1. you have 2 ball red , blue -> draw a hyper and margin line and these points are called as support vector , \n",
    "\n",
    "for draw a margin line we have to draw a support points \n",
    "\n",
    "wx+b = 0 => x is a point you want to predict \n",
    "\n",
    "w => weight/slope \n",
    "b => bias => line a points ko predict ke liyee use hotaa hai\n",
    "\n",
    "if wx+b > 0 class -> Red \n",
    "if wx+b < 0 class -> green\n",
    "\n",
    "\n",
    "what is hyper link -> line that sperate two category \n",
    "what is margin -> space between the line and nearest point\n",
    "what is support vector -> closest ball to margin that support the line \n",
    "what is dimension -> \n",
    "\n",
    "like in three plane we can change the dimension -> we use kernal with distinguish the points \n",
    "\n",
    "2-D hyper line , 2d hyper plane "
   ]
  },
  {
   "cell_type": "markdown",
   "id": "fcdeff30",
   "metadata": {},
   "source": []
  }
 ],
 "metadata": {
  "language_info": {
   "name": "python"
  }
 },
 "nbformat": 4,
 "nbformat_minor": 5
}
