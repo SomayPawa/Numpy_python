{
 "cells": [
  {
   "cell_type": "markdown",
   "id": "752cd487",
   "metadata": {},
   "source": [
    "#### Decision tree algorithm "
   ]
  },
  {
   "cell_type": "markdown",
   "id": "11866801",
   "metadata": {},
   "source": [
    "1. outlook -> sunny (2y/3n)\n",
    "2. outlook -> overcast(4y/0n) -> leaf node because fully pure -> yes he will play a tennis game\n",
    "3. outlook -> rain(2y/2n)"
   ]
  },
  {
   "cell_type": "markdown",
   "id": "3c03b90c",
   "metadata": {},
   "source": [
    "1. sunny -> hot(2n/0y)->he will not play ->leaf node\n",
    "2. sunny -> mild  -> ye fir aage jayegaa like normal and high and so on\n",
    "3. sunny -> cool\n",
    "\n"
   ]
  },
  {
   "cell_type": "markdown",
   "id": "227ec8b7",
   "metadata": {},
   "source": [
    "1. entropy and information gain for using a root node\n"
   ]
  },
  {
   "cell_type": "markdown",
   "id": "f01b8839",
   "metadata": {},
   "source": [
    "1. start with the data \n",
    "2. choose the best feature \n",
    "3. split the data into branch\n",
    "4. repeat the process for each branch \n",
    "5. stop when all data is pure -> max depth is reached "
   ]
  },
  {
   "cell_type": "markdown",
   "id": "2c0ccaab",
   "metadata": {},
   "source": [
    "entropy(S) = -p+ log2(p+) - p- log2(p-)\n",
    "play -> 9y , 5n \n",
    "=> -9/14 log2(9/14)- s/14 log2(5/14) = 0.940\n",
    "\n",
    "entropy(outlook) -> sunny , overcast , rain \n",
    "\n",
    "in sunny check y or n => 2y,3n => entropy = -2/5log2(2/5)-3/5log2(3/5) => 0.971\n",
    "in overcast => entropy = 0\n",
    "in rain => entropy = 0.971\n",
    "\n",
    "information gain from outlook feature \n",
    "\n",
    "IG(s,outlook) => entropy(s)-sum of(|Sv|/|S|) entropy|Sv|\n",
    "\n",
    "0.940 - [5/14 * 0.971 + 4/14 * 0 + 5/14 * 0.971] => 0.246 => information gain\n",
    "\n",
    "temp = 0.029 , humidity = 0.191 , wind = 0.048"
   ]
  },
  {
   "cell_type": "markdown",
   "id": "d729ec41",
   "metadata": {},
   "source": []
  }
 ],
 "metadata": {
  "language_info": {
   "name": "python"
  }
 },
 "nbformat": 4,
 "nbformat_minor": 5
}
