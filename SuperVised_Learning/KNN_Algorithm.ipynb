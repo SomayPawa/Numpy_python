{
 "cells": [
  {
   "cell_type": "markdown",
   "id": "98a52de4",
   "metadata": {},
   "source": [
    "#### KNN ALGO -> K Nearst Neighbour "
   ]
  },
  {
   "cell_type": "markdown",
   "id": "5dd4b7fe",
   "metadata": {},
   "source": [
    "internet  typing-speed  hacker \n",
    "24          56            1\n",
    "12          22            0  \n",
    "----------------------------\n",
    "\n",
    "now graph between internet vs typing-speed \n",
    "\n",
    "step-1 define k value -> k = 5 (5 nearest neighbour) -> k is hyper parameter \n",
    "step-2 calculate the distance from all points (euclideen distance)\n",
    "step-3 sort all the distance  -> 3 yes and 2 no then it is a hacker \n",
    "step-4 majority count -> yes the person can become the hacker \n",
    "\n",
    "other then classification -> mean of five nearest neighbour \n",
    "\n",
    "\n",
    "you can use n dimensions \n",
    "\n",
    "k value must be an odd number \n",
    "\n",
    "\n"
   ]
  },
  {
   "cell_type": "code",
   "execution_count": null,
   "id": "d712c2d4",
   "metadata": {},
   "outputs": [],
   "source": []
  }
 ],
 "metadata": {
  "language_info": {
   "name": "python"
  }
 },
 "nbformat": 4,
 "nbformat_minor": 5
}
