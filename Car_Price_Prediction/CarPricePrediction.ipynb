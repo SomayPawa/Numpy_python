{
 "cells": [
  {
   "cell_type": "code",
   "execution_count": 63,
   "id": "a04a682b",
   "metadata": {},
   "outputs": [],
   "source": [
    "import numpy as np;\n",
    "import pandas as pd;\n",
    "import seaborn as sns;\n",
    "import matplotlib.pyplot as plt;\n",
    "import warnings;\n",
    "warnings.filterwarnings(\"ignore\");"
   ]
  },
  {
   "cell_type": "code",
   "execution_count": 64,
   "id": "5c8d2865",
   "metadata": {},
   "outputs": [
    {
     "data": {
      "text/html": [
       "<div>\n",
       "<style scoped>\n",
       "    .dataframe tbody tr th:only-of-type {\n",
       "        vertical-align: middle;\n",
       "    }\n",
       "\n",
       "    .dataframe tbody tr th {\n",
       "        vertical-align: top;\n",
       "    }\n",
       "\n",
       "    .dataframe thead th {\n",
       "        text-align: right;\n",
       "    }\n",
       "</style>\n",
       "<table border=\"1\" class=\"dataframe\">\n",
       "  <thead>\n",
       "    <tr style=\"text-align: right;\">\n",
       "      <th></th>\n",
       "      <th>model</th>\n",
       "      <th>year</th>\n",
       "      <th>price</th>\n",
       "      <th>transmission</th>\n",
       "      <th>mileage</th>\n",
       "      <th>fuelType</th>\n",
       "      <th>tax</th>\n",
       "      <th>mpg</th>\n",
       "      <th>engineSize</th>\n",
       "    </tr>\n",
       "  </thead>\n",
       "  <tbody>\n",
       "    <tr>\n",
       "      <th>0</th>\n",
       "      <td>Fiesta</td>\n",
       "      <td>2017</td>\n",
       "      <td>12000</td>\n",
       "      <td>Automatic</td>\n",
       "      <td>15944</td>\n",
       "      <td>Petrol</td>\n",
       "      <td>150</td>\n",
       "      <td>57.7</td>\n",
       "      <td>1.0</td>\n",
       "    </tr>\n",
       "    <tr>\n",
       "      <th>1</th>\n",
       "      <td>Focus</td>\n",
       "      <td>2018</td>\n",
       "      <td>14000</td>\n",
       "      <td>Manual</td>\n",
       "      <td>9083</td>\n",
       "      <td>Petrol</td>\n",
       "      <td>150</td>\n",
       "      <td>57.7</td>\n",
       "      <td>1.0</td>\n",
       "    </tr>\n",
       "    <tr>\n",
       "      <th>2</th>\n",
       "      <td>Focus</td>\n",
       "      <td>2017</td>\n",
       "      <td>13000</td>\n",
       "      <td>Manual</td>\n",
       "      <td>12456</td>\n",
       "      <td>Petrol</td>\n",
       "      <td>150</td>\n",
       "      <td>57.7</td>\n",
       "      <td>1.0</td>\n",
       "    </tr>\n",
       "    <tr>\n",
       "      <th>3</th>\n",
       "      <td>Fiesta</td>\n",
       "      <td>2019</td>\n",
       "      <td>17500</td>\n",
       "      <td>Manual</td>\n",
       "      <td>10460</td>\n",
       "      <td>Petrol</td>\n",
       "      <td>145</td>\n",
       "      <td>40.3</td>\n",
       "      <td>1.5</td>\n",
       "    </tr>\n",
       "    <tr>\n",
       "      <th>4</th>\n",
       "      <td>Fiesta</td>\n",
       "      <td>2019</td>\n",
       "      <td>16500</td>\n",
       "      <td>Automatic</td>\n",
       "      <td>1482</td>\n",
       "      <td>Petrol</td>\n",
       "      <td>145</td>\n",
       "      <td>48.7</td>\n",
       "      <td>1.0</td>\n",
       "    </tr>\n",
       "    <tr>\n",
       "      <th>...</th>\n",
       "      <td>...</td>\n",
       "      <td>...</td>\n",
       "      <td>...</td>\n",
       "      <td>...</td>\n",
       "      <td>...</td>\n",
       "      <td>...</td>\n",
       "      <td>...</td>\n",
       "      <td>...</td>\n",
       "      <td>...</td>\n",
       "    </tr>\n",
       "    <tr>\n",
       "      <th>17961</th>\n",
       "      <td>B-MAX</td>\n",
       "      <td>2017</td>\n",
       "      <td>8999</td>\n",
       "      <td>Manual</td>\n",
       "      <td>16700</td>\n",
       "      <td>Petrol</td>\n",
       "      <td>150</td>\n",
       "      <td>47.1</td>\n",
       "      <td>1.4</td>\n",
       "    </tr>\n",
       "    <tr>\n",
       "      <th>17962</th>\n",
       "      <td>B-MAX</td>\n",
       "      <td>2014</td>\n",
       "      <td>7499</td>\n",
       "      <td>Manual</td>\n",
       "      <td>40700</td>\n",
       "      <td>Petrol</td>\n",
       "      <td>30</td>\n",
       "      <td>57.7</td>\n",
       "      <td>1.0</td>\n",
       "    </tr>\n",
       "    <tr>\n",
       "      <th>17963</th>\n",
       "      <td>Focus</td>\n",
       "      <td>2015</td>\n",
       "      <td>9999</td>\n",
       "      <td>Manual</td>\n",
       "      <td>7010</td>\n",
       "      <td>Diesel</td>\n",
       "      <td>20</td>\n",
       "      <td>67.3</td>\n",
       "      <td>1.6</td>\n",
       "    </tr>\n",
       "    <tr>\n",
       "      <th>17964</th>\n",
       "      <td>KA</td>\n",
       "      <td>2018</td>\n",
       "      <td>8299</td>\n",
       "      <td>Manual</td>\n",
       "      <td>5007</td>\n",
       "      <td>Petrol</td>\n",
       "      <td>145</td>\n",
       "      <td>57.7</td>\n",
       "      <td>1.2</td>\n",
       "    </tr>\n",
       "    <tr>\n",
       "      <th>17965</th>\n",
       "      <td>Focus</td>\n",
       "      <td>2015</td>\n",
       "      <td>8299</td>\n",
       "      <td>Manual</td>\n",
       "      <td>5007</td>\n",
       "      <td>Petrol</td>\n",
       "      <td>22</td>\n",
       "      <td>57.7</td>\n",
       "      <td>1.0</td>\n",
       "    </tr>\n",
       "  </tbody>\n",
       "</table>\n",
       "<p>17966 rows × 9 columns</p>\n",
       "</div>"
      ],
      "text/plain": [
       "         model  year  price transmission  mileage fuelType  tax   mpg  \\\n",
       "0       Fiesta  2017  12000    Automatic    15944   Petrol  150  57.7   \n",
       "1        Focus  2018  14000       Manual     9083   Petrol  150  57.7   \n",
       "2        Focus  2017  13000       Manual    12456   Petrol  150  57.7   \n",
       "3       Fiesta  2019  17500       Manual    10460   Petrol  145  40.3   \n",
       "4       Fiesta  2019  16500    Automatic     1482   Petrol  145  48.7   \n",
       "...        ...   ...    ...          ...      ...      ...  ...   ...   \n",
       "17961    B-MAX  2017   8999       Manual    16700   Petrol  150  47.1   \n",
       "17962    B-MAX  2014   7499       Manual    40700   Petrol   30  57.7   \n",
       "17963    Focus  2015   9999       Manual     7010   Diesel   20  67.3   \n",
       "17964       KA  2018   8299       Manual     5007   Petrol  145  57.7   \n",
       "17965    Focus  2015   8299       Manual     5007   Petrol   22  57.7   \n",
       "\n",
       "       engineSize  \n",
       "0             1.0  \n",
       "1             1.0  \n",
       "2             1.0  \n",
       "3             1.5  \n",
       "4             1.0  \n",
       "...           ...  \n",
       "17961         1.4  \n",
       "17962         1.0  \n",
       "17963         1.6  \n",
       "17964         1.2  \n",
       "17965         1.0  \n",
       "\n",
       "[17966 rows x 9 columns]"
      ]
     },
     "execution_count": 64,
     "metadata": {},
     "output_type": "execute_result"
    }
   ],
   "source": [
    "df = pd.read_csv('ford.csv');\n",
    "df"
   ]
  },
  {
   "cell_type": "code",
   "execution_count": 65,
   "id": "a5a84fe3",
   "metadata": {},
   "outputs": [
    {
     "name": "stdout",
     "output_type": "stream",
     "text": [
      "     model  year  price transmission  mileage fuelType  tax   mpg  engineSize\n",
      "0   Fiesta  2017  12000    Automatic    15944   Petrol  150  57.7         1.0\n",
      "1    Focus  2018  14000       Manual     9083   Petrol  150  57.7         1.0\n",
      "2    Focus  2017  13000       Manual    12456   Petrol  150  57.7         1.0\n",
      "3   Fiesta  2019  17500       Manual    10460   Petrol  145  40.3         1.5\n",
      "4   Fiesta  2019  16500    Automatic     1482   Petrol  145  48.7         1.0\n"
     ]
    }
   ],
   "source": [
    "print(df.head());"
   ]
  },
  {
   "cell_type": "code",
   "execution_count": 66,
   "id": "811ee494",
   "metadata": {},
   "outputs": [
    {
     "name": "stdout",
     "output_type": "stream",
     "text": [
      "(17966, 9)\n"
     ]
    }
   ],
   "source": [
    "print(df.shape);\n"
   ]
  },
  {
   "cell_type": "code",
   "execution_count": 67,
   "id": "c9b9fa46",
   "metadata": {},
   "outputs": [
    {
     "name": "stdout",
     "output_type": "stream",
     "text": [
      "<class 'pandas.core.frame.DataFrame'>\n",
      "RangeIndex: 17966 entries, 0 to 17965\n",
      "Data columns (total 9 columns):\n",
      " #   Column        Non-Null Count  Dtype  \n",
      "---  ------        --------------  -----  \n",
      " 0   model         17966 non-null  object \n",
      " 1   year          17966 non-null  int64  \n",
      " 2   price         17966 non-null  int64  \n",
      " 3   transmission  17966 non-null  object \n",
      " 4   mileage       17966 non-null  int64  \n",
      " 5   fuelType      17966 non-null  object \n",
      " 6   tax           17966 non-null  int64  \n",
      " 7   mpg           17966 non-null  float64\n",
      " 8   engineSize    17966 non-null  float64\n",
      "dtypes: float64(2), int64(4), object(3)\n",
      "memory usage: 1.2+ MB\n",
      "None\n"
     ]
    }
   ],
   "source": [
    "print(df.info());"
   ]
  },
  {
   "cell_type": "code",
   "execution_count": 68,
   "id": "98788e3d",
   "metadata": {},
   "outputs": [
    {
     "name": "stdout",
     "output_type": "stream",
     "text": [
      "               year         price        mileage           tax           mpg  \\\n",
      "count  17966.000000  17966.000000   17966.000000  17966.000000  17966.000000   \n",
      "mean    2016.866470  12279.534844   23362.608761    113.329456     57.906980   \n",
      "std        2.050336   4741.343657   19472.054349     62.012456     10.125696   \n",
      "min     1996.000000    495.000000       1.000000      0.000000     20.800000   \n",
      "25%     2016.000000   8999.000000    9987.000000     30.000000     52.300000   \n",
      "50%     2017.000000  11291.000000   18242.500000    145.000000     58.900000   \n",
      "75%     2018.000000  15299.000000   31060.000000    145.000000     65.700000   \n",
      "max     2060.000000  54995.000000  177644.000000    580.000000    201.800000   \n",
      "\n",
      "         engineSize  \n",
      "count  17966.000000  \n",
      "mean       1.350807  \n",
      "std        0.432367  \n",
      "min        0.000000  \n",
      "25%        1.000000  \n",
      "50%        1.200000  \n",
      "75%        1.500000  \n",
      "max        5.000000  \n"
     ]
    }
   ],
   "source": [
    "print(df.describe());"
   ]
  },
  {
   "cell_type": "code",
   "execution_count": 69,
   "id": "89a02f43",
   "metadata": {},
   "outputs": [
    {
     "name": "stdout",
     "output_type": "stream",
     "text": [
      "model           0\n",
      "year            0\n",
      "price           0\n",
      "transmission    0\n",
      "mileage         0\n",
      "fuelType        0\n",
      "tax             0\n",
      "mpg             0\n",
      "engineSize      0\n",
      "dtype: int64\n"
     ]
    }
   ],
   "source": [
    "print(df.isnull().sum())"
   ]
  },
  {
   "cell_type": "code",
   "execution_count": 70,
   "id": "d7b48dd4",
   "metadata": {},
   "outputs": [
    {
     "data": {
      "image/png": "[encoded data removed]",
      "text/plain": [
       "<Figure size 640x480 with 1 Axes>"
      ]
     },
     "metadata": {},
     "output_type": "display_data"
    }
   ],
   "source": [
    "#EDA\n",
    "sns.histplot(df['price'],bins = 50,kde = True);"
   ]
  },
  {
   "cell_type": "code",
   "execution_count": 71,
   "id": "05113cd7",
   "metadata": {},
   "outputs": [
    {
     "data": {
      "image/png": "[encoded data removed]",
      "text/plain": [
       "<Figure size 640x480 with 2 Axes>"
      ]
     },
     "metadata": {},
     "output_type": "display_data"
    }
   ],
   "source": [
    "sns.heatmap(df.corr(numeric_only=True),annot=True);"
   ]
  },
  {
   "cell_type": "code",
   "execution_count": 72,
   "id": "6ad3091f",
   "metadata": {},
   "outputs": [
    {
     "data": {
      "image/png": "[encoded data removed]",
      "text/plain": [
       "<Figure size 640x480 with 1 Axes>"
      ]
     },
     "metadata": {},
     "output_type": "display_data"
    }
   ],
   "source": [
    "sns.boxplot(data = df,x = 'year',y='price');\n",
    "plt.xticks(rotation = 90);"
   ]
  },
  {
   "cell_type": "code",
   "execution_count": 73,
   "id": "9fb9ca60",
   "metadata": {},
   "outputs": [
    {
     "data": {
      "image/png": "[encoded data removed]",
      "text/plain": [
       "<Figure size 640x480 with 1 Axes>"
      ]
     },
     "metadata": {},
     "output_type": "display_data"
    }
   ],
   "source": [
    "sns.scatterplot(data = df,x = 'mileage', y = 'price');"
   ]
  },
  {
   "cell_type": "code",
   "execution_count": 74,
   "id": "5c274265",
   "metadata": {},
   "outputs": [],
   "source": [
    "x = df.drop(columns=['price'],axis = 1);\n",
    "y = df['price'];\n",
    "\n"
   ]
  },
  {
   "cell_type": "code",
   "execution_count": 75,
   "id": "d63ddb16",
   "metadata": {},
   "outputs": [
    {
     "name": "stdout",
     "output_type": "stream",
     "text": [
      "Index(['model', 'year', 'price', 'transmission', 'mileage', 'fuelType', 'tax',\n",
      "       'mpg', 'engineSize'],\n",
      "      dtype='object')\n"
     ]
    }
   ],
   "source": [
    "print(df.columns);"
   ]
  },
  {
   "cell_type": "code",
   "execution_count": 76,
   "id": "8d841e9c",
   "metadata": {},
   "outputs": [],
   "source": [
    "# one hot coding\n",
    "x_one_encode = pd.get_dummies(x,columns=['model','transmission','fuelType'],drop_first=False);"
   ]
  },
  {
   "cell_type": "code",
   "execution_count": 77,
   "id": "e20f8f0f",
   "metadata": {},
   "outputs": [
    {
     "name": "stdout",
     "output_type": "stream",
     "text": [
      "       year  mileage  tax   mpg  engineSize  model_ B-MAX  model_ C-MAX  \\\n",
      "0      2017    15944  150  57.7         1.0         False         False   \n",
      "1      2018     9083  150  57.7         1.0         False         False   \n",
      "2      2017    12456  150  57.7         1.0         False         False   \n",
      "3      2019    10460  145  40.3         1.5         False         False   \n",
      "4      2019     1482  145  48.7         1.0         False         False   \n",
      "...     ...      ...  ...   ...         ...           ...           ...   \n",
      "17961  2017    16700  150  47.1         1.4          True         False   \n",
      "17962  2014    40700   30  57.7         1.0          True         False   \n",
      "17963  2015     7010   20  67.3         1.6         False         False   \n",
      "17964  2018     5007  145  57.7         1.2         False         False   \n",
      "17965  2015     5007   22  57.7         1.0         False         False   \n",
      "\n",
      "       model_ EcoSport  model_ Edge  model_ Escort  ...  \\\n",
      "0                False        False          False  ...   \n",
      "1                False        False          False  ...   \n",
      "2                False        False          False  ...   \n",
      "3                False        False          False  ...   \n",
      "4                False        False          False  ...   \n",
      "...                ...          ...            ...  ...   \n",
      "17961            False        False          False  ...   \n",
      "17962            False        False          False  ...   \n",
      "17963            False        False          False  ...   \n",
      "17964            False        False          False  ...   \n",
      "17965            False        False          False  ...   \n",
      "\n",
      "       model_ Transit Tourneo  model_Focus  transmission_Automatic  \\\n",
      "0                       False        False                    True   \n",
      "1                       False        False                   False   \n",
      "2                       False        False                   False   \n",
      "3                       False        False                   False   \n",
      "4                       False        False                    True   \n",
      "...                       ...          ...                     ...   \n",
      "17961                   False        False                   False   \n",
      "17962                   False        False                   False   \n",
      "17963                   False        False                   False   \n",
      "17964                   False        False                   False   \n",
      "17965                   False         True                   False   \n",
      "\n",
      "       transmission_Manual  transmission_Semi-Auto  fuelType_Diesel  \\\n",
      "0                    False                   False            False   \n",
      "1                     True                   False            False   \n",
      "2                     True                   False            False   \n",
      "3                     True                   False            False   \n",
      "4                    False                   False            False   \n",
      "...                    ...                     ...              ...   \n",
      "17961                 True                   False            False   \n",
      "17962                 True                   False            False   \n",
      "17963                 True                   False             True   \n",
      "17964                 True                   False            False   \n",
      "17965                 True                   False            False   \n",
      "\n",
      "       fuelType_Electric  fuelType_Hybrid  fuelType_Other  fuelType_Petrol  \n",
      "0                  False            False           False             True  \n",
      "1                  False            False           False             True  \n",
      "2                  False            False           False             True  \n",
      "3                  False            False           False             True  \n",
      "4                  False            False           False             True  \n",
      "...                  ...              ...             ...              ...  \n",
      "17961              False            False           False             True  \n",
      "17962              False            False           False             True  \n",
      "17963              False            False           False            False  \n",
      "17964              False            False           False             True  \n",
      "17965              False            False           False             True  \n",
      "\n",
      "[17966 rows x 37 columns]\n"
     ]
    }
   ],
   "source": [
    "print(x_one_encode);"
   ]
  },
  {
   "cell_type": "code",
   "execution_count": 78,
   "id": "1e3e72e2",
   "metadata": {},
   "outputs": [],
   "source": [
    "x_one_encode = x_one_encode.astype(int);"
   ]
  },
  {
   "cell_type": "code",
   "execution_count": 79,
   "id": "895e1f86",
   "metadata": {},
   "outputs": [],
   "source": [
    "### label hard code\n",
    "from sklearn.preprocessing import LabelEncoder;\n",
    "\n",
    "encode = LabelEncoder();\n",
    "\n",
    "columns = ['model','transmission','fuelType']\n",
    "\n",
    "x_label = x;\n",
    "\n",
    "for i in columns:\n",
    "    x_label[i] = encode.fit_transform(x_label[i])"
   ]
  },
  {
   "cell_type": "code",
   "execution_count": 80,
   "id": "47caf01f",
   "metadata": {},
   "outputs": [
    {
     "data": {
      "text/html": [
       "<div>\n",
       "<style scoped>\n",
       "    .dataframe tbody tr th:only-of-type {\n",
       "        vertical-align: middle;\n",
       "    }\n",
       "\n",
       "    .dataframe tbody tr th {\n",
       "        vertical-align: top;\n",
       "    }\n",
       "\n",
       "    .dataframe thead th {\n",
       "        text-align: right;\n",
       "    }\n",
       "</style>\n",
       "<table border=\"1\" class=\"dataframe\">\n",
       "  <thead>\n",
       "    <tr style=\"text-align: right;\">\n",
       "      <th></th>\n",
       "      <th>model</th>\n",
       "      <th>year</th>\n",
       "      <th>transmission</th>\n",
       "      <th>mileage</th>\n",
       "      <th>fuelType</th>\n",
       "      <th>tax</th>\n",
       "      <th>mpg</th>\n",
       "      <th>engineSize</th>\n",
       "    </tr>\n",
       "  </thead>\n",
       "  <tbody>\n",
       "    <tr>\n",
       "      <th>0</th>\n",
       "      <td>5</td>\n",
       "      <td>2017</td>\n",
       "      <td>0</td>\n",
       "      <td>15944</td>\n",
       "      <td>4</td>\n",
       "      <td>150</td>\n",
       "      <td>57.7</td>\n",
       "      <td>1.0</td>\n",
       "    </tr>\n",
       "    <tr>\n",
       "      <th>1</th>\n",
       "      <td>6</td>\n",
       "      <td>2018</td>\n",
       "      <td>1</td>\n",
       "      <td>9083</td>\n",
       "      <td>4</td>\n",
       "      <td>150</td>\n",
       "      <td>57.7</td>\n",
       "      <td>1.0</td>\n",
       "    </tr>\n",
       "    <tr>\n",
       "      <th>2</th>\n",
       "      <td>6</td>\n",
       "      <td>2017</td>\n",
       "      <td>1</td>\n",
       "      <td>12456</td>\n",
       "      <td>4</td>\n",
       "      <td>150</td>\n",
       "      <td>57.7</td>\n",
       "      <td>1.0</td>\n",
       "    </tr>\n",
       "    <tr>\n",
       "      <th>3</th>\n",
       "      <td>5</td>\n",
       "      <td>2019</td>\n",
       "      <td>1</td>\n",
       "      <td>10460</td>\n",
       "      <td>4</td>\n",
       "      <td>145</td>\n",
       "      <td>40.3</td>\n",
       "      <td>1.5</td>\n",
       "    </tr>\n",
       "    <tr>\n",
       "      <th>4</th>\n",
       "      <td>5</td>\n",
       "      <td>2019</td>\n",
       "      <td>0</td>\n",
       "      <td>1482</td>\n",
       "      <td>4</td>\n",
       "      <td>145</td>\n",
       "      <td>48.7</td>\n",
       "      <td>1.0</td>\n",
       "    </tr>\n",
       "    <tr>\n",
       "      <th>...</th>\n",
       "      <td>...</td>\n",
       "      <td>...</td>\n",
       "      <td>...</td>\n",
       "      <td>...</td>\n",
       "      <td>...</td>\n",
       "      <td>...</td>\n",
       "      <td>...</td>\n",
       "      <td>...</td>\n",
       "    </tr>\n",
       "    <tr>\n",
       "      <th>17961</th>\n",
       "      <td>0</td>\n",
       "      <td>2017</td>\n",
       "      <td>1</td>\n",
       "      <td>16700</td>\n",
       "      <td>4</td>\n",
       "      <td>150</td>\n",
       "      <td>47.1</td>\n",
       "      <td>1.4</td>\n",
       "    </tr>\n",
       "    <tr>\n",
       "      <th>17962</th>\n",
       "      <td>0</td>\n",
       "      <td>2014</td>\n",
       "      <td>1</td>\n",
       "      <td>40700</td>\n",
       "      <td>4</td>\n",
       "      <td>30</td>\n",
       "      <td>57.7</td>\n",
       "      <td>1.0</td>\n",
       "    </tr>\n",
       "    <tr>\n",
       "      <th>17963</th>\n",
       "      <td>6</td>\n",
       "      <td>2015</td>\n",
       "      <td>1</td>\n",
       "      <td>7010</td>\n",
       "      <td>0</td>\n",
       "      <td>20</td>\n",
       "      <td>67.3</td>\n",
       "      <td>1.6</td>\n",
       "    </tr>\n",
       "    <tr>\n",
       "      <th>17964</th>\n",
       "      <td>11</td>\n",
       "      <td>2018</td>\n",
       "      <td>1</td>\n",
       "      <td>5007</td>\n",
       "      <td>4</td>\n",
       "      <td>145</td>\n",
       "      <td>57.7</td>\n",
       "      <td>1.2</td>\n",
       "    </tr>\n",
       "    <tr>\n",
       "      <th>17965</th>\n",
       "      <td>23</td>\n",
       "      <td>2015</td>\n",
       "      <td>1</td>\n",
       "      <td>5007</td>\n",
       "      <td>4</td>\n",
       "      <td>22</td>\n",
       "      <td>57.7</td>\n",
       "      <td>1.0</td>\n",
       "    </tr>\n",
       "  </tbody>\n",
       "</table>\n",
       "<p>17966 rows × 8 columns</p>\n",
       "</div>"
      ],
      "text/plain": [
       "       model  year  transmission  mileage  fuelType  tax   mpg  engineSize\n",
       "0          5  2017             0    15944         4  150  57.7         1.0\n",
       "1          6  2018             1     9083         4  150  57.7         1.0\n",
       "2          6  2017             1    12456         4  150  57.7         1.0\n",
       "3          5  2019             1    10460         4  145  40.3         1.5\n",
       "4          5  2019             0     1482         4  145  48.7         1.0\n",
       "...      ...   ...           ...      ...       ...  ...   ...         ...\n",
       "17961      0  2017             1    16700         4  150  47.1         1.4\n",
       "17962      0  2014             1    40700         4   30  57.7         1.0\n",
       "17963      6  2015             1     7010         0   20  67.3         1.6\n",
       "17964     11  2018             1     5007         4  145  57.7         1.2\n",
       "17965     23  2015             1     5007         4   22  57.7         1.0\n",
       "\n",
       "[17966 rows x 8 columns]"
      ]
     },
     "execution_count": 80,
     "metadata": {},
     "output_type": "execute_result"
    }
   ],
   "source": [
    "x_label"
   ]
  },
  {
   "cell_type": "code",
   "execution_count": 81,
   "id": "7b9fa76e",
   "metadata": {},
   "outputs": [],
   "source": [
    "from sklearn.preprocessing import StandardScaler;\n"
   ]
  },
  {
   "cell_type": "code",
   "execution_count": 82,
   "id": "ad761238",
   "metadata": {},
   "outputs": [],
   "source": [
    "numeric_cols = ['year','mileage','tax','mpg','engineSize'];\n",
    "scaler = StandardScaler();\n",
    "x_one_encode[numeric_cols] = scaler.fit_transform(x_one_encode[numeric_cols]);\n"
   ]
  },
  {
   "cell_type": "code",
   "execution_count": 83,
   "id": "39be7cc2",
   "metadata": {},
   "outputs": [
    {
     "data": {
      "text/html": [
       "<div>\n",
       "<style scoped>\n",
       "    .dataframe tbody tr th:only-of-type {\n",
       "        vertical-align: middle;\n",
       "    }\n",
       "\n",
       "    .dataframe tbody tr th {\n",
       "        vertical-align: top;\n",
       "    }\n",
       "\n",
       "    .dataframe thead th {\n",
       "        text-align: right;\n",
       "    }\n",
       "</style>\n",
       "<table border=\"1\" class=\"dataframe\">\n",
       "  <thead>\n",
       "    <tr style=\"text-align: right;\">\n",
       "      <th></th>\n",
       "      <th>year</th>\n",
       "      <th>mileage</th>\n",
       "      <th>tax</th>\n",
       "      <th>mpg</th>\n",
       "      <th>engineSize</th>\n",
       "      <th>model_ B-MAX</th>\n",
       "      <th>model_ C-MAX</th>\n",
       "      <th>model_ EcoSport</th>\n",
       "      <th>model_ Edge</th>\n",
       "      <th>model_ Escort</th>\n",
       "      <th>...</th>\n",
       "      <th>model_ Transit Tourneo</th>\n",
       "      <th>model_Focus</th>\n",
       "      <th>transmission_Automatic</th>\n",
       "      <th>transmission_Manual</th>\n",
       "      <th>transmission_Semi-Auto</th>\n",
       "      <th>fuelType_Diesel</th>\n",
       "      <th>fuelType_Electric</th>\n",
       "      <th>fuelType_Hybrid</th>\n",
       "      <th>fuelType_Other</th>\n",
       "      <th>fuelType_Petrol</th>\n",
       "    </tr>\n",
       "  </thead>\n",
       "  <tbody>\n",
       "    <tr>\n",
       "      <th>0</th>\n",
       "      <td>0.065128</td>\n",
       "      <td>-0.380998</td>\n",
       "      <td>0.591358</td>\n",
       "      <td>-0.042122</td>\n",
       "      <td>-0.447984</td>\n",
       "      <td>0</td>\n",
       "      <td>0</td>\n",
       "      <td>0</td>\n",
       "      <td>0</td>\n",
       "      <td>0</td>\n",
       "      <td>...</td>\n",
       "      <td>0</td>\n",
       "      <td>0</td>\n",
       "      <td>1</td>\n",
       "      <td>0</td>\n",
       "      <td>0</td>\n",
       "      <td>0</td>\n",
       "      <td>0</td>\n",
       "      <td>0</td>\n",
       "      <td>0</td>\n",
       "      <td>1</td>\n",
       "    </tr>\n",
       "    <tr>\n",
       "      <th>1</th>\n",
       "      <td>0.552866</td>\n",
       "      <td>-0.733359</td>\n",
       "      <td>0.591358</td>\n",
       "      <td>-0.042122</td>\n",
       "      <td>-0.447984</td>\n",
       "      <td>0</td>\n",
       "      <td>0</td>\n",
       "      <td>0</td>\n",
       "      <td>0</td>\n",
       "      <td>0</td>\n",
       "      <td>...</td>\n",
       "      <td>0</td>\n",
       "      <td>0</td>\n",
       "      <td>0</td>\n",
       "      <td>1</td>\n",
       "      <td>0</td>\n",
       "      <td>0</td>\n",
       "      <td>0</td>\n",
       "      <td>0</td>\n",
       "      <td>0</td>\n",
       "      <td>1</td>\n",
       "    </tr>\n",
       "    <tr>\n",
       "      <th>2</th>\n",
       "      <td>0.065128</td>\n",
       "      <td>-0.560132</td>\n",
       "      <td>0.591358</td>\n",
       "      <td>-0.042122</td>\n",
       "      <td>-0.447984</td>\n",
       "      <td>0</td>\n",
       "      <td>0</td>\n",
       "      <td>0</td>\n",
       "      <td>0</td>\n",
       "      <td>0</td>\n",
       "      <td>...</td>\n",
       "      <td>0</td>\n",
       "      <td>0</td>\n",
       "      <td>0</td>\n",
       "      <td>1</td>\n",
       "      <td>0</td>\n",
       "      <td>0</td>\n",
       "      <td>0</td>\n",
       "      <td>0</td>\n",
       "      <td>0</td>\n",
       "      <td>1</td>\n",
       "    </tr>\n",
       "    <tr>\n",
       "      <th>3</th>\n",
       "      <td>1.040605</td>\n",
       "      <td>-0.662640</td>\n",
       "      <td>0.510727</td>\n",
       "      <td>-1.721198</td>\n",
       "      <td>-0.447984</td>\n",
       "      <td>0</td>\n",
       "      <td>0</td>\n",
       "      <td>0</td>\n",
       "      <td>0</td>\n",
       "      <td>0</td>\n",
       "      <td>...</td>\n",
       "      <td>0</td>\n",
       "      <td>0</td>\n",
       "      <td>0</td>\n",
       "      <td>1</td>\n",
       "      <td>0</td>\n",
       "      <td>0</td>\n",
       "      <td>0</td>\n",
       "      <td>0</td>\n",
       "      <td>0</td>\n",
       "      <td>1</td>\n",
       "    </tr>\n",
       "    <tr>\n",
       "      <th>4</th>\n",
       "      <td>1.040605</td>\n",
       "      <td>-1.123724</td>\n",
       "      <td>0.510727</td>\n",
       "      <td>-0.931045</td>\n",
       "      <td>-0.447984</td>\n",
       "      <td>0</td>\n",
       "      <td>0</td>\n",
       "      <td>0</td>\n",
       "      <td>0</td>\n",
       "      <td>0</td>\n",
       "      <td>...</td>\n",
       "      <td>0</td>\n",
       "      <td>0</td>\n",
       "      <td>1</td>\n",
       "      <td>0</td>\n",
       "      <td>0</td>\n",
       "      <td>0</td>\n",
       "      <td>0</td>\n",
       "      <td>0</td>\n",
       "      <td>0</td>\n",
       "      <td>1</td>\n",
       "    </tr>\n",
       "    <tr>\n",
       "      <th>...</th>\n",
       "      <td>...</td>\n",
       "      <td>...</td>\n",
       "      <td>...</td>\n",
       "      <td>...</td>\n",
       "      <td>...</td>\n",
       "      <td>...</td>\n",
       "      <td>...</td>\n",
       "      <td>...</td>\n",
       "      <td>...</td>\n",
       "      <td>...</td>\n",
       "      <td>...</td>\n",
       "      <td>...</td>\n",
       "      <td>...</td>\n",
       "      <td>...</td>\n",
       "      <td>...</td>\n",
       "      <td>...</td>\n",
       "      <td>...</td>\n",
       "      <td>...</td>\n",
       "      <td>...</td>\n",
       "      <td>...</td>\n",
       "      <td>...</td>\n",
       "    </tr>\n",
       "    <tr>\n",
       "      <th>17961</th>\n",
       "      <td>0.065128</td>\n",
       "      <td>-0.342172</td>\n",
       "      <td>0.591358</td>\n",
       "      <td>-1.029814</td>\n",
       "      <td>-0.447984</td>\n",
       "      <td>1</td>\n",
       "      <td>0</td>\n",
       "      <td>0</td>\n",
       "      <td>0</td>\n",
       "      <td>0</td>\n",
       "      <td>...</td>\n",
       "      <td>0</td>\n",
       "      <td>0</td>\n",
       "      <td>0</td>\n",
       "      <td>1</td>\n",
       "      <td>0</td>\n",
       "      <td>0</td>\n",
       "      <td>0</td>\n",
       "      <td>0</td>\n",
       "      <td>0</td>\n",
       "      <td>1</td>\n",
       "    </tr>\n",
       "    <tr>\n",
       "      <th>17962</th>\n",
       "      <td>-1.398088</td>\n",
       "      <td>0.890398</td>\n",
       "      <td>-1.343791</td>\n",
       "      <td>-0.042122</td>\n",
       "      <td>-0.447984</td>\n",
       "      <td>1</td>\n",
       "      <td>0</td>\n",
       "      <td>0</td>\n",
       "      <td>0</td>\n",
       "      <td>0</td>\n",
       "      <td>...</td>\n",
       "      <td>0</td>\n",
       "      <td>0</td>\n",
       "      <td>0</td>\n",
       "      <td>1</td>\n",
       "      <td>0</td>\n",
       "      <td>0</td>\n",
       "      <td>0</td>\n",
       "      <td>0</td>\n",
       "      <td>0</td>\n",
       "      <td>1</td>\n",
       "    </tr>\n",
       "    <tr>\n",
       "      <th>17963</th>\n",
       "      <td>-0.910349</td>\n",
       "      <td>-0.839822</td>\n",
       "      <td>-1.505053</td>\n",
       "      <td>0.945569</td>\n",
       "      <td>-0.447984</td>\n",
       "      <td>0</td>\n",
       "      <td>0</td>\n",
       "      <td>0</td>\n",
       "      <td>0</td>\n",
       "      <td>0</td>\n",
       "      <td>...</td>\n",
       "      <td>0</td>\n",
       "      <td>0</td>\n",
       "      <td>0</td>\n",
       "      <td>1</td>\n",
       "      <td>0</td>\n",
       "      <td>1</td>\n",
       "      <td>0</td>\n",
       "      <td>0</td>\n",
       "      <td>0</td>\n",
       "      <td>0</td>\n",
       "    </tr>\n",
       "    <tr>\n",
       "      <th>17964</th>\n",
       "      <td>0.552866</td>\n",
       "      <td>-0.942690</td>\n",
       "      <td>0.510727</td>\n",
       "      <td>-0.042122</td>\n",
       "      <td>-0.447984</td>\n",
       "      <td>0</td>\n",
       "      <td>0</td>\n",
       "      <td>0</td>\n",
       "      <td>0</td>\n",
       "      <td>0</td>\n",
       "      <td>...</td>\n",
       "      <td>0</td>\n",
       "      <td>0</td>\n",
       "      <td>0</td>\n",
       "      <td>1</td>\n",
       "      <td>0</td>\n",
       "      <td>0</td>\n",
       "      <td>0</td>\n",
       "      <td>0</td>\n",
       "      <td>0</td>\n",
       "      <td>1</td>\n",
       "    </tr>\n",
       "    <tr>\n",
       "      <th>17965</th>\n",
       "      <td>-0.910349</td>\n",
       "      <td>-0.942690</td>\n",
       "      <td>-1.472801</td>\n",
       "      <td>-0.042122</td>\n",
       "      <td>-0.447984</td>\n",
       "      <td>0</td>\n",
       "      <td>0</td>\n",
       "      <td>0</td>\n",
       "      <td>0</td>\n",
       "      <td>0</td>\n",
       "      <td>...</td>\n",
       "      <td>0</td>\n",
       "      <td>1</td>\n",
       "      <td>0</td>\n",
       "      <td>1</td>\n",
       "      <td>0</td>\n",
       "      <td>0</td>\n",
       "      <td>0</td>\n",
       "      <td>0</td>\n",
       "      <td>0</td>\n",
       "      <td>1</td>\n",
       "    </tr>\n",
       "  </tbody>\n",
       "</table>\n",
       "<p>17966 rows × 37 columns</p>\n",
       "</div>"
      ],
      "text/plain": [
       "           year   mileage       tax       mpg  engineSize  model_ B-MAX  \\\n",
       "0      0.065128 -0.380998  0.591358 -0.042122   -0.447984             0   \n",
       "1      0.552866 -0.733359  0.591358 -0.042122   -0.447984             0   \n",
       "2      0.065128 -0.560132  0.591358 -0.042122   -0.447984             0   \n",
       "3      1.040605 -0.662640  0.510727 -1.721198   -0.447984             0   \n",
       "4      1.040605 -1.123724  0.510727 -0.931045   -0.447984             0   \n",
       "...         ...       ...       ...       ...         ...           ...   \n",
       "17961  0.065128 -0.342172  0.591358 -1.029814   -0.447984             1   \n",
       "17962 -1.398088  0.890398 -1.343791 -0.042122   -0.447984             1   \n",
       "17963 -0.910349 -0.839822 -1.505053  0.945569   -0.447984             0   \n",
       "17964  0.552866 -0.942690  0.510727 -0.042122   -0.447984             0   \n",
       "17965 -0.910349 -0.942690 -1.472801 -0.042122   -0.447984             0   \n",
       "\n",
       "       model_ C-MAX  model_ EcoSport  model_ Edge  model_ Escort  ...  \\\n",
       "0                 0                0            0              0  ...   \n",
       "1                 0                0            0              0  ...   \n",
       "2                 0                0            0              0  ...   \n",
       "3                 0                0            0              0  ...   \n",
       "4                 0                0            0              0  ...   \n",
       "...             ...              ...          ...            ...  ...   \n",
       "17961             0                0            0              0  ...   \n",
       "17962             0                0            0              0  ...   \n",
       "17963             0                0            0              0  ...   \n",
       "17964             0                0            0              0  ...   \n",
       "17965             0                0            0              0  ...   \n",
       "\n",
       "       model_ Transit Tourneo  model_Focus  transmission_Automatic  \\\n",
       "0                           0            0                       1   \n",
       "1                           0            0                       0   \n",
       "2                           0            0                       0   \n",
       "3                           0            0                       0   \n",
       "4                           0            0                       1   \n",
       "...                       ...          ...                     ...   \n",
       "17961                       0            0                       0   \n",
       "17962                       0            0                       0   \n",
       "17963                       0            0                       0   \n",
       "17964                       0            0                       0   \n",
       "17965                       0            1                       0   \n",
       "\n",
       "       transmission_Manual  transmission_Semi-Auto  fuelType_Diesel  \\\n",
       "0                        0                       0                0   \n",
       "1                        1                       0                0   \n",
       "2                        1                       0                0   \n",
       "3                        1                       0                0   \n",
       "4                        0                       0                0   \n",
       "...                    ...                     ...              ...   \n",
       "17961                    1                       0                0   \n",
       "17962                    1                       0                0   \n",
       "17963                    1                       0                1   \n",
       "17964                    1                       0                0   \n",
       "17965                    1                       0                0   \n",
       "\n",
       "       fuelType_Electric  fuelType_Hybrid  fuelType_Other  fuelType_Petrol  \n",
       "0                      0                0               0                1  \n",
       "1                      0                0               0                1  \n",
       "2                      0                0               0                1  \n",
       "3                      0                0               0                1  \n",
       "4                      0                0               0                1  \n",
       "...                  ...              ...             ...              ...  \n",
       "17961                  0                0               0                1  \n",
       "17962                  0                0               0                1  \n",
       "17963                  0                0               0                0  \n",
       "17964                  0                0               0                1  \n",
       "17965                  0                0               0                1  \n",
       "\n",
       "[17966 rows x 37 columns]"
      ]
     },
     "execution_count": 83,
     "metadata": {},
     "output_type": "execute_result"
    }
   ],
   "source": [
    "x_one_encode"
   ]
  },
  {
   "cell_type": "code",
   "execution_count": 84,
   "id": "64fa9d4e",
   "metadata": {},
   "outputs": [
    {
     "name": "stdout",
     "output_type": "stream",
     "text": [
      "Index(['model', 'year', 'transmission', 'mileage', 'fuelType', 'tax', 'mpg',\n",
      "       'engineSize'],\n",
      "      dtype='object')\n"
     ]
    }
   ],
   "source": [
    "print(x_label.columns);"
   ]
  },
  {
   "cell_type": "code",
   "execution_count": 85,
   "id": "208f4992",
   "metadata": {},
   "outputs": [],
   "source": [
    "x_label[['model', 'year', 'transmission', 'mileage','fuelType', 'tax', 'mpg','engineSize']] = scaler.fit_transform(x_label[['model', 'year', 'transmission', 'mileage','fuelType', 'tax', 'mpg','engineSize']]);"
   ]
  },
  {
   "cell_type": "code",
   "execution_count": 86,
   "id": "0c34a44a",
   "metadata": {},
   "outputs": [
    {
     "name": "stdout",
     "output_type": "stream",
     "text": [
      "          model      year  transmission   mileage  fuelType       tax  \\\n",
      "0     -0.460699  0.065128     -2.670032 -0.380998  0.688777  0.591358   \n",
      "1     -0.211477  0.552866      0.041351 -0.733359  0.688777  0.591358   \n",
      "2     -0.211477  0.065128      0.041351 -0.560132  0.688777  0.591358   \n",
      "3     -0.460699  1.040605      0.041351 -0.662640  0.688777  0.510727   \n",
      "4     -0.460699  1.040605     -2.670032 -1.123724  0.688777  0.510727   \n",
      "...         ...       ...           ...       ...       ...       ...   \n",
      "17961 -1.706810  0.065128      0.041351 -0.342172  0.688777  0.591358   \n",
      "17962 -1.706810 -1.398088      0.041351  0.890398  0.688777 -1.343791   \n",
      "17963 -0.211477 -0.910349      0.041351 -0.839822 -1.454098 -1.505053   \n",
      "17964  1.034634  0.552866      0.041351 -0.942690  0.688777  0.510727   \n",
      "17965  4.025302 -0.910349      0.041351 -0.942690  0.688777 -1.472801   \n",
      "\n",
      "            mpg  engineSize  \n",
      "0     -0.020442   -0.811386  \n",
      "1     -0.020442   -0.811386  \n",
      "2     -0.020442   -0.811386  \n",
      "3     -1.738890    0.345070  \n",
      "4     -0.909294   -0.811386  \n",
      "...         ...         ...  \n",
      "17961 -1.067312    0.113779  \n",
      "17962 -0.020442   -0.811386  \n",
      "17963  0.927668    0.576362  \n",
      "17964 -0.020442   -0.348804  \n",
      "17965 -0.020442   -0.811386  \n",
      "\n",
      "[17966 rows x 8 columns]\n"
     ]
    }
   ],
   "source": [
    "print(x_label);"
   ]
  },
  {
   "cell_type": "code",
   "execution_count": 88,
   "id": "a02200ed",
   "metadata": {},
   "outputs": [],
   "source": [
    "from sklearn.model_selection import train_test_split;\n",
    "from sklearn.linear_model import LinearRegression;\n",
    "from sklearn.metrics import mean_absolute_error,mean_squared_error,r2_score;\n",
    "\n",
    "\n",
    "y = df['price'];\n",
    "\n",
    "x_train,x_test,y_train,y_test = train_test_split(x_one_encode,y,test_size=0.20,random_state=42);"
   ]
  },
  {
   "cell_type": "code",
   "execution_count": 89,
   "id": "c622cc05",
   "metadata": {},
   "outputs": [],
   "source": [
    "model = LinearRegression();\n",
    "model.fit(x_train,y_train);"
   ]
  },
  {
   "cell_type": "code",
   "execution_count": 90,
   "id": "e1cf263b",
   "metadata": {},
   "outputs": [],
   "source": [
    "y_pred = model.predict(x_test);"
   ]
  },
  {
   "cell_type": "code",
   "execution_count": 91,
   "id": "5a2d9317",
   "metadata": {},
   "outputs": [
    {
     "name": "stdout",
     "output_type": "stream",
     "text": [
      "[ 6866.3580764   9347.6810129   9362.18320785 ... 31454.95287518\n",
      "  9781.20362786 15253.49970894]\n"
     ]
    }
   ],
   "source": [
    "print(y_pred);"
   ]
  },
  {
   "cell_type": "code",
   "execution_count": 92,
   "id": "6da053d6",
   "metadata": {},
   "outputs": [
    {
     "name": "stdout",
     "output_type": "stream",
     "text": [
      "17610     6995\n",
      "7076      8999\n",
      "1713      7998\n",
      "1611      5491\n",
      "16830     3790\n",
      "         ...  \n",
      "7731     22000\n",
      "11655    13699\n",
      "10536    24979\n",
      "11885    10500\n",
      "4032     19718\n",
      "Name: price, Length: 3594, dtype: int64\n"
     ]
    }
   ],
   "source": [
    "print(y_test);"
   ]
  },
  {
   "cell_type": "code",
   "execution_count": 93,
   "id": "19e19fa8",
   "metadata": {},
   "outputs": [
    {
     "data": {
      "text/plain": [
       "0.8464177711972801"
      ]
     },
     "execution_count": 93,
     "metadata": {},
     "output_type": "execute_result"
    }
   ],
   "source": [
    "r2 = r2_score(y_test,y_pred);\n",
    "r2"
   ]
  },
  {
   "cell_type": "code",
   "execution_count": 94,
   "id": "7963c4d6",
   "metadata": {},
   "outputs": [
    {
     "name": "stdout",
     "output_type": "stream",
     "text": [
      "adjusted r2 0.8448197558807164\n"
     ]
    }
   ],
   "source": [
    "n = x_test.shape[0];\n",
    "p = x_test.shape[1];\n",
    "\n",
    "adjusted_r2 = 1-((1-r2)*(n-1))/(n-p-1)\n",
    "\n",
    "print(\"adjusted r2\",adjusted_r2);"
   ]
  },
  {
   "cell_type": "code",
   "execution_count": 95,
   "id": "533a11a6",
   "metadata": {},
   "outputs": [],
   "source": [
    "y = df['price'];\n",
    "\n",
    "x_train,x_test,y_train,y_test = train_test_split(x_label,y,test_size=0.20,random_state=42);"
   ]
  },
  {
   "cell_type": "code",
   "execution_count": 96,
   "id": "3526b1af",
   "metadata": {},
   "outputs": [],
   "source": [
    "model2 = LinearRegression();\n",
    "model2.fit(x_train,y_train);"
   ]
  },
  {
   "cell_type": "code",
   "execution_count": 97,
   "id": "5987766c",
   "metadata": {},
   "outputs": [],
   "source": [
    "y_pred = model2.predict(x_test);"
   ]
  },
  {
   "cell_type": "code",
   "execution_count": 99,
   "id": "1eaebf80",
   "metadata": {},
   "outputs": [
    {
     "name": "stdout",
     "output_type": "stream",
     "text": [
      "[ 6152.07567671  9374.39134399  9464.92264335 ... 21787.05312508\n",
      "  9776.43926374 15806.24990719]\n"
     ]
    }
   ],
   "source": [
    "print(y_pred);"
   ]
  },
  {
   "cell_type": "code",
   "execution_count": 100,
   "id": "f00758a7",
   "metadata": {},
   "outputs": [
    {
     "name": "stdout",
     "output_type": "stream",
     "text": [
      "17610     6995\n",
      "7076      8999\n",
      "1713      7998\n",
      "1611      5491\n",
      "16830     3790\n",
      "         ...  \n",
      "7731     22000\n",
      "11655    13699\n",
      "10536    24979\n",
      "11885    10500\n",
      "4032     19718\n",
      "Name: price, Length: 3594, dtype: int64\n"
     ]
    }
   ],
   "source": [
    "print(y_test);"
   ]
  },
  {
   "cell_type": "code",
   "execution_count": 101,
   "id": "3233fb02",
   "metadata": {},
   "outputs": [
    {
     "data": {
      "text/plain": [
       "0.7365884288851354"
      ]
     },
     "execution_count": 101,
     "metadata": {},
     "output_type": "execute_result"
    }
   ],
   "source": [
    "r2 = r2_score(y_test,y_pred);\n",
    "r2"
   ]
  },
  {
   "cell_type": "code",
   "execution_count": 102,
   "id": "b966dc0a",
   "metadata": {},
   "outputs": [
    {
     "name": "stdout",
     "output_type": "stream",
     "text": [
      "adjusted r2 0.7360006206371803\n"
     ]
    }
   ],
   "source": [
    "n = x_test.shape[0];\n",
    "p = x_test.shape[1];\n",
    "\n",
    "adjusted_r2 = 1-((1-r2)*(n-1))/(n-p-1)\n",
    "\n",
    "print(\"adjusted r2\",adjusted_r2);"
   ]
  },
  {
   "cell_type": "code",
   "execution_count": null,
   "id": "d8b0755d",
   "metadata": {},
   "outputs": [],
   "source": []
  },
  {
   "cell_type": "code",
   "execution_count": null,
   "id": "fe381f6e",
   "metadata": {},
   "outputs": [],
   "source": []
  }
 ],
 "metadata": {
  "kernelspec": {
   "display_name": "Python 3",
   "language": "python",
   "name": "python3"
  },
  "language_info": {
   "codemirror_mode": {
    "name": "ipython",
    "version": 3
   },
   "file_extension": ".py",
   "mimetype": "text/x-python",
   "name": "python",
   "nbconvert_exporter": "python",
   "pygments_lexer": "ipython3",
   "version": "3.12.2"
  }
 },
 "nbformat": 4,
 "nbformat_minor": 5
}
