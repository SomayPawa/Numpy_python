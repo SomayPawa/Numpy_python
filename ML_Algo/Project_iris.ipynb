{
 "cells": [
  {
   "cell_type": "code",
   "execution_count": 29,
   "id": "284a3b9f",
   "metadata": {},
   "outputs": [],
   "source": [
    "import pandas as pd;\n",
    "import numpy as np;\n",
    "import seaborn as sns;\n",
    "import matplotlib.pyplot as plt;"
   ]
  },
  {
   "cell_type": "code",
   "execution_count": 30,
   "id": "f285a6fa",
   "metadata": {},
   "outputs": [],
   "source": [
    "df = sns.load_dataset('iris');"
   ]
  },
  {
   "cell_type": "code",
   "execution_count": 31,
   "id": "a78d9dcd",
   "metadata": {},
   "outputs": [
    {
     "name": "stdout",
     "output_type": "stream",
     "text": [
      "   sepal_length  sepal_width  petal_length  petal_width species\n",
      "0           5.1          3.5           1.4          0.2  setosa\n",
      "1           4.9          3.0           1.4          0.2  setosa\n",
      "2           4.7          3.2           1.3          0.2  setosa\n",
      "3           4.6          3.1           1.5          0.2  setosa\n",
      "4           5.0          3.6           1.4          0.2  setosa\n"
     ]
    }
   ],
   "source": [
    "print(df.head());"
   ]
  },
  {
   "cell_type": "code",
   "execution_count": 32,
   "id": "8223258f",
   "metadata": {},
   "outputs": [
    {
     "name": "stdout",
     "output_type": "stream",
     "text": [
      "['setosa' 'versicolor' 'virginica']\n"
     ]
    }
   ],
   "source": [
    "print(df['species'].unique());"
   ]
  },
  {
   "cell_type": "code",
   "execution_count": 33,
   "id": "f701dda5",
   "metadata": {},
   "outputs": [],
   "source": [
    "from sklearn.model_selection import train_test_split;"
   ]
  },
  {
   "cell_type": "code",
   "execution_count": 34,
   "id": "e0a119e6",
   "metadata": {},
   "outputs": [],
   "source": [
    "x = df.drop('species',axis=1);\n",
    "y = df['species'];"
   ]
  },
  {
   "cell_type": "code",
   "execution_count": 35,
   "id": "23c3ae3c",
   "metadata": {},
   "outputs": [],
   "source": [
    "X_train, X_test, y_train, y_test = train_test_split(x, y, test_size=0.20, random_state=42) \n",
    "\n",
    "# train se model train and test se model test"
   ]
  },
  {
   "cell_type": "code",
   "execution_count": 36,
   "id": "290bfeea",
   "metadata": {},
   "outputs": [],
   "source": [
    "from sklearn.neighbors import KNeighborsClassifier;"
   ]
  },
  {
   "cell_type": "code",
   "execution_count": 37,
   "id": "d9416a66",
   "metadata": {},
   "outputs": [],
   "source": [
    "model_knn = KNeighborsClassifier(n_neighbors=12);"
   ]
  },
  {
   "cell_type": "code",
   "execution_count": 38,
   "id": "49bd63a5",
   "metadata": {},
   "outputs": [],
   "source": [
    "model_knn.fit(X_train,y_train);"
   ]
  },
  {
   "cell_type": "code",
   "execution_count": 39,
   "id": "833bdb5d",
   "metadata": {},
   "outputs": [
    {
     "name": "stdout",
     "output_type": "stream",
     "text": [
      "1.0\n"
     ]
    }
   ],
   "source": [
    "print(model_knn.score(X_test,y_test));"
   ]
  },
  {
   "cell_type": "code",
   "execution_count": 40,
   "id": "364f16ae",
   "metadata": {},
   "outputs": [],
   "source": [
    "from sklearn.svm import SVC;"
   ]
  },
  {
   "cell_type": "code",
   "execution_count": 49,
   "id": "676a8ce5",
   "metadata": {},
   "outputs": [],
   "source": [
    "model_svm = SVC(gamma='auto');"
   ]
  },
  {
   "cell_type": "code",
   "execution_count": 50,
   "id": "b83673d6",
   "metadata": {},
   "outputs": [],
   "source": [
    "model_svm.fit(X_train,y_train);\n"
   ]
  },
  {
   "cell_type": "code",
   "execution_count": 51,
   "id": "992720a6",
   "metadata": {},
   "outputs": [
    {
     "name": "stdout",
     "output_type": "stream",
     "text": [
      "1.0\n"
     ]
    }
   ],
   "source": [
    "print(model_svm.score(X_test,y_test));"
   ]
  },
  {
   "cell_type": "code",
   "execution_count": 52,
   "id": "2dd51e44",
   "metadata": {},
   "outputs": [],
   "source": [
    "## now lets use the grid search cv \n",
    "from sklearn.model_selection import GridSearchCV;\n"
   ]
  },
  {
   "cell_type": "code",
   "execution_count": 57,
   "id": "705fda36",
   "metadata": {},
   "outputs": [],
   "source": [
    "classifier = GridSearchCV(model_svm,{\n",
    "    'C':[1,10,20,30],\n",
    "    'kernel' : ['rbf','linear']\n",
    "    },cv = 5,return_train_score=False);"
   ]
  },
  {
   "cell_type": "code",
   "execution_count": 58,
   "id": "ba85e22d",
   "metadata": {},
   "outputs": [],
   "source": [
    "classifier.fit(x,y);"
   ]
  },
  {
   "cell_type": "code",
   "execution_count": 59,
   "id": "c8a665ad",
   "metadata": {},
   "outputs": [
    {
     "data": {
      "text/plain": [
       "{'mean_fit_time': array([0.00180635, 0.00199766, 0.002     , 0.00160451, 0.00198922,\n",
       "        0.0020164 , 0.00160241, 0.00139284]),\n",
       " 'std_fit_time': array([4.03505441e-04, 6.27435832e-04, 8.83063280e-06, 4.88708433e-04,\n",
       "        1.53920198e-05, 6.22234884e-04, 4.85190724e-04, 5.03015267e-04]),\n",
       " 'mean_score_time': array([0.00179753, 0.00180058, 0.00140109, 0.00140038, 0.00101352,\n",
       "        0.00129437, 0.00100121, 0.00160341]),\n",
       " 'std_score_time': array([3.93857292e-04, 4.00598568e-04, 4.96237917e-04, 4.91133676e-04,\n",
       "        1.19027954e-05, 4.03640584e-04, 6.26013109e-04, 4.93054035e-04]),\n",
       " 'param_C': masked_array(data=[1, 1, 10, 10, 20, 20, 30, 30],\n",
       "              mask=[False, False, False, False, False, False, False, False],\n",
       "        fill_value=999999),\n",
       " 'param_kernel': masked_array(data=['rbf', 'linear', 'rbf', 'linear', 'rbf', 'linear',\n",
       "                    'rbf', 'linear'],\n",
       "              mask=[False, False, False, False, False, False, False, False],\n",
       "        fill_value='?',\n",
       "             dtype=object),\n",
       " 'params': [{'C': 1, 'kernel': 'rbf'},\n",
       "  {'C': 1, 'kernel': 'linear'},\n",
       "  {'C': 10, 'kernel': 'rbf'},\n",
       "  {'C': 10, 'kernel': 'linear'},\n",
       "  {'C': 20, 'kernel': 'rbf'},\n",
       "  {'C': 20, 'kernel': 'linear'},\n",
       "  {'C': 30, 'kernel': 'rbf'},\n",
       "  {'C': 30, 'kernel': 'linear'}],\n",
       " 'split0_test_score': array([0.96666667, 0.96666667, 0.96666667, 1.        , 0.96666667,\n",
       "        1.        , 0.96666667, 1.        ]),\n",
       " 'split1_test_score': array([1., 1., 1., 1., 1., 1., 1., 1.]),\n",
       " 'split2_test_score': array([0.96666667, 0.96666667, 0.96666667, 0.9       , 0.9       ,\n",
       "        0.9       , 0.9       , 0.9       ]),\n",
       " 'split3_test_score': array([0.96666667, 0.96666667, 0.96666667, 0.96666667, 0.96666667,\n",
       "        0.93333333, 0.93333333, 0.9       ]),\n",
       " 'split4_test_score': array([1., 1., 1., 1., 1., 1., 1., 1.]),\n",
       " 'mean_test_score': array([0.98      , 0.98      , 0.98      , 0.97333333, 0.96666667,\n",
       "        0.96666667, 0.96      , 0.96      ]),\n",
       " 'std_test_score': array([0.01632993, 0.01632993, 0.01632993, 0.03887301, 0.03651484,\n",
       "        0.0421637 , 0.03887301, 0.04898979]),\n",
       " 'rank_test_score': array([1, 1, 1, 4, 5, 6, 7, 7])}"
      ]
     },
     "execution_count": 59,
     "metadata": {},
     "output_type": "execute_result"
    }
   ],
   "source": [
    "classifier.cv_results_"
   ]
  },
  {
   "cell_type": "code",
   "execution_count": 60,
   "id": "9cde887b",
   "metadata": {},
   "outputs": [],
   "source": [
    "results = pd.DataFrame(classifier.cv_results_);"
   ]
  },
  {
   "cell_type": "code",
   "execution_count": 62,
   "id": "3f117016",
   "metadata": {},
   "outputs": [
    {
     "name": "stdout",
     "output_type": "stream",
     "text": [
      "   mean_fit_time  std_fit_time  mean_score_time  std_score_time  param_C  \\\n",
      "0       0.001806      0.000404         0.001798        0.000394        1   \n",
      "1       0.001998      0.000627         0.001801        0.000401        1   \n",
      "2       0.002000      0.000009         0.001401        0.000496       10   \n",
      "3       0.001605      0.000489         0.001400        0.000491       10   \n",
      "4       0.001989      0.000015         0.001014        0.000012       20   \n",
      "5       0.002016      0.000622         0.001294        0.000404       20   \n",
      "6       0.001602      0.000485         0.001001        0.000626       30   \n",
      "7       0.001393      0.000503         0.001603        0.000493       30   \n",
      "\n",
      "  param_kernel                         params  split0_test_score  \\\n",
      "0          rbf      {'C': 1, 'kernel': 'rbf'}           0.966667   \n",
      "1       linear   {'C': 1, 'kernel': 'linear'}           0.966667   \n",
      "2          rbf     {'C': 10, 'kernel': 'rbf'}           0.966667   \n",
      "3       linear  {'C': 10, 'kernel': 'linear'}           1.000000   \n",
      "4          rbf     {'C': 20, 'kernel': 'rbf'}           0.966667   \n",
      "5       linear  {'C': 20, 'kernel': 'linear'}           1.000000   \n",
      "6          rbf     {'C': 30, 'kernel': 'rbf'}           0.966667   \n",
      "7       linear  {'C': 30, 'kernel': 'linear'}           1.000000   \n",
      "\n",
      "   split1_test_score  split2_test_score  split3_test_score  split4_test_score  \\\n",
      "0                1.0           0.966667           0.966667                1.0   \n",
      "1                1.0           0.966667           0.966667                1.0   \n",
      "2                1.0           0.966667           0.966667                1.0   \n",
      "3                1.0           0.900000           0.966667                1.0   \n",
      "4                1.0           0.900000           0.966667                1.0   \n",
      "5                1.0           0.900000           0.933333                1.0   \n",
      "6                1.0           0.900000           0.933333                1.0   \n",
      "7                1.0           0.900000           0.900000                1.0   \n",
      "\n",
      "   mean_test_score  std_test_score  rank_test_score  \n",
      "0         0.980000        0.016330                1  \n",
      "1         0.980000        0.016330                1  \n",
      "2         0.980000        0.016330                1  \n",
      "3         0.973333        0.038873                4  \n",
      "4         0.966667        0.036515                5  \n",
      "5         0.966667        0.042164                6  \n",
      "6         0.960000        0.038873                7  \n",
      "7         0.960000        0.048990                7  \n"
     ]
    }
   ],
   "source": [
    "print(results);"
   ]
  },
  {
   "cell_type": "code",
   "execution_count": 64,
   "id": "63a2108b",
   "metadata": {},
   "outputs": [
    {
     "name": "stdout",
     "output_type": "stream",
     "text": [
      "   param_C param_kernel  mean_test_score\n",
      "0        1          rbf         0.980000\n",
      "1        1       linear         0.980000\n",
      "2       10          rbf         0.980000\n",
      "3       10       linear         0.973333\n",
      "4       20          rbf         0.966667\n",
      "5       20       linear         0.966667\n",
      "6       30          rbf         0.960000\n",
      "7       30       linear         0.960000\n"
     ]
    }
   ],
   "source": [
    "print(results[['param_C','param_kernel','mean_test_score']]);"
   ]
  },
  {
   "cell_type": "code",
   "execution_count": 65,
   "id": "dd845eaf",
   "metadata": {},
   "outputs": [],
   "source": [
    "## same thing for kneighborsclassifier \n",
    "\n",
    "from sklearn.model_selection import RandomizedSearchCV;\n"
   ]
  },
  {
   "cell_type": "code",
   "execution_count": 66,
   "id": "436f0522",
   "metadata": {},
   "outputs": [],
   "source": [
    "classifier_r = RandomizedSearchCV(model_svm,{\n",
    "    'C':[1,10,20,30],\n",
    "    'kernel' : ['rbf','linear']\n",
    "    },n_iter=4,cv = 5,return_train_score=False);"
   ]
  },
  {
   "cell_type": "code",
   "execution_count": null,
   "id": "a1c79f99",
   "metadata": {},
   "outputs": [],
   "source": [
    "classifier_r.fit(x,y);"
   ]
  },
  {
   "cell_type": "code",
   "execution_count": 68,
   "id": "a556be58",
   "metadata": {},
   "outputs": [],
   "source": [
    "results = pd.DataFrame(classifier_r.cv_results_);\n"
   ]
  },
  {
   "cell_type": "code",
   "execution_count": 69,
   "id": "62e68243",
   "metadata": {},
   "outputs": [
    {
     "name": "stdout",
     "output_type": "stream",
     "text": [
      "   mean_fit_time  std_fit_time  mean_score_time  std_score_time param_kernel  \\\n",
      "0       0.001804      0.000748         0.001197        0.000399       linear   \n",
      "1       0.002206      0.000397         0.001195        0.000407       linear   \n",
      "2       0.001809      0.000402         0.001795        0.000401       linear   \n",
      "3       0.002202      0.000397         0.001599        0.000493          rbf   \n",
      "\n",
      "   param_C                         params  split0_test_score  \\\n",
      "0       20  {'kernel': 'linear', 'C': 20}           1.000000   \n",
      "1        1   {'kernel': 'linear', 'C': 1}           0.966667   \n",
      "2       30  {'kernel': 'linear', 'C': 30}           1.000000   \n",
      "3       20     {'kernel': 'rbf', 'C': 20}           0.966667   \n",
      "\n",
      "   split1_test_score  split2_test_score  split3_test_score  split4_test_score  \\\n",
      "0                1.0           0.900000           0.933333                1.0   \n",
      "1                1.0           0.966667           0.966667                1.0   \n",
      "2                1.0           0.900000           0.900000                1.0   \n",
      "3                1.0           0.900000           0.966667                1.0   \n",
      "\n",
      "   mean_test_score  std_test_score  rank_test_score  \n",
      "0         0.966667        0.042164                3  \n",
      "1         0.980000        0.016330                1  \n",
      "2         0.960000        0.048990                4  \n",
      "3         0.966667        0.036515                2  \n"
     ]
    }
   ],
   "source": [
    "print(results);"
   ]
  },
  {
   "cell_type": "code",
   "execution_count": 70,
   "id": "66be6e65",
   "metadata": {},
   "outputs": [
    {
     "name": "stdout",
     "output_type": "stream",
     "text": [
      "   param_C param_kernel  mean_test_score\n",
      "0       20       linear         0.966667\n",
      "1        1       linear         0.980000\n",
      "2       30       linear         0.960000\n",
      "3       20          rbf         0.966667\n"
     ]
    }
   ],
   "source": [
    "print(results[['param_C','param_kernel','mean_test_score']]);"
   ]
  },
  {
   "cell_type": "code",
   "execution_count": null,
   "id": "f907673c",
   "metadata": {},
   "outputs": [],
   "source": []
  }
 ],
 "metadata": {
  "kernelspec": {
   "display_name": "Python 3",
   "language": "python",
   "name": "python3"
  },
  "language_info": {
   "codemirror_mode": {
    "name": "ipython",
    "version": 3
   },
   "file_extension": ".py",
   "mimetype": "text/x-python",
   "name": "python",
   "nbconvert_exporter": "python",
   "pygments_lexer": "ipython3",
   "version": "3.12.2"
  }
 },
 "nbformat": 4,
 "nbformat_minor": 5
}
