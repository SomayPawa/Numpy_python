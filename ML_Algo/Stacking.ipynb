{
 "cells": [
  {
   "cell_type": "code",
   "execution_count": 9,
   "id": "b36ef61f",
   "metadata": {},
   "outputs": [],
   "source": [
    "from sklearn.model_selection import train_test_split;\n",
    "from sklearn.ensemble import StackingClassifier;\n",
    "from sklearn.tree import DecisionTreeClassifier;\n",
    "from sklearn.linear_model import LogisticRegression;\n",
    "from sklearn.svm import SVC;\n",
    "from sklearn.metrics import accuracy_score,classification_report;\n",
    "import seaborn as sns;\n",
    "from sklearn.preprocessing import LabelEncoder;"
   ]
  },
  {
   "cell_type": "code",
   "execution_count": 10,
   "id": "3e6785da",
   "metadata": {},
   "outputs": [],
   "source": [
    "df = sns.load_dataset('iris');"
   ]
  },
  {
   "cell_type": "code",
   "execution_count": 11,
   "id": "c6fd7100",
   "metadata": {},
   "outputs": [],
   "source": [
    "df.head();"
   ]
  },
  {
   "cell_type": "code",
   "execution_count": 12,
   "id": "44d698f2",
   "metadata": {},
   "outputs": [],
   "source": [
    "x = df.drop('species',axis=1);\n",
    "y = df['species'];"
   ]
  },
  {
   "cell_type": "code",
   "execution_count": 13,
   "id": "a8456878",
   "metadata": {},
   "outputs": [],
   "source": [
    "le = LabelEncoder()\n",
    "y_encoded = le.fit_transform(y)"
   ]
  },
  {
   "cell_type": "code",
   "execution_count": 15,
   "id": "d9b90da3",
   "metadata": {},
   "outputs": [],
   "source": [
    "X_train, X_test, y_train, y_test = train_test_split(x, y_encoded, test_size=0.20, random_state=42) "
   ]
  },
  {
   "cell_type": "code",
   "execution_count": 16,
   "id": "7134dc96",
   "metadata": {},
   "outputs": [],
   "source": [
    "base_learners = [\n",
    "    ('dt',DecisionTreeClassifier(random_state=42)),\n",
    "    ('svc',SVC(probability=True,kernel='rbf',random_state=42)),\n",
    "    ('lr',LogisticRegression(max_iter=1000))\n",
    "]"
   ]
  },
  {
   "cell_type": "code",
   "execution_count": 17,
   "id": "e652e729",
   "metadata": {},
   "outputs": [],
   "source": [
    "meta_learner = LogisticRegression(max_iter=1000);"
   ]
  },
  {
   "cell_type": "code",
   "execution_count": null,
   "id": "0b8abf0a",
   "metadata": {},
   "outputs": [],
   "source": [
    "stacking_clf = StackingClassifier(\n",
    "    estimators=base_learners,\n",
    "    final_estimator=meta_learner,\n",
    "    cv = 5 # cross validation \n",
    ")"
   ]
  },
  {
   "cell_type": "code",
   "execution_count": 20,
   "id": "2e2d7642",
   "metadata": {},
   "outputs": [
    {
     "name": "stdout",
     "output_type": "stream",
     "text": [
      "StackingClassifier(cv=5,\n",
      "                   estimators=[('dt', DecisionTreeClassifier(random_state=42)),\n",
      "                               ('svc', SVC(probability=True, random_state=42)),\n",
      "                               ('lr', LogisticRegression(max_iter=1000))],\n",
      "                   final_estimator=LogisticRegression(max_iter=1000))\n"
     ]
    }
   ],
   "source": [
    "print(stacking_clf.fit(X_train,y_train));"
   ]
  },
  {
   "cell_type": "code",
   "execution_count": 21,
   "id": "64329e37",
   "metadata": {},
   "outputs": [],
   "source": [
    "y_pred = stacking_clf.predict(X_test);"
   ]
  },
  {
   "cell_type": "code",
   "execution_count": 22,
   "id": "a30bd09c",
   "metadata": {},
   "outputs": [
    {
     "name": "stdout",
     "output_type": "stream",
     "text": [
      "[1 0 2 1 1 0 1 2 1 1 2 0 0 0 0 1 2 1 1 2 0 2 0 2 2 2 2 2 0 0]\n"
     ]
    }
   ],
   "source": [
    "print(y_pred);"
   ]
  },
  {
   "cell_type": "code",
   "execution_count": 23,
   "id": "ec10e8f0",
   "metadata": {},
   "outputs": [],
   "source": [
    "acc = accuracy_score(y_test,y_pred);"
   ]
  },
  {
   "cell_type": "code",
   "execution_count": 24,
   "id": "398d55f7",
   "metadata": {},
   "outputs": [
    {
     "name": "stdout",
     "output_type": "stream",
     "text": [
      "1.0\n"
     ]
    }
   ],
   "source": [
    "print(acc);"
   ]
  },
  {
   "cell_type": "code",
   "execution_count": 25,
   "id": "df572ba5",
   "metadata": {},
   "outputs": [],
   "source": [
    "from sklearn.ensemble import RandomForestClassifier"
   ]
  },
  {
   "cell_type": "code",
   "execution_count": 26,
   "id": "261d8cae",
   "metadata": {},
   "outputs": [],
   "source": [
    "rf_model = RandomForestClassifier(\n",
    "    n_estimators=100, # number of tree\n",
    "    max_depth=None,\n",
    "    random_state=42\n",
    ")\n"
   ]
  },
  {
   "cell_type": "code",
   "execution_count": 27,
   "id": "3d8b1840",
   "metadata": {},
   "outputs": [],
   "source": [
    "rf_model.fit(X_train,y_train);"
   ]
  },
  {
   "cell_type": "code",
   "execution_count": 28,
   "id": "3f70cd27",
   "metadata": {},
   "outputs": [],
   "source": [
    "y_pred = rf_model.predict(X_test);"
   ]
  },
  {
   "cell_type": "code",
   "execution_count": 29,
   "id": "5ddbcdf5",
   "metadata": {},
   "outputs": [],
   "source": [
    "acc = accuracy_score(y_test,y_pred);"
   ]
  },
  {
   "cell_type": "code",
   "execution_count": 30,
   "id": "02550f4f",
   "metadata": {},
   "outputs": [
    {
     "name": "stdout",
     "output_type": "stream",
     "text": [
      "1.0\n"
     ]
    }
   ],
   "source": [
    "print(acc);"
   ]
  },
  {
   "cell_type": "code",
   "execution_count": 32,
   "id": "004817be",
   "metadata": {},
   "outputs": [
    {
     "name": "stdout",
     "output_type": "stream",
     "text": [
      "Collecting xgboost\n",
      "  Using cached xgboost-3.0.3-py3-none-win_amd64.whl.metadata (2.1 kB)\n",
      "Requirement already satisfied: numpy in c:\\users\\lalpa\\appdata\\local\\programs\\python\\python312\\lib\\site-packages (from xgboost) (1.26.4)\n",
      "Requirement already satisfied: scipy in c:\\users\\lalpa\\appdata\\local\\programs\\python\\python312\\lib\\site-packages (from xgboost) (1.14.1)\n",
      "Using cached xgboost-3.0.3-py3-none-win_amd64.whl (149.9 MB)\n",
      "Installing collected packages: xgboost\n",
      "Successfully installed xgboost-3.0.3\n",
      "Note: you may need to restart the kernel to use updated packages.\n"
     ]
    },
    {
     "name": "stderr",
     "output_type": "stream",
     "text": [
      "\n",
      "[notice] A new release of pip is available: 24.0 -> 25.2\n",
      "[notice] To update, run: python.exe -m pip install --upgrade pip\n"
     ]
    }
   ],
   "source": [
    "%pip install xgboost\n",
    "\n",
    "from sklearn.ensemble import AdaBoostClassifier, GradientBoostingClassifier\n",
    "from xgboost import XGBClassifier"
   ]
  },
  {
   "cell_type": "code",
   "execution_count": 33,
   "id": "45e6c267",
   "metadata": {},
   "outputs": [
    {
     "name": "stdout",
     "output_type": "stream",
     "text": [
      "1.0\n"
     ]
    },
    {
     "name": "stderr",
     "output_type": "stream",
     "text": [
      "c:\\Users\\lalpa\\AppData\\Local\\Programs\\Python\\Python312\\Lib\\site-packages\\sklearn\\ensemble\\_weight_boosting.py:527: FutureWarning: The SAMME.R algorithm (the default) is deprecated and will be removed in 1.6. Use the SAMME algorithm to circumvent this warning.\n",
      "  warnings.warn(\n"
     ]
    }
   ],
   "source": [
    "ada_model = AdaBoostClassifier(n_estimators=100, random_state=42)\n",
    "\n",
    "ada_model.fit(X_train,y_train)\n",
    "\n",
    "y_pred = ada_model.predict(X_test)\n",
    "\n",
    "accuracy = accuracy_score(y_test, y_pred)\n",
    "\n",
    "print(accuracy);"
   ]
  },
  {
   "cell_type": "code",
   "execution_count": null,
   "id": "319cc962",
   "metadata": {},
   "outputs": [],
   "source": []
  }
 ],
 "metadata": {
  "kernelspec": {
   "display_name": "Python 3",
   "language": "python",
   "name": "python3"
  },
  "language_info": {
   "codemirror_mode": {
    "name": "ipython",
    "version": 3
   },
   "file_extension": ".py",
   "mimetype": "text/x-python",
   "name": "python",
   "nbconvert_exporter": "python",
   "pygments_lexer": "ipython3",
   "version": "3.12.2"
  }
 },
 "nbformat": 4,
 "nbformat_minor": 5
}
