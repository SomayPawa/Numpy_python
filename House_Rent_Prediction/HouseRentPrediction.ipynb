{
 "cells": [
  {
   "cell_type": "markdown",
   "id": "741b5311",
   "metadata": {},
   "source": [
    "#### My First own project"
   ]
  },
  {
   "cell_type": "code",
   "execution_count": 67,
   "id": "5afe3b66",
   "metadata": {},
   "outputs": [],
   "source": [
    "import numpy as np;\n",
    "import pandas as pd;\n",
    "import seaborn as sns;\n",
    "import matplotlib.pyplot as plt;\n",
    "import warnings;\n",
    "warnings.filterwarnings('ignore');"
   ]
  },
  {
   "cell_type": "code",
   "execution_count": 69,
   "id": "b821770c",
   "metadata": {},
   "outputs": [],
   "source": [
    "df = pd.read_csv('House_Rent_Dataset.csv');\n",
    "df;"
   ]
  },
  {
   "cell_type": "code",
   "execution_count": 70,
   "id": "0023a855",
   "metadata": {},
   "outputs": [
    {
     "name": "stdout",
     "output_type": "stream",
     "text": [
      "    Posted On  BHK   Rent  Size            Floor    Area Type  \\\n",
      "0  2022-05-18    2  10000  1100  Ground out of 2   Super Area   \n",
      "1  2022-05-13    2  20000   800       1 out of 3   Super Area   \n",
      "2  2022-05-16    2  17000  1000       1 out of 3   Super Area   \n",
      "3  2022-07-04    2  10000   800       1 out of 2   Super Area   \n",
      "4  2022-05-09    2   7500   850       1 out of 2  Carpet Area   \n",
      "\n",
      "              Area Locality     City Furnishing Status  Tenant Preferred  \\\n",
      "0                    Bandel  Kolkata       Unfurnished  Bachelors/Family   \n",
      "1  Phool Bagan, Kankurgachi  Kolkata    Semi-Furnished  Bachelors/Family   \n",
      "2   Salt Lake City Sector 2  Kolkata    Semi-Furnished  Bachelors/Family   \n",
      "3               Dumdum Park  Kolkata       Unfurnished  Bachelors/Family   \n",
      "4             South Dum Dum  Kolkata       Unfurnished         Bachelors   \n",
      "\n",
      "   Bathroom Point of Contact  \n",
      "0         2    Contact Owner  \n",
      "1         1    Contact Owner  \n",
      "2         1    Contact Owner  \n",
      "3         1    Contact Owner  \n",
      "4         1    Contact Owner  \n"
     ]
    }
   ],
   "source": [
    "print(df.head());"
   ]
  },
  {
   "cell_type": "code",
   "execution_count": 71,
   "id": "38237891",
   "metadata": {},
   "outputs": [
    {
     "name": "stdout",
     "output_type": "stream",
     "text": [
      "Index(['Posted On', 'BHK', 'Rent', 'Size', 'Floor', 'Area Type',\n",
      "       'Area Locality', 'City', 'Furnishing Status', 'Tenant Preferred',\n",
      "       'Bathroom', 'Point of Contact'],\n",
      "      dtype='object')\n"
     ]
    }
   ],
   "source": [
    "# print(df.shape);\n",
    "# print(df.info())\n",
    "# print(df.describe());\n",
    "# print(df.isnull().sum());\n",
    "print(df.columns);"
   ]
  },
  {
   "cell_type": "code",
   "execution_count": 72,
   "id": "97206398",
   "metadata": {},
   "outputs": [],
   "source": [
    "df.drop('Point of Contact',axis = 1,inplace=True);"
   ]
  },
  {
   "cell_type": "code",
   "execution_count": 73,
   "id": "ab659dbc",
   "metadata": {},
   "outputs": [
    {
     "name": "stdout",
     "output_type": "stream",
     "text": [
      "Index(['Posted On', 'BHK', 'Rent', 'Size', 'Floor', 'Area Type',\n",
      "       'Area Locality', 'City', 'Furnishing Status', 'Tenant Preferred',\n",
      "       'Bathroom'],\n",
      "      dtype='object')\n"
     ]
    }
   ],
   "source": [
    "print(df.columns);"
   ]
  },
  {
   "cell_type": "code",
   "execution_count": 74,
   "id": "34ee784b",
   "metadata": {},
   "outputs": [],
   "source": [
    "df_cleaned = df.copy();\n",
    "df_cleaned.drop_duplicates(inplace=True);\n"
   ]
  },
  {
   "cell_type": "code",
   "execution_count": 75,
   "id": "4de3dcca",
   "metadata": {},
   "outputs": [],
   "source": [
    "df_cleaned.drop('Posted On',axis=1,inplace=True);"
   ]
  },
  {
   "cell_type": "code",
   "execution_count": 76,
   "id": "6d6e849b",
   "metadata": {},
   "outputs": [
    {
     "name": "stdout",
     "output_type": "stream",
     "text": [
      "Index(['BHK', 'Rent', 'Size', 'Floor', 'Area Type', 'Area Locality', 'City',\n",
      "       'Furnishing Status', 'Tenant Preferred', 'Bathroom'],\n",
      "      dtype='object')\n"
     ]
    }
   ],
   "source": [
    "print(df_cleaned.columns);"
   ]
  },
  {
   "cell_type": "code",
   "execution_count": 77,
   "id": "db7c2c18",
   "metadata": {},
   "outputs": [
    {
     "name": "stdout",
     "output_type": "stream",
     "text": [
      "['Kolkata' 'Mumbai' 'Bangalore' 'Delhi' 'Chennai' 'Hyderabad']\n",
      "['Super Area' 'Carpet Area' 'Built Area']\n",
      "['Bandel' 'Phool Bagan, Kankurgachi' 'Salt Lake City Sector 2' ...\n",
      " 'BN Reddy Nagar' 'Godavari Homes, Quthbullapur' 'Manikonda, Hyderabad']\n",
      "['Ground out of 2' '1 out of 3' '1 out of 2' 'Ground out of 1'\n",
      " 'Ground out of 4' '1 out of 4' '1 out of 1' 'Ground out of 3'\n",
      " '2 out of 3' '4 out of 5' '2 out of 2' '2 out of 5' '4 out of 14'\n",
      " '3 out of 3' '5 out of 5' '4 out of 4' '7 out of 8' '2 out of 4'\n",
      " '3 out of 4' '1 out of 5' '8 out of 5' 'Ground out of 6' '2 out of 1'\n",
      " 'Upper Basement out of 4' 'Ground out of 5' '3 out of 5' '11 out of 19'\n",
      " '5 out of 10' '11 out of 14' 'Lower Basement out of 2' '2 out of 7'\n",
      " '4 out of 10' '7 out of 10' '2 out of 13' '6 out of 7' '4 out of 7'\n",
      " '14 out of 14' '43 out of 78' '2 out of 8' '13 out of 18' '5 out of 12'\n",
      " '18 out of 24' '3 out of 7' '17 out of 31' '11 out of 21' '7 out of 19'\n",
      " '14 out of 23' '9 out of 20' 'Upper Basement out of 9' '19 out of 24'\n",
      " '3 out of 21' '1 out of 22' '8 out of 8' '6 out of 12' '4 out of 58'\n",
      " 'Upper Basement out of 16' '60 out of 66' '34 out of 48' '5 out of 8'\n",
      " '5 out of 14' '14 out of 40' '5 out of 7' '9 out of 22' '12 out of 18'\n",
      " '26 out of 44' '1 out of 8' '25 out of 42' '25 out of 41' '53 out of 78'\n",
      " 'Ground out of 7' '14 out of 20' '13 out of 20' '16 out of 23'\n",
      " '10 out of 18' '39 out of 60' '16 out of 21' '10 out of 32' '4 out of 8'\n",
      " '12 out of 24' '32 out of 41' '3 out of 30' '13 out of 21' '9 out of 29'\n",
      " '47 out of 89' '7 out of 41' '28 out of 30' '13 out of 15' '6 out of 21'\n",
      " '8 out of 16' '2 out of 6' '5 out of 19' '3 out of 11' '17 out of 42'\n",
      " '10 out of 12' '8 out of 28' '9 out of 15' '14 out of 22' '18 out of 40'\n",
      " '9 out of 17' '12 out of 45' '25 out of 35' '7 out of 15' '10 out of 16'\n",
      " 'Upper Basement out of 20' '5 out of 20' 'Upper Basement out of 40'\n",
      " '5 out of 18' '34 out of 58' '4 out of 6' '20 out of 22' '12 out of 19'\n",
      " '15 out of 18' '65 out of 78' '6 out of 16' '17 out of 22' '6 out of 24'\n",
      " '40 out of 75' '19 out of 38' '15 out of 31' '11 out of 28'\n",
      " '10 out of 22' '17 out of 24' '15 out of 19' '9 out of 10' '7 out of 12'\n",
      " '8 out of 20' '11 out of 13' '9 out of 19' '37 out of 51' '6 out of 11'\n",
      " '8 out of 15' '11 out of 20' '10 out of 23' 'Upper Basement out of 10'\n",
      " '7 out of 23' '4 out of 11' '17 out of 43' '7 out of 22' '14 out of 18'\n",
      " '6 out of 10' '8 out of 12' '3 out of 18' '7 out of 7' '14 out of 58'\n",
      " '18 out of 23' '19 out of 19' '13 out of 14' '7 out of 11' '11 out of 22'\n",
      " 'Upper Basement out of 30' '12 out of 14' '16 out of 31' '12 out of 13'\n",
      " '11 out of 51' '2 out of 12' '22 out of 24' '7 out of 14' '5 out of 13'\n",
      " '7 out of 21' '14 out of 21' '17 out of 25' '9 out of 14' '8 out of 27'\n",
      " '3 out of 6' '17 out of 20' '18 out of 22' '1 out of 7' '9 out of 30'\n",
      " '3 out of 8' '11 out of 26' '17 out of 27' '4 out of 12' '12 out of 16'\n",
      " '10 out of 24' '65 out of 76' '7 out of 9' '17 out of 60' '10 out of 11'\n",
      " '18 out of 25' '5 out of 11' '15 out of 17' '15 out of 23' '5 out of 17'\n",
      " '3 out of 28' '5 out of 24' '16 out of 32' '21 out of 22' '7 out of 13'\n",
      " '9 out of 12' '15 out of 32' '18 out of 27' '15 out of 16' '18 out of 45'\n",
      " '15 out of 15' '6 out of 14' '1 out of 20' '16 out of 36' '30 out of 44'\n",
      " '30 out of 37' '2 out of 9' '12 out of 22' '4 out of 9' '2 out of 22'\n",
      " '5 out of 6' '6 out of 18' '35 out of 55' '16 out of 29' '30 out of 45'\n",
      " '5 out of 9' '16 out of 25' '33 out of 42' '4 out of 16' '13 out of 23'\n",
      " '9 out of 38' '6 out of 8' '8 out of 13' '19 out of 30' '10 out of 14'\n",
      " '11 out of 24' '9 out of 16' '9 out of 31' '4 out of 15' '3 out of 9'\n",
      " '22 out of 30' '3 out of 58' '1 out of 9' '53 out of 60' '5 out of 22'\n",
      " '15 out of 22' '19 out of 21' '9 out of 40' 'Ground out of 8'\n",
      " '44 out of 75' '8 out of 17' '3 out of 14' '12 out of 31' '26 out of 42'\n",
      " '2 out of 45' '12 out of 68' '17 out of 36' '10 out of 28' '41 out of 41'\n",
      " '14 out of 68' '14 out of 17' '15 out of 20' '46 out of 76'\n",
      " '12 out of 20' '20 out of 30' '18 out of 32' '10 out of 25'\n",
      " '17 out of 29' '10 out of 31' '10 out of 15' '13 out of 16' '8 out of 10'\n",
      " '18 out of 21' '27 out of 58' '1 out of 6' '19 out of 25' '3 out of 15'\n",
      " '25 out of 43' '8 out of 14' '11 out of 12' '9 out of 21' '10 out of 13'\n",
      " '45 out of 77' '18 out of 19' '10 out of 20' '12 out of 29'\n",
      " 'Lower Basement out of 18' '15 out of 24' '48 out of 68' '12 out of 42'\n",
      " '16 out of 22' '35 out of 68' '18 out of 30' '11 out of 31'\n",
      " '50 out of 75' '18 out of 26' '12 out of 27' '16 out of 20'\n",
      " '24 out of 55' '16 out of 37' 'Upper Basement out of 7' '6 out of 15'\n",
      " '11 out of 27' '11 out of 23' '3 out of 12' '14 out of 15' '23 out of 25'\n",
      " '14 out of 48' '29 out of 35' '15 out of 36' '15 out of 25'\n",
      " '15 out of 28' '3 out of 36' '8 out of 11' '6 out of 20' '23 out of 23'\n",
      " '5 out of 15' '16 out of 18' '2 out of 10' '40 out of 50' '25 out of 28'\n",
      " '12 out of 17' '34 out of 40' 'Upper Basement out of 22' '8 out of 23'\n",
      " '5 out of 21' '32 out of 59' '20 out of 32' '9 out of 18' '10 out of 37'\n",
      " '25 out of 48' '4 out of 22' '8 out of 18' '11 out of 11' '5 out of 23'\n",
      " '60 out of 77' '11 out of 18' '4 out of 20' '5 out of 16' '3 out of 13'\n",
      " '30 out of 58' '15 out of 43' '7 out of 16' '18 out of 28' '9 out of 55'\n",
      " '11 out of 25' '49 out of 55' '7 out of 27' '14 out of 27' '16 out of 27'\n",
      " '25 out of 50' '6 out of 30' '21 out of 23' '8 out of 58' '20 out of 41'\n",
      " '3 out of 62' '4 out of 13' '7 out of 17' '12 out of 21' '28 out of 39'\n",
      " '15 out of 58' '6 out of 23' '36 out of 45' '9 out of 28' '6 out of 45'\n",
      " '22 out of 52' '10 out of 19' '21 out of 58' '48 out of 54' '7 out of 28'\n",
      " '11 out of 15' '19 out of 22' '15 out of 37' '2 out of 17' '76 out of 78'\n",
      " '3 out of 10' '20 out of 27' '8 out of 36' '14 out of 33' '21 out of 21'\n",
      " '12 out of 25' '18 out of 29' '14 out of 35' '7 out of 20' '20 out of 37'\n",
      " '9 out of 35' '27 out of 27' '15 out of 60' '19 out of 33' '18 out of 20'\n",
      " '13 out of 40' '9 out of 11' '8 out of 22' '6 out of 13' '20 out of 31'\n",
      " '27 out of 45' '19 out of 20' '32 out of 46' '19 out of 85' '3 out of 23'\n",
      " '34 out of 46' '4 out of 27' '19 out of 27' '35 out of 60' '21 out of 33'\n",
      " '25 out of 52' '2 out of 24' '24 out of 24' '18 out of 33' '1 out of 10'\n",
      " '45 out of 60' '60 out of 71' '36 out of 81' '24 out of 60'\n",
      " '16 out of 38' '8 out of 45' 'Ground out of 16' '8 out of 32'\n",
      " '10 out of 10' '23 out of 40' '7 out of 18' '8 out of 19' '6 out of 17'\n",
      " '16 out of 34' 'Ground out of 12' '6 out of 9' 'Ground out of 18'\n",
      " '20 out of 25' '3 out of 22' '9 out of 32' '26 out of 32' '17 out of 18'\n",
      " '24 out of 25' '19 out of 26' '17 out of 19' '1 out of 13' '14 out of 30'\n",
      " '8 out of 9' '3 out of 17' 'Lower Basement out of 3' '12 out of 23'\n",
      " 'Ground out of 9' '1 out of 24' '1 out of 12' '3' 'Ground' '15 out of 29'\n",
      " '20 out of 20' '14 out of 29' 'Lower Basement out of 1' '13 out of 17'\n",
      " '1 out of 14' 'Upper Basement out of 2' '2 out of 14' '24 out of 31'\n",
      " '2 out of 32' '2 out of 16' '9 out of 13' '1 out of 11' '6 out of 29'\n",
      " '9 out of 9' '28 out of 31' '1 out of 15' 'Ground out of 14'\n",
      " '2 out of 11' '19 out of 31' '1 out of 16' '25 out of 32' '11 out of 16'\n",
      " '11 out of 17' 'Upper Basement out of 3' '4 out of 24' '1 out of 19'\n",
      " '7 out of 30' '16 out of 19' 'Upper Basement out of 5' 'Ground out of 13'\n",
      " '2 out of 25' '23 out of 30' '4 out of 30' '13 out of 25' '23 out of 35'\n",
      " 'Ground out of 10' '5 out of 34' '20 out of 35' '1' '4 out of 31'\n",
      " '4 out of 26' '24 out of 33' '4 out of 17' '1 out of 35' '11 out of 35'\n",
      " 'Ground out of 15' 'Ground out of 27' '15 out of 30' '12 out of 30'\n",
      " '23 out of 34']\n",
      "['Unfurnished' 'Semi-Furnished' 'Furnished']\n",
      "['Bachelors/Family' 'Bachelors' 'Family']\n"
     ]
    }
   ],
   "source": [
    "unique_city = df['City'].unique();\n",
    "print(unique_city);\n",
    "\n",
    "unique_area_type = df['Area Type'].unique();\n",
    "print(unique_area_type);\n",
    "\n",
    "unique_area_locality = df['Area Locality'].unique();\n",
    "print(unique_area_locality);\n",
    "\n",
    "unique_floor = df['Floor'].unique();\n",
    "print(unique_floor);\n",
    "\n",
    "furnish_type = df['Furnishing Status'].unique();\n",
    "print(furnish_type);\n",
    "\n",
    "Tenant_pref = df['Tenant Preferred'].unique();\n",
    "print(Tenant_pref);\n",
    "\n"
   ]
  },
  {
   "cell_type": "code",
   "execution_count": 78,
   "id": "d7b86a06",
   "metadata": {},
   "outputs": [],
   "source": [
    "df_cleaned.drop('Area Locality',axis=1,inplace=True);"
   ]
  },
  {
   "cell_type": "code",
   "execution_count": 79,
   "id": "35435e88",
   "metadata": {},
   "outputs": [
    {
     "name": "stdout",
     "output_type": "stream",
     "text": [
      "['Ground out of 2' '1 out of 3' '1 out of 2' 'Ground out of 1'\n",
      " 'Ground out of 4' '1 out of 4' '1 out of 1' 'Ground out of 3'\n",
      " '2 out of 3' '4 out of 5' '2 out of 2' '2 out of 5' '4 out of 14'\n",
      " '3 out of 3' '5 out of 5' '4 out of 4' '7 out of 8' '2 out of 4'\n",
      " '3 out of 4' '1 out of 5' '8 out of 5' 'Ground out of 6' '2 out of 1'\n",
      " 'Upper Basement out of 4' 'Ground out of 5' '3 out of 5' '11 out of 19'\n",
      " '5 out of 10' '11 out of 14' 'Lower Basement out of 2' '2 out of 7'\n",
      " '4 out of 10' '7 out of 10' '2 out of 13' '6 out of 7' '4 out of 7'\n",
      " '14 out of 14' '43 out of 78' '2 out of 8' '13 out of 18' '5 out of 12'\n",
      " '18 out of 24' '3 out of 7' '17 out of 31' '11 out of 21' '7 out of 19'\n",
      " '14 out of 23' '9 out of 20' 'Upper Basement out of 9' '19 out of 24'\n",
      " '3 out of 21' '1 out of 22' '8 out of 8' '6 out of 12' '4 out of 58'\n",
      " 'Upper Basement out of 16' '60 out of 66' '34 out of 48' '5 out of 8'\n",
      " '5 out of 14' '14 out of 40' '5 out of 7' '9 out of 22' '12 out of 18'\n",
      " '26 out of 44' '1 out of 8' '25 out of 42' '25 out of 41' '53 out of 78'\n",
      " 'Ground out of 7' '14 out of 20' '13 out of 20' '16 out of 23'\n",
      " '10 out of 18' '39 out of 60' '16 out of 21' '10 out of 32' '4 out of 8'\n",
      " '12 out of 24' '32 out of 41' '3 out of 30' '13 out of 21' '9 out of 29'\n",
      " '47 out of 89' '7 out of 41' '28 out of 30' '13 out of 15' '6 out of 21'\n",
      " '8 out of 16' '2 out of 6' '5 out of 19' '3 out of 11' '17 out of 42'\n",
      " '10 out of 12' '8 out of 28' '9 out of 15' '14 out of 22' '18 out of 40'\n",
      " '9 out of 17' '12 out of 45' '25 out of 35' '7 out of 15' '10 out of 16'\n",
      " 'Upper Basement out of 20' '5 out of 20' 'Upper Basement out of 40'\n",
      " '5 out of 18' '34 out of 58' '4 out of 6' '20 out of 22' '12 out of 19'\n",
      " '15 out of 18' '65 out of 78' '6 out of 16' '17 out of 22' '6 out of 24'\n",
      " '40 out of 75' '19 out of 38' '15 out of 31' '11 out of 28'\n",
      " '10 out of 22' '17 out of 24' '15 out of 19' '9 out of 10' '7 out of 12'\n",
      " '8 out of 20' '11 out of 13' '9 out of 19' '37 out of 51' '6 out of 11'\n",
      " '8 out of 15' '11 out of 20' '10 out of 23' 'Upper Basement out of 10'\n",
      " '7 out of 23' '4 out of 11' '17 out of 43' '7 out of 22' '14 out of 18'\n",
      " '6 out of 10' '8 out of 12' '3 out of 18' '7 out of 7' '14 out of 58'\n",
      " '18 out of 23' '19 out of 19' '13 out of 14' '7 out of 11' '11 out of 22'\n",
      " 'Upper Basement out of 30' '12 out of 14' '16 out of 31' '12 out of 13'\n",
      " '11 out of 51' '2 out of 12' '22 out of 24' '7 out of 14' '5 out of 13'\n",
      " '7 out of 21' '14 out of 21' '17 out of 25' '9 out of 14' '8 out of 27'\n",
      " '3 out of 6' '17 out of 20' '18 out of 22' '1 out of 7' '9 out of 30'\n",
      " '3 out of 8' '11 out of 26' '17 out of 27' '4 out of 12' '12 out of 16'\n",
      " '10 out of 24' '65 out of 76' '7 out of 9' '17 out of 60' '10 out of 11'\n",
      " '18 out of 25' '5 out of 11' '15 out of 17' '15 out of 23' '5 out of 17'\n",
      " '3 out of 28' '5 out of 24' '16 out of 32' '21 out of 22' '7 out of 13'\n",
      " '9 out of 12' '15 out of 32' '18 out of 27' '15 out of 16' '18 out of 45'\n",
      " '15 out of 15' '6 out of 14' '1 out of 20' '16 out of 36' '30 out of 44'\n",
      " '30 out of 37' '2 out of 9' '12 out of 22' '4 out of 9' '2 out of 22'\n",
      " '5 out of 6' '6 out of 18' '35 out of 55' '16 out of 29' '30 out of 45'\n",
      " '5 out of 9' '16 out of 25' '33 out of 42' '4 out of 16' '13 out of 23'\n",
      " '9 out of 38' '6 out of 8' '8 out of 13' '19 out of 30' '10 out of 14'\n",
      " '11 out of 24' '9 out of 16' '9 out of 31' '4 out of 15' '3 out of 9'\n",
      " '22 out of 30' '3 out of 58' '1 out of 9' '53 out of 60' '5 out of 22'\n",
      " '15 out of 22' '19 out of 21' '9 out of 40' 'Ground out of 8'\n",
      " '44 out of 75' '8 out of 17' '3 out of 14' '12 out of 31' '26 out of 42'\n",
      " '2 out of 45' '12 out of 68' '17 out of 36' '10 out of 28' '41 out of 41'\n",
      " '14 out of 68' '14 out of 17' '15 out of 20' '46 out of 76'\n",
      " '12 out of 20' '20 out of 30' '18 out of 32' '10 out of 25'\n",
      " '17 out of 29' '10 out of 31' '10 out of 15' '13 out of 16' '8 out of 10'\n",
      " '18 out of 21' '27 out of 58' '1 out of 6' '19 out of 25' '3 out of 15'\n",
      " '25 out of 43' '8 out of 14' '11 out of 12' '9 out of 21' '10 out of 13'\n",
      " '45 out of 77' '18 out of 19' '10 out of 20' '12 out of 29'\n",
      " 'Lower Basement out of 18' '15 out of 24' '48 out of 68' '12 out of 42'\n",
      " '16 out of 22' '35 out of 68' '18 out of 30' '11 out of 31'\n",
      " '50 out of 75' '18 out of 26' '12 out of 27' '16 out of 20'\n",
      " '24 out of 55' '16 out of 37' 'Upper Basement out of 7' '6 out of 15'\n",
      " '11 out of 27' '11 out of 23' '3 out of 12' '14 out of 15' '23 out of 25'\n",
      " '14 out of 48' '29 out of 35' '15 out of 36' '15 out of 25'\n",
      " '15 out of 28' '3 out of 36' '8 out of 11' '6 out of 20' '23 out of 23'\n",
      " '5 out of 15' '16 out of 18' '2 out of 10' '40 out of 50' '25 out of 28'\n",
      " '12 out of 17' '34 out of 40' 'Upper Basement out of 22' '8 out of 23'\n",
      " '5 out of 21' '32 out of 59' '20 out of 32' '9 out of 18' '10 out of 37'\n",
      " '25 out of 48' '4 out of 22' '8 out of 18' '11 out of 11' '5 out of 23'\n",
      " '60 out of 77' '11 out of 18' '4 out of 20' '5 out of 16' '3 out of 13'\n",
      " '30 out of 58' '15 out of 43' '7 out of 16' '18 out of 28' '9 out of 55'\n",
      " '11 out of 25' '49 out of 55' '7 out of 27' '14 out of 27' '16 out of 27'\n",
      " '25 out of 50' '6 out of 30' '21 out of 23' '8 out of 58' '20 out of 41'\n",
      " '3 out of 62' '4 out of 13' '7 out of 17' '12 out of 21' '28 out of 39'\n",
      " '15 out of 58' '6 out of 23' '36 out of 45' '9 out of 28' '6 out of 45'\n",
      " '22 out of 52' '10 out of 19' '21 out of 58' '48 out of 54' '7 out of 28'\n",
      " '11 out of 15' '19 out of 22' '15 out of 37' '2 out of 17' '76 out of 78'\n",
      " '3 out of 10' '20 out of 27' '8 out of 36' '14 out of 33' '21 out of 21'\n",
      " '12 out of 25' '18 out of 29' '14 out of 35' '7 out of 20' '20 out of 37'\n",
      " '9 out of 35' '27 out of 27' '15 out of 60' '19 out of 33' '18 out of 20'\n",
      " '13 out of 40' '9 out of 11' '8 out of 22' '6 out of 13' '20 out of 31'\n",
      " '27 out of 45' '19 out of 20' '32 out of 46' '19 out of 85' '3 out of 23'\n",
      " '34 out of 46' '4 out of 27' '19 out of 27' '35 out of 60' '21 out of 33'\n",
      " '25 out of 52' '2 out of 24' '24 out of 24' '18 out of 33' '1 out of 10'\n",
      " '45 out of 60' '60 out of 71' '36 out of 81' '24 out of 60'\n",
      " '16 out of 38' '8 out of 45' 'Ground out of 16' '8 out of 32'\n",
      " '10 out of 10' '23 out of 40' '7 out of 18' '8 out of 19' '6 out of 17'\n",
      " '16 out of 34' 'Ground out of 12' '6 out of 9' 'Ground out of 18'\n",
      " '20 out of 25' '3 out of 22' '9 out of 32' '26 out of 32' '17 out of 18'\n",
      " '24 out of 25' '19 out of 26' '17 out of 19' '1 out of 13' '14 out of 30'\n",
      " '8 out of 9' '3 out of 17' 'Lower Basement out of 3' '12 out of 23'\n",
      " 'Ground out of 9' '1 out of 24' '1 out of 12' '3' 'Ground' '15 out of 29'\n",
      " '20 out of 20' '14 out of 29' 'Lower Basement out of 1' '13 out of 17'\n",
      " '1 out of 14' 'Upper Basement out of 2' '2 out of 14' '24 out of 31'\n",
      " '2 out of 32' '2 out of 16' '9 out of 13' '1 out of 11' '6 out of 29'\n",
      " '9 out of 9' '28 out of 31' '1 out of 15' 'Ground out of 14'\n",
      " '2 out of 11' '19 out of 31' '1 out of 16' '25 out of 32' '11 out of 16'\n",
      " '11 out of 17' 'Upper Basement out of 3' '4 out of 24' '1 out of 19'\n",
      " '7 out of 30' '16 out of 19' 'Upper Basement out of 5' 'Ground out of 13'\n",
      " '2 out of 25' '23 out of 30' '4 out of 30' '13 out of 25' '23 out of 35'\n",
      " 'Ground out of 10' '5 out of 34' '20 out of 35' '1' '4 out of 31'\n",
      " '4 out of 26' '24 out of 33' '4 out of 17' '1 out of 35' '11 out of 35'\n",
      " 'Ground out of 15' 'Ground out of 27' '15 out of 30' '12 out of 30'\n",
      " '23 out of 34']\n"
     ]
    }
   ],
   "source": [
    "# df_cleaned\n",
    "unique_floor = df['Floor'].unique();\n",
    "print(unique_floor);"
   ]
  },
  {
   "cell_type": "code",
   "execution_count": 80,
   "id": "53e8e5ba",
   "metadata": {},
   "outputs": [],
   "source": [
    "#### no preprocessing the data like convert data into numeric values\n",
    "\n",
    "def clean_floor(str):\n",
    "    st = \"\";\n",
    "    for i in str:\n",
    "        if i == ' ':\n",
    "            break;\n",
    "        st += i;\n",
    "    if st[0] >= '0' and st[0] <= '9':\n",
    "        return int(st);\n",
    "    elif st == \"Upper\":\n",
    "        return 1;\n",
    "    elif st == \"Ground\":\n",
    "        return 0;\n",
    "    elif st == \"Lower\":\n",
    "        return -1;\n",
    "    else:\n",
    "        return 0;\n",
    "    \n",
    "    \n",
    "\n",
    "df_cleaned['Floor'] = df_cleaned['Floor'].apply(clean_floor);\n",
    "\n",
    "    \n",
    "\n",
    "\n",
    "\n"
   ]
  },
  {
   "cell_type": "code",
   "execution_count": 88,
   "id": "e78953af",
   "metadata": {},
   "outputs": [
    {
     "name": "stdout",
     "output_type": "stream",
     "text": [
      "      BHK   Rent  Size  Floor    Area Type       City Furnishing Status  \\\n",
      "0       2  10000  1100      0   Super Area    Kolkata       Unfurnished   \n",
      "1       2  20000   800      1   Super Area    Kolkata    Semi-Furnished   \n",
      "2       2  17000  1000      1   Super Area    Kolkata    Semi-Furnished   \n",
      "3       2  10000   800      1   Super Area    Kolkata       Unfurnished   \n",
      "4       2   7500   850      1  Carpet Area    Kolkata       Unfurnished   \n",
      "...   ...    ...   ...    ...          ...        ...               ...   \n",
      "4741    2  15000  1000      3  Carpet Area  Hyderabad    Semi-Furnished   \n",
      "4742    3  29000  2000      1   Super Area  Hyderabad    Semi-Furnished   \n",
      "4743    3  35000  1750      3  Carpet Area  Hyderabad    Semi-Furnished   \n",
      "4744    3  45000  1500     23  Carpet Area  Hyderabad    Semi-Furnished   \n",
      "4745    2  15000  1000      4  Carpet Area  Hyderabad       Unfurnished   \n",
      "\n",
      "      Bathroom  Tenant Preferred_Bachelors  Tenant Preferred_Bachelors/Family  \\\n",
      "0            2                       False                               True   \n",
      "1            1                       False                               True   \n",
      "2            1                       False                               True   \n",
      "3            1                       False                               True   \n",
      "4            1                        True                              False   \n",
      "...        ...                         ...                                ...   \n",
      "4741         2                       False                               True   \n",
      "4742         3                       False                               True   \n",
      "4743         3                       False                               True   \n",
      "4744         2                       False                              False   \n",
      "4745         2                        True                              False   \n",
      "\n",
      "      Tenant Preferred_Family  \n",
      "0                       False  \n",
      "1                       False  \n",
      "2                       False  \n",
      "3                       False  \n",
      "4                       False  \n",
      "...                       ...  \n",
      "4741                    False  \n",
      "4742                    False  \n",
      "4743                    False  \n",
      "4744                     True  \n",
      "4745                    False  \n",
      "\n",
      "[4746 rows x 11 columns]\n"
     ]
    }
   ],
   "source": [
    "print(df_cleaned);\n"
   ]
  },
  {
   "cell_type": "code",
   "execution_count": 82,
   "id": "9ab87295",
   "metadata": {},
   "outputs": [],
   "source": [
    "df['Tenant Preferred'].value_counts();\n",
    "df_cleaned = pd.get_dummies(df_cleaned,columns=['Tenant Preferred'],drop_first=False);\n"
   ]
  },
  {
   "cell_type": "code",
   "execution_count": 90,
   "id": "eecfb462",
   "metadata": {},
   "outputs": [],
   "source": [
    "df['City'].value_counts();\n",
    "df_cleaned = pd.get_dummies(df_cleaned,columns = ['City'],drop_first=False);"
   ]
  },
  {
   "cell_type": "code",
   "execution_count": 91,
   "id": "3f24ecce",
   "metadata": {},
   "outputs": [],
   "source": [
    "df['Area Type'].value_counts();\n",
    "df_cleaned = pd.get_dummies(df_cleaned,columns=['Area Type'],drop_first=False);"
   ]
  },
  {
   "cell_type": "code",
   "execution_count": 92,
   "id": "10b81cbe",
   "metadata": {},
   "outputs": [],
   "source": [
    "df['Furnishing Status'].value_counts();\n",
    "df_cleaned = pd.get_dummies(df_cleaned,columns=['Furnishing Status'],drop_first=False);"
   ]
  },
  {
   "cell_type": "code",
   "execution_count": 96,
   "id": "141fd457",
   "metadata": {},
   "outputs": [],
   "source": [
    "df_cleaned = df_cleaned.astype(int);\n",
    "df_cleaned;"
   ]
  },
  {
   "cell_type": "code",
   "execution_count": 98,
   "id": "823de43f",
   "metadata": {},
   "outputs": [
    {
     "name": "stdout",
     "output_type": "stream",
     "text": [
      "      BHK   Rent  Size  Floor  Bathroom  Tenant Preferred_Bachelors  \\\n",
      "0       2  10000  1100      0         2                           0   \n",
      "1       2  20000   800      1         1                           0   \n",
      "2       2  17000  1000      1         1                           0   \n",
      "3       2  10000   800      1         1                           0   \n",
      "4       2   7500   850      1         1                           1   \n",
      "...   ...    ...   ...    ...       ...                         ...   \n",
      "4741    2  15000  1000      3         2                           0   \n",
      "4742    3  29000  2000      1         3                           0   \n",
      "4743    3  35000  1750      3         3                           0   \n",
      "4744    3  45000  1500     23         2                           0   \n",
      "4745    2  15000  1000      4         2                           1   \n",
      "\n",
      "      Tenant Preferred_Bachelors/Family  Tenant Preferred_Family  \\\n",
      "0                                     1                        0   \n",
      "1                                     1                        0   \n",
      "2                                     1                        0   \n",
      "3                                     1                        0   \n",
      "4                                     0                        0   \n",
      "...                                 ...                      ...   \n",
      "4741                                  1                        0   \n",
      "4742                                  1                        0   \n",
      "4743                                  1                        0   \n",
      "4744                                  0                        1   \n",
      "4745                                  0                        0   \n",
      "\n",
      "      City_Bangalore  City_Chennai  City_Delhi  City_Hyderabad  City_Kolkata  \\\n",
      "0                  0             0           0               0             1   \n",
      "1                  0             0           0               0             1   \n",
      "2                  0             0           0               0             1   \n",
      "3                  0             0           0               0             1   \n",
      "4                  0             0           0               0             1   \n",
      "...              ...           ...         ...             ...           ...   \n",
      "4741               0             0           0               1             0   \n",
      "4742               0             0           0               1             0   \n",
      "4743               0             0           0               1             0   \n",
      "4744               0             0           0               1             0   \n",
      "4745               0             0           0               1             0   \n",
      "\n",
      "      City_Mumbai  Area Type_Built Area  Area Type_Carpet Area  \\\n",
      "0               0                     0                      0   \n",
      "1               0                     0                      0   \n",
      "2               0                     0                      0   \n",
      "3               0                     0                      0   \n",
      "4               0                     0                      1   \n",
      "...           ...                   ...                    ...   \n",
      "4741            0                     0                      1   \n",
      "4742            0                     0                      0   \n",
      "4743            0                     0                      1   \n",
      "4744            0                     0                      1   \n",
      "4745            0                     0                      1   \n",
      "\n",
      "      Area Type_Super Area  Furnishing Status_Furnished  \\\n",
      "0                        1                            0   \n",
      "1                        1                            0   \n",
      "2                        1                            0   \n",
      "3                        1                            0   \n",
      "4                        0                            0   \n",
      "...                    ...                          ...   \n",
      "4741                     0                            0   \n",
      "4742                     1                            0   \n",
      "4743                     0                            0   \n",
      "4744                     0                            0   \n",
      "4745                     0                            0   \n",
      "\n",
      "      Furnishing Status_Semi-Furnished  Furnishing Status_Unfurnished  \n",
      "0                                    0                              1  \n",
      "1                                    1                              0  \n",
      "2                                    1                              0  \n",
      "3                                    0                              1  \n",
      "4                                    0                              1  \n",
      "...                                ...                            ...  \n",
      "4741                                 1                              0  \n",
      "4742                                 1                              0  \n",
      "4743                                 1                              0  \n",
      "4744                                 1                              0  \n",
      "4745                                 0                              1  \n",
      "\n",
      "[4746 rows x 20 columns]\n"
     ]
    }
   ],
   "source": [
    "print(df_cleaned);\n",
    "\n"
   ]
  },
  {
   "cell_type": "code",
   "execution_count": 99,
   "id": "65f7cbb1",
   "metadata": {},
   "outputs": [
    {
     "name": "stdout",
     "output_type": "stream",
     "text": [
      "        BHK   Rent      Size     Floor  Bathroom  Tenant Preferred_Bachelors  \\\n",
      "0 -0.100773  10000  0.208960 -0.598061  0.038594                           0   \n",
      "1 -0.100773  20000 -0.264125 -0.424618 -1.092067                           0   \n",
      "2 -0.100773  17000  0.051265 -0.424618 -1.092067                           0   \n",
      "3 -0.100773  10000 -0.264125 -0.424618 -1.092067                           0   \n",
      "4 -0.100773   7500 -0.185277 -0.424618 -1.092067                           1   \n",
      "\n",
      "   Tenant Preferred_Bachelors/Family  Tenant Preferred_Family  City_Bangalore  \\\n",
      "0                                  1                        0               0   \n",
      "1                                  1                        0               0   \n",
      "2                                  1                        0               0   \n",
      "3                                  1                        0               0   \n",
      "4                                  0                        0               0   \n",
      "\n",
      "   City_Chennai  City_Delhi  City_Hyderabad  City_Kolkata  City_Mumbai  \\\n",
      "0             0           0               0             1            0   \n",
      "1             0           0               0             1            0   \n",
      "2             0           0               0             1            0   \n",
      "3             0           0               0             1            0   \n",
      "4             0           0               0             1            0   \n",
      "\n",
      "   Area Type_Built Area  Area Type_Carpet Area  Area Type_Super Area  \\\n",
      "0                     0                      0                     1   \n",
      "1                     0                      0                     1   \n",
      "2                     0                      0                     1   \n",
      "3                     0                      0                     1   \n",
      "4                     0                      1                     0   \n",
      "\n",
      "   Furnishing Status_Furnished  Furnishing Status_Semi-Furnished  \\\n",
      "0                            0                                 0   \n",
      "1                            0                                 1   \n",
      "2                            0                                 1   \n",
      "3                            0                                 0   \n",
      "4                            0                                 0   \n",
      "\n",
      "   Furnishing Status_Unfurnished  \n",
      "0                              1  \n",
      "1                              0  \n",
      "2                              0  \n",
      "3                              1  \n",
      "4                              1  \n"
     ]
    }
   ],
   "source": [
    "from sklearn.preprocessing import StandardScaler;\n",
    "cols = ['BHK','Size','Floor','Bathroom'];\n",
    "scaler = StandardScaler();\n",
    "df_cleaned[cols] = scaler.fit_transform(df_cleaned[cols]);\n",
    "print(df_cleaned.head());"
   ]
  },
  {
   "cell_type": "code",
   "execution_count": 101,
   "id": "f85d5339",
   "metadata": {},
   "outputs": [
    {
     "name": "stdout",
     "output_type": "stream",
     "text": [
      "Index(['BHK', 'Rent', 'Size', 'Floor', 'Bathroom',\n",
      "       'Tenant Preferred_Bachelors', 'Tenant Preferred_Bachelors/Family',\n",
      "       'Tenant Preferred_Family', 'City_Bangalore', 'City_Chennai',\n",
      "       'City_Delhi', 'City_Hyderabad', 'City_Kolkata', 'City_Mumbai',\n",
      "       'Area Type_Built Area', 'Area Type_Carpet Area', 'Area Type_Super Area',\n",
      "       'Furnishing Status_Furnished', 'Furnishing Status_Semi-Furnished',\n",
      "       'Furnishing Status_Unfurnished'],\n",
      "      dtype='object')\n"
     ]
    }
   ],
   "source": [
    "print(df_cleaned.columns);"
   ]
  },
  {
   "cell_type": "code",
   "execution_count": null,
   "id": "b6039c45",
   "metadata": {},
   "outputs": [
    {
     "name": "stdout",
     "output_type": "stream",
     "text": [
      "Rent                                 1.000000\n",
      "Bathroom                             0.441215\n",
      "Size                                 0.413551\n",
      "BHK                                  0.369718\n",
      "Floor                                0.327340\n",
      "City_Mumbai                          0.327038\n",
      "Area Type_Carpet Area                0.215769\n",
      "Furnishing Status_Furnished          0.110576\n",
      "Tenant Preferred_Family              0.063941\n",
      "Furnishing Status_Semi-Furnished     0.045309\n",
      "Tenant Preferred_Bachelors           0.042151\n",
      "Area Type_Built Area                -0.006439\n",
      "City_Delhi                          -0.027072\n",
      "City_Bangalore                      -0.061512\n",
      "Tenant Preferred_Bachelors/Family   -0.078774\n",
      "City_Chennai                        -0.082361\n",
      "City_Hyderabad                      -0.087465\n",
      "City_Kolkata                        -0.105322\n",
      "Furnishing Status_Unfurnished       -0.126271\n",
      "Area Type_Super Area                -0.215499\n",
      "dtype: float64\n"
     ]
    }
   ],
   "source": [
    "selected_feature =['BHK', 'Rent', 'Size', 'Floor', 'Bathroom',\n",
    "       'Tenant Preferred_Bachelors', 'Tenant Preferred_Bachelors/Family',\n",
    "       'Tenant Preferred_Family', 'City_Bangalore', 'City_Chennai',\n",
    "       'City_Delhi', 'City_Hyderabad', 'City_Kolkata', 'City_Mumbai',\n",
    "       'Area Type_Built Area', 'Area Type_Carpet Area', 'Area Type_Super Area',\n",
    "       'Furnishing Status_Furnished', 'Furnishing Status_Semi-Furnished',\n",
    "       'Furnishing Status_Unfurnished'] ;\n",
    "\n",
    "df_selected = df_cleaned[selected_feature];\n",
    "correlation_series = df_selected.corrwith(df_cleaned['Rent']);\n",
    "correlation_df = correlation_series.sort_values(ascending=False);\n",
    "print(correlation_df);"
   ]
  },
  {
   "cell_type": "code",
   "execution_count": 105,
   "id": "b871b62a",
   "metadata": {},
   "outputs": [
    {
     "name": "stdout",
     "output_type": "stream",
     "text": [
      "Bathroom                             0.441215\n",
      "Size                                 0.413551\n",
      "BHK                                  0.369718\n",
      "Floor                                0.327340\n",
      "City_Mumbai                          0.327038\n",
      "Area Type_Carpet Area                0.215769\n",
      "Furnishing Status_Furnished          0.110576\n",
      "Tenant Preferred_Family              0.063941\n",
      "Furnishing Status_Semi-Furnished     0.045309\n",
      "Tenant Preferred_Bachelors           0.042151\n",
      "Area Type_Built Area                -0.006439\n",
      "City_Delhi                          -0.027072\n",
      "City_Bangalore                      -0.061512\n",
      "Tenant Preferred_Bachelors/Family   -0.078774\n",
      "City_Chennai                        -0.082361\n",
      "City_Hyderabad                      -0.087465\n",
      "City_Kolkata                        -0.105322\n",
      "Furnishing Status_Unfurnished       -0.126271\n",
      "Area Type_Super Area                -0.215499\n",
      "dtype: float64\n"
     ]
    }
   ],
   "source": [
    "cat_feature = [\n",
    "    'BHK', 'Size', 'Floor', 'Bathroom',\n",
    "       'Tenant Preferred_Bachelors', 'Tenant Preferred_Bachelors/Family',\n",
    "       'Tenant Preferred_Family', 'City_Bangalore', 'City_Chennai',\n",
    "       'City_Delhi', 'City_Hyderabad', 'City_Kolkata', 'City_Mumbai',\n",
    "       'Area Type_Built Area', 'Area Type_Carpet Area', 'Area Type_Super Area',\n",
    "       'Furnishing Status_Furnished', 'Furnishing Status_Semi-Furnished',\n",
    "       'Furnishing Status_Unfurnished'\n",
    "]\n",
    "\n",
    "df_encoded = pd.get_dummies(df_cleaned[cat_feature],drop_first=False);\n",
    "\n",
    "cat_corr = df_encoded.corrwith(df_cleaned['Rent']).sort_values(ascending=False);\n",
    "\n",
    "print(cat_corr);"
   ]
  },
  {
   "cell_type": "code",
   "execution_count": 177,
   "id": "93a9e3a3",
   "metadata": {},
   "outputs": [],
   "source": [
    "final_df = df_cleaned[['BHK','Bathroom','Rent','Size','Floor','City_Mumbai','Area Type_Carpet Area','Furnishing Status_Furnished','City_Kolkata','Furnishing Status_Unfurnished','Area Type_Super Area']]\n",
    "\n",
    "from sklearn.model_selection import train_test_split;\n",
    "\n",
    "x = final_df.drop('Rent',axis=1);\n",
    "y = final_df['Rent'];\n",
    "\n",
    "x_train , x_test , y_train , y_test = train_test_split(x,y,test_size=0.20,random_state=42);\n",
    "\n"
   ]
  },
  {
   "cell_type": "code",
   "execution_count": 178,
   "id": "31dff318",
   "metadata": {},
   "outputs": [],
   "source": [
    "from sklearn.linear_model import LinearRegression;\n",
    "model = LinearRegression();\n",
    "model.fit(x_train,y_train);\n",
    "y_pred = model.predict(x_test);\n",
    "\n",
    "y_pred\n",
    "y_test;"
   ]
  },
  {
   "cell_type": "code",
   "execution_count": 179,
   "id": "1089827d",
   "metadata": {},
   "outputs": [
    {
     "name": "stdout",
     "output_type": "stream",
     "text": [
      "0.5086560990588094\n"
     ]
    }
   ],
   "source": [
    "from sklearn.metrics import r2_score;\n",
    "r2 = r2_score(y_test,y_pred);\n",
    "print(r2);\n"
   ]
  },
  {
   "cell_type": "code",
   "execution_count": 180,
   "id": "3d13365e",
   "metadata": {},
   "outputs": [
    {
     "name": "stdout",
     "output_type": "stream",
     "text": [
      "0.5034234696558149\n"
     ]
    }
   ],
   "source": [
    "n = x_test.shape[0];\n",
    "p = x_test.shape[1];\n",
    "adjusted_r2 = 1-((1-r2)*(n-1))/(n-p-1);\n",
    "print(adjusted_r2);"
   ]
  },
  {
   "cell_type": "code",
   "execution_count": null,
   "id": "a67f497c",
   "metadata": {},
   "outputs": [],
   "source": []
  }
 ],
 "metadata": {
  "kernelspec": {
   "display_name": "Python 3",
   "language": "python",
   "name": "python3"
  },
  "language_info": {
   "codemirror_mode": {
    "name": "ipython",
    "version": 3
   },
   "file_extension": ".py",
   "mimetype": "text/x-python",
   "name": "python",
   "nbconvert_exporter": "python",
   "pygments_lexer": "ipython3",
   "version": "3.12.2"
  }
 },
 "nbformat": 4,
 "nbformat_minor": 5
}
