{
 "cells": [
  {
   "cell_type": "code",
   "execution_count": 3,
   "id": "6308e0db",
   "metadata": {},
   "outputs": [],
   "source": [
    "import numpy as np;\n",
    "import pandas as pd;"
   ]
  },
  {
   "cell_type": "code",
   "execution_count": 8,
   "id": "38fe568a",
   "metadata": {},
   "outputs": [
    {
     "name": "stdout",
     "output_type": "stream",
     "text": [
      "      Name  Age         City  Salary\n",
      "0    Alice   25     New York   50000\n",
      "1      Bob   30  Los Angeles   60000\n",
      "2  Charlie   35      Chicago   75000\n",
      "3    David   40      Houston   90000\n"
     ]
    }
   ],
   "source": [
    "data = {\n",
    "    'Name': ['Alice', 'Bob', 'Charlie', 'David'],\n",
    "    'Age': [25, 30, 35, 40],\n",
    "    'City': ['New York', 'Los Angeles', 'Chicago', 'Houston'],\n",
    "    'Salary': [50000, 60000, 75000, 90000]\n",
    "}\n",
    "\n",
    "df = pd.DataFrame(data);\n",
    "print(df)\n"
   ]
  },
  {
   "cell_type": "code",
   "execution_count": 16,
   "id": "bf0c8e27",
   "metadata": {},
   "outputs": [
    {
     "name": "stdout",
     "output_type": "stream",
     "text": [
      "      name  age         city  salary\n",
      "0    Alice   25     New York   50000\n",
      "1      Bob   30  Los Angeles   60000\n",
      "2  Charlie   35      Chicago   75000\n",
      "3    David   40      Houston   90000\n"
     ]
    }
   ],
   "source": [
    "data_list = [\n",
    "    ['Alice', 25, 'New York', 50000],\n",
    "    ['Bob', 30, 'Los Angeles', 60000],\n",
    "    ['Charlie', 35, 'Chicago', 75000],\n",
    "    ['David', 40, 'Houston', 90000]\n",
    "]\n",
    "\n",
    "df2 = pd.DataFrame(data_list);\n",
    "\n",
    "columns = [\"name\",\"age\",\"city\",\"salary\"];\n",
    "\n",
    "\n",
    "df2 = pd.DataFrame(data_list,columns=columns);\n",
    "\n",
    "print(df2);\n"
   ]
  },
  {
   "cell_type": "code",
   "execution_count": 23,
   "id": "bb14fc4f",
   "metadata": {},
   "outputs": [
    {
     "name": "stdout",
     "output_type": "stream",
     "text": [
      "0      Alice\n",
      "1        Bob\n",
      "2    Charlie\n",
      "3      David\n",
      "Name: name, dtype: object\n",
      "      name  age     city  salary\n",
      "2  Charlie   35  Chicago   75000\n",
      "3    David   40  Houston   90000\n",
      "0       New York\n",
      "1    Los Angeles\n",
      "2        Chicago\n",
      "3        Houston\n",
      "Name: city, dtype: object\n"
     ]
    }
   ],
   "source": [
    "All_Name = df2['name'];\n",
    "All_Age = df2[df2['age'] > 30];\n",
    "All_city = df2['city'];\n",
    "print(All_Name);\n",
    "print(All_Age);\n",
    "print(All_city);"
   ]
  },
  {
   "cell_type": "code",
   "execution_count": 31,
   "id": "b08b9485",
   "metadata": {},
   "outputs": [
    {
     "name": "stdout",
     "output_type": "stream",
     "text": [
      "      name      city  age\n",
      "0    Alice  New York   25\n",
      "2  Charlie   Chicago   35\n",
      "3    David   Houston   40\n"
     ]
    }
   ],
   "source": [
    "two_column = df2[(df2[\"age\"] > 30) | (df2[\"city\"] == \"New York\")][[\"name\",\"city\",\"age\"]];\n",
    "print(two_column);"
   ]
  },
  {
   "cell_type": "markdown",
   "id": "f597c0ca",
   "metadata": {},
   "source": [
    "#### creating column"
   ]
  },
  {
   "cell_type": "code",
   "execution_count": 48,
   "id": "8ec48bff",
   "metadata": {},
   "outputs": [
    {
     "name": "stdout",
     "output_type": "stream",
     "text": [
      "      name  age         city  salary designation\n",
      "0    Alice   25     New York   50000      doctor\n",
      "1      Bob   30  Los Angeles   60000         eng\n",
      "2  Charlie   35      Chicago   75000         doc\n",
      "3    David   40      Houston   90000         eng\n",
      "      name  age         city  salary\n",
      "0    Alice   25     New York   50000\n",
      "1      Bob   30  Los Angeles   60000\n",
      "2  Charlie   35      Chicago   75000\n",
      "3    David   40      Houston   90000\n"
     ]
    }
   ],
   "source": [
    "df2[\"designation\"] = [\"doctor\",\"eng\",\"doc\",\"eng\"];\n",
    "\n",
    "\n",
    "df2[[\"name\",\"city\",\"age\",\"designation\"]];\n",
    "\n",
    "print(df2);\n",
    "\n",
    "df2.drop(\"designation\",axis=1,inplace=True); # ye aab original se designation ko delete ker degaa\n",
    "\n",
    "print(df2)"
   ]
  },
  {
   "cell_type": "markdown",
   "id": "4a0ef833",
   "metadata": {},
   "source": [
    "### if i have to access the row then i can use df2.loc[0]"
   ]
  },
  {
   "cell_type": "code",
   "execution_count": 52,
   "id": "7f1b0c73",
   "metadata": {},
   "outputs": [
    {
     "name": "stdout",
     "output_type": "stream",
     "text": [
      "    name  age         city  salary\n",
      "0  Alice   25     New York   50000\n",
      "1    Bob   30  Los Angeles   60000\n"
     ]
    }
   ],
   "source": [
    "first_row = df2.loc[[0,1]];\n",
    "\n",
    "print(first_row);"
   ]
  },
  {
   "cell_type": "markdown",
   "id": "2985dcbc",
   "metadata": {},
   "source": [
    "### select subset"
   ]
  },
  {
   "cell_type": "code",
   "execution_count": 61,
   "id": "994f6389",
   "metadata": {},
   "outputs": [
    {
     "name": "stdout",
     "output_type": "stream",
     "text": [
      "          city  salary\n",
      "0     New York   50000\n",
      "1  Los Angeles   60000\n"
     ]
    }
   ],
   "source": [
    "subset = df2.loc[[0,1]][[\"city\",\"salary\"]];\n",
    "print(subset);"
   ]
  }
 ],
 "metadata": {
  "kernelspec": {
   "display_name": "Python 3",
   "language": "python",
   "name": "python3"
  },
  "language_info": {
   "codemirror_mode": {
    "name": "ipython",
    "version": 3
   },
   "file_extension": ".py",
   "mimetype": "text/x-python",
   "name": "python",
   "nbconvert_exporter": "python",
   "pygments_lexer": "ipython3",
   "version": "3.12.2"
  }
 },
 "nbformat": 4,
 "nbformat_minor": 5
}
