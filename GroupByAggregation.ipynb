{
 "cells": [
  {
   "cell_type": "markdown",
   "id": "37e8fe3d",
   "metadata": {},
   "source": [
    "## Aggregation function"
   ]
  },
  {
   "cell_type": "code",
   "execution_count": 6,
   "id": "cb953379",
   "metadata": {},
   "outputs": [
    {
     "name": "stdout",
     "output_type": "stream",
     "text": [
      "      Category    Store  Sales  Quantity       Date\n",
      "0  Electronics  Store A   2000         5 2025-07-01\n",
      "1  Electronics  Store B   2500         6 2025-07-02\n",
      "2     Clothing  Store A   1500         8 2025-07-01\n",
      "3     Clothing  Store B   1800         7 2025-07-02\n",
      "4      Grocery  Store A    800        20 2025-07-01\n",
      "5      Grocery  Store B    900        18 2025-07-02\n"
     ]
    }
   ],
   "source": [
    "import pandas as pd\n",
    "\n",
    "# Create sample data\n",
    "data = {\n",
    "    'Category': ['Electronics', 'Electronics', 'Clothing', 'Clothing', 'Grocery', 'Grocery'],\n",
    "    'Store': ['Store A', 'Store B', 'Store A', 'Store B', 'Store A', 'Store B'],\n",
    "    'Sales': [2000, 2500, 1500, 1800, 800, 900],\n",
    "    'Quantity': [5, 6, 8, 7, 20, 18],\n",
    "    'Date': pd.to_datetime([\n",
    "        '2025-07-01', '2025-07-02',\n",
    "        '2025-07-01', '2025-07-02',\n",
    "        '2025-07-01', '2025-07-02'\n",
    "    ])\n",
    "}\n",
    "\n",
    "# Create DataFrame\n",
    "df = pd.DataFrame(data)\n",
    "\n",
    "print(df)\n"
   ]
  },
  {
   "cell_type": "code",
   "execution_count": 7,
   "id": "e9700f2e",
   "metadata": {},
   "outputs": [
    {
     "data": {
      "text/html": [
       "<div>\n",
       "<style scoped>\n",
       "    .dataframe tbody tr th:only-of-type {\n",
       "        vertical-align: middle;\n",
       "    }\n",
       "\n",
       "    .dataframe tbody tr th {\n",
       "        vertical-align: top;\n",
       "    }\n",
       "\n",
       "    .dataframe thead th {\n",
       "        text-align: right;\n",
       "    }\n",
       "</style>\n",
       "<table border=\"1\" class=\"dataframe\">\n",
       "  <thead>\n",
       "    <tr style=\"text-align: right;\">\n",
       "      <th></th>\n",
       "      <th>Category</th>\n",
       "      <th>Store</th>\n",
       "      <th>Sales</th>\n",
       "      <th>Quantity</th>\n",
       "      <th>Date</th>\n",
       "    </tr>\n",
       "  </thead>\n",
       "  <tbody>\n",
       "    <tr>\n",
       "      <th>0</th>\n",
       "      <td>Electronics</td>\n",
       "      <td>Store A</td>\n",
       "      <td>2000</td>\n",
       "      <td>5</td>\n",
       "      <td>2025-07-01</td>\n",
       "    </tr>\n",
       "    <tr>\n",
       "      <th>1</th>\n",
       "      <td>Electronics</td>\n",
       "      <td>Store B</td>\n",
       "      <td>2500</td>\n",
       "      <td>6</td>\n",
       "      <td>2025-07-02</td>\n",
       "    </tr>\n",
       "    <tr>\n",
       "      <th>2</th>\n",
       "      <td>Clothing</td>\n",
       "      <td>Store A</td>\n",
       "      <td>1500</td>\n",
       "      <td>8</td>\n",
       "      <td>2025-07-01</td>\n",
       "    </tr>\n",
       "    <tr>\n",
       "      <th>3</th>\n",
       "      <td>Clothing</td>\n",
       "      <td>Store B</td>\n",
       "      <td>1800</td>\n",
       "      <td>7</td>\n",
       "      <td>2025-07-02</td>\n",
       "    </tr>\n",
       "    <tr>\n",
       "      <th>4</th>\n",
       "      <td>Grocery</td>\n",
       "      <td>Store A</td>\n",
       "      <td>800</td>\n",
       "      <td>20</td>\n",
       "      <td>2025-07-01</td>\n",
       "    </tr>\n",
       "    <tr>\n",
       "      <th>5</th>\n",
       "      <td>Grocery</td>\n",
       "      <td>Store B</td>\n",
       "      <td>900</td>\n",
       "      <td>18</td>\n",
       "      <td>2025-07-02</td>\n",
       "    </tr>\n",
       "  </tbody>\n",
       "</table>\n",
       "</div>"
      ],
      "text/plain": [
       "      Category    Store  Sales  Quantity       Date\n",
       "0  Electronics  Store A   2000         5 2025-07-01\n",
       "1  Electronics  Store B   2500         6 2025-07-02\n",
       "2     Clothing  Store A   1500         8 2025-07-01\n",
       "3     Clothing  Store B   1800         7 2025-07-02\n",
       "4      Grocery  Store A    800        20 2025-07-01\n",
       "5      Grocery  Store B    900        18 2025-07-02"
      ]
     },
     "execution_count": 7,
     "metadata": {},
     "output_type": "execute_result"
    }
   ],
   "source": [
    "df"
   ]
  },
  {
   "cell_type": "code",
   "execution_count": 8,
   "id": "a33bff75",
   "metadata": {},
   "outputs": [],
   "source": [
    "### group by category and calculate the sum of sales"
   ]
  },
  {
   "cell_type": "code",
   "execution_count": 13,
   "id": "f5d9ae98",
   "metadata": {},
   "outputs": [
    {
     "name": "stdout",
     "output_type": "stream",
     "text": [
      "Category\n",
      "Clothing       3300\n",
      "Electronics    4500\n",
      "Grocery        1700\n",
      "Name: Sales, dtype: int64\n",
      "Store\n",
      "Store A    4300\n",
      "Store B    5200\n",
      "Name: Sales, dtype: int64\n",
      "Store    Category   \n",
      "Store A  Clothing       1500\n",
      "         Electronics    2000\n",
      "         Grocery         800\n",
      "Store B  Clothing       1800\n",
      "         Electronics    2500\n",
      "         Grocery         900\n",
      "Name: Sales, dtype: int64\n"
     ]
    }
   ],
   "source": [
    "# sourcery skip: avoid-builtin-shadow\n",
    "\n",
    "cat = df.groupby('Category')['Sales'].sum();\n",
    "\n",
    "print(cat);\n",
    "\n",
    "\n",
    "str = df.groupby('Store')['Sales'].sum();\n",
    "\n",
    "print(str)\n",
    "\n",
    "\n",
    "multiple = df.groupby(['Store','Category'])['Sales'].sum();\n",
    "\n",
    "print(multiple);\n",
    "\n"
   ]
  },
  {
   "cell_type": "code",
   "execution_count": null,
   "id": "3b7b65f8",
   "metadata": {},
   "outputs": [],
   "source": [
    "### Aggregation function # mean,median,mode,standard deviation"
   ]
  },
  {
   "cell_type": "code",
   "execution_count": 19,
   "id": "96314619",
   "metadata": {},
   "outputs": [
    {
     "name": "stdout",
     "output_type": "stream",
     "text": [
      "1583.3333333333333\n",
      "0     800\n",
      "1     900\n",
      "2    1500\n",
      "3    1800\n",
      "4    2000\n",
      "5    2500\n",
      "Name: Sales, dtype: int64\n",
      "1650.0\n"
     ]
    }
   ],
   "source": [
    "print(df['Sales'].mean())\n",
    "print(df['Sales'].mode())\n",
    "print(df['Sales'].median())\n",
    "### mean,mode,median,max,min,count,std ###\n",
    "\n",
    "\n"
   ]
  },
  {
   "cell_type": "code",
   "execution_count": 23,
   "id": "4b656c6e",
   "metadata": {},
   "outputs": [
    {
     "name": "stdout",
     "output_type": "stream",
     "text": [
      "mean    1583.333333\n",
      "min      800.000000\n",
      "max     2500.000000\n",
      "Name: Sales, dtype: float64\n"
     ]
    }
   ],
   "source": [
    "print(df['Sales'].agg(['mean','min','max']));"
   ]
  },
  {
   "cell_type": "code",
   "execution_count": null,
   "id": "ea471818",
   "metadata": {},
   "outputs": [],
   "source": []
  }
 ],
 "metadata": {
  "kernelspec": {
   "display_name": "Python 3",
   "language": "python",
   "name": "python3"
  },
  "language_info": {
   "codemirror_mode": {
    "name": "ipython",
    "version": 3
   },
   "file_extension": ".py",
   "mimetype": "text/x-python",
   "name": "python",
   "nbconvert_exporter": "python",
   "pygments_lexer": "ipython3",
   "version": "3.12.2"
  }
 },
 "nbformat": 4,
 "nbformat_minor": 5
}
