{
 "cells": [
  {
   "cell_type": "markdown",
   "id": "e9c4d57e",
   "metadata": {},
   "source": [
    "#### step-1 import all the necessary library"
   ]
  },
  {
   "cell_type": "markdown",
   "id": "5d35d691",
   "metadata": {},
   "source": [
    "- import numpy as np;\n",
    "- import pandas as pd;\n",
    "- import seaborn as sns;\n",
    "- import matplotlib.pyplot as plt;\n",
    "- import warnings;\n",
    "\n",
    "- warnings.filterwarnings('ignore');"
   ]
  },
  {
   "cell_type": "markdown",
   "id": "d6e5dbf8",
   "metadata": {},
   "source": [
    "#### step-2 read the csv file"
   ]
  },
  {
   "cell_type": "markdown",
   "id": "05370665",
   "metadata": {},
   "source": [
    "- df = pd.read_csv('insurance.csv');"
   ]
  },
  {
   "cell_type": "markdown",
   "id": "66d5ac44",
   "metadata": {},
   "source": [
    "#### step-3 shape, top 5 element ,information,describer,columns,graph,correlation\n",
    "\n",
    "- df.shape\n",
    "- df.head()\n",
    "- df.info()\n",
    "- df.describer()\n",
    "- df.isnull().sum()\n",
    "- df.columns\n",
    "\n",
    "- numeric_columns = ['age','bmi','children','charges'];\n",
    "for col in numeric_columns:\n",
    "    plt.figure(figsize=(6,4))\n",
    "    sns.histplot(df[col],kde = True,bins = 20)\n",
    "\n",
    "- some count plot \n",
    "sns.countplot(x = df['children'])\n",
    "sns.countplot(x = df['smoker']);\n",
    "for col in numeric_columns:\n",
    "    plt.figure(figsize=(6,4));\n",
    "    sns.boxplot(x = df[col]); # some diagram having outlier (bmi,charges)\n",
    "\n",
    "\n",
    "\n",
    "\n"
   ]
  },
  {
   "cell_type": "markdown",
   "id": "688687c2",
   "metadata": {},
   "source": [
    "### step-4 data cleaning and preprocessing\n",
    "\n",
    "- df_cleaned = df.copy();\n",
    "- df_cleaned.drop_duplicates(inplace=True);\n",
    "\n",
    "- now all the model read only 0 and 1 \n",
    "\n",
    "##### label encoding \n",
    "1. print(df_cleaned['sex'].value_counts());\n",
    "2. df_cleaned['sex'] = df_cleaned['sex'].map({\"male\":0,\"female\":1});\n",
    "3. df_cleaned['smoker'].value_counts()\n",
    "4. df_cleaned['smoker'] = df_cleaned['smoker'].map({\"no\":0,\"yes\":1}); # label encoding\n",
    "\n",
    "5. rename column df_cleaned.rename(columns={'sex':'is_female','smoker':'is_smoker'},inplace=True);\n",
    "\n",
    "##### one hot coding \n",
    "1. df['region'].value_counts()\n",
    "2. df_cleaned = pd.get_dummies(df_cleaned,columns=['region'],drop_first=False);\n",
    "3. df_cleaned = df_cleaned.astype(int)\n",
    " \n",
    "\n",
    "\n",
    "\n"
   ]
  },
  {
   "cell_type": "markdown",
   "id": "e2dc4f10",
   "metadata": {},
   "source": [
    "### step-5 feature engineering and extraction \n",
    "<!-- ## Feature Engineering and extraction -->\n",
    "1. sns.histplot(df['bmi']);\n",
    "2. df_cleaned['bmi_category'] = pd.cut(\n",
    "    df_cleaned['bmi'],\n",
    "    bins=[0,18.5,24.9,29.9,float('inf')],\n",
    "    labels = ['Underweight','Normal','Overweight','Obese']\n",
    ");\n",
    "3. df_cleaned = pd.get_dummies(df_cleaned,columns=['bmi_category'],drop_first=False);\n",
    "4. if i have to drop any column df_cleaned.drop(columns=['bmi_category_Underweight','bmi_category_Normal','bmi_category_Overweight','bmi_category_Obese'], inplace=True)\n",
    "5. df_cleaned = df_cleaned.astype(int);\n",
    "\n",
    "\n"
   ]
  },
  {
   "cell_type": "markdown",
   "id": "ad1beb7b",
   "metadata": {},
   "source": [
    "#### step-6 scaling "
   ]
  },
  {
   "cell_type": "markdown",
   "id": "63deb3ae",
   "metadata": {},
   "source": [
    "##### Scaling is important for:\n",
    "\n",
    "1. Distance-based models (KNN, K-Means, PCA)\n",
    "\n",
    "2. Gradient-based models (Logistic Regression, Linear Regression, Neural Networks, SVM)\n",
    "\n",
    "3. Regularized models (Lasso, Ridge)\n",
    "\n",
    "- Because features with larger values can dominate the model if not scaled.\n",
    "\n",
    "##### Scaling is NOT needed much for:\n",
    "\n",
    "1. Tree-based models (Decision Tree, Random Forest, XGBoost, LightGBM)\n",
    "\n",
    "Because these algorithms split data based on thresholds, not distances.\n",
    "\n",
    "\n",
    "\n",
    "Example : If age values are [20, 30, 40]\n",
    "After scaling → [-1.22, 0, 1.22] (centered and rescaled).\n",
    "\n",
    "Code:\n",
    "\n",
    "- from sklearn.preprocessing import StandardScaler;\n",
    "- cols = ['age','bmi','children'];\n",
    "- scaler = StandardScaler()\n",
    "- df_cleaned[cols] = scaler.fit_transform(df_cleaned[cols])\n",
    "- print(df_cleaned.head());\n",
    "\n",
    "\n",
    "\n"
   ]
  },
  {
   "cell_type": "markdown",
   "id": "93222179",
   "metadata": {},
   "source": [
    "##### step-7 Feature Extraction  (using correlation)\n",
    "1. It helps you decide which features are useful for predicting your target.\n",
    "\n",
    "\n",
    "- selected_feature = [\n",
    "  -  'age', 'is_female', 'bmi', 'children', 'is_smoker', 'charges',\n",
    "  -  'region_northwest', 'region_southeast', 'region_southwest',\n",
    "  -  'bmi_category_Underweight', 'bmi_category_Normal',\n",
    "  -  'bmi_category_Overweight', 'bmi_category_Obese'\n",
    "- ]\n",
    "- df_selected = df_cleaned[selected_feature]\n",
    "- correlation_series = df_selected.corrwith(df_cleaned['charges']);\n",
    "- correlation_df = correlation_series.sort_values(ascending=False);\n",
    "- print(correlation_df);\n"
   ]
  },
  {
   "cell_type": "markdown",
   "id": "343641b1",
   "metadata": {},
   "source": [
    "##### using Categorical \n",
    "\n",
    "- cat_feature = [\n",
    "  -  'is_female', 'is_smoker',\n",
    "  -  'region_northwest', 'region_southeast', 'region_southwest',\n",
    "  -  'bmi_category_Underweight', 'bmi_category_Normal',\n",
    "  -  'bmi_category_Overweight', 'bmi_category_Obese'\n",
    "- ]\n",
    "\n",
    "- df_encoded = pd.get_dummies(df_cleaned[cat_feature], drop_first=False)\n",
    "\n",
    "- cat_corr = df_encoded.corrwith(df_cleaned['charges']).sort_values(ascending=False)\n",
    "\n",
    "- print(cat_corr)\n"
   ]
  },
  {
   "cell_type": "markdown",
   "id": "f2822e66",
   "metadata": {},
   "source": [
    "##### step-8 \n",
    "- final_df = df_cleaned[['age', 'is_female', 'bmi', 'children', 'is_smoker', 'charges','region_southeast','bmi_category_Obese']]"
   ]
  },
  {
   "cell_type": "markdown",
   "id": "d56be287",
   "metadata": {},
   "source": [
    "##### step-9 model training \n",
    "\n",
    "- from sklearn.model_selection import train_test_split\n",
    "\n",
    "- x = final_df.drop('charges',axis = 1); x is without charge\n",
    "- y = final_df['charges']; y is with charge \n",
    "\n",
    "- x_train,x_test,y_train,y_test = train_test_split(x,y,test_size=0.20,random_state=42) # 20 test and 80  it divide the data into 2 part 20 and 80\n",
    "\n",
    "\n",
    "\n",
    "\n",
    "\n",
    "\n"
   ]
  },
  {
   "cell_type": "markdown",
   "id": "cfda5de0",
   "metadata": {},
   "source": [
    "##### step-10 Linear Regression model\n",
    "\n",
    "- from sklearn.linear_model import LinearRegression\n",
    "- model = LinearRegression();\n",
    "- model.fit(x_train,y_train);  \n",
    "\n",
    "- y_pred = model.predict(x_test); model prediction \n",
    "- y_pred\n",
    "\n",
    "- y_test original output\n"
   ]
  },
  {
   "cell_type": "markdown",
   "id": "efd86418",
   "metadata": {},
   "source": [
    "##### step-11 check how much is a percent my model works \n",
    "\n",
    "- from sklearn.metrics import r2_score;\n",
    "- r2 = r2_score(y_test,y_pred);\n",
    "- r2\n",
    "\n",
    "- n= x_test.shape[0];\n",
    "- p = x_test.shape[1];\n",
    "\n",
    "- adjusted_r2 = 1- ((1-r2)*(n-1))/(n-p-1);\n",
    "- adjusted_r2;"
   ]
  },
  {
   "cell_type": "markdown",
   "id": "c23c59cf",
   "metadata": {},
   "source": [
    "##### these are the step i have to follow to follow in machine learning"
   ]
  },
  {
   "cell_type": "markdown",
   "id": "8064449a",
   "metadata": {},
   "source": []
  }
 ],
 "metadata": {
  "language_info": {
   "name": "python"
  }
 },
 "nbformat": 4,
 "nbformat_minor": 5
}
